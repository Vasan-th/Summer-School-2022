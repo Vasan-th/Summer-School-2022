{
  "nbformat": 4,
  "nbformat_minor": 0,
  "metadata": {
    "colab": {
      "name": "IntrotoDLpart2.ipynb",
      "provenance": [],
      "collapsed_sections": []
    },
    "kernelspec": {
      "name": "python3",
      "display_name": "Python 3"
    },
    "language_info": {
      "name": "python"
    }
  },
  "cells": [
    {
      "cell_type": "markdown",
      "source": [
        "### **Training A Perceptron**"
      ],
      "metadata": {
        "id": "rIEzhZu7XkSv"
      }
    },
    {
      "cell_type": "markdown",
      "source": [
        "Importing Necessary Libraries"
      ],
      "metadata": {
        "id": "Xaz9MUUqXwft"
      }
    },
    {
      "cell_type": "code",
      "execution_count": null,
      "metadata": {
        "id": "9eNX4GPkC1iS"
      },
      "outputs": [],
      "source": [
        "import numpy as np\n",
        "import pandas as pd\n",
        "import random\n",
        "import matplotlib.pyplot as plt"
      ]
    },
    {
      "cell_type": "markdown",
      "source": [
        "Defining a Perceptron class"
      ],
      "metadata": {
        "id": "YAOxv2nPX1DN"
      }
    },
    {
      "cell_type": "code",
      "source": [
        "class Perceptron():\n",
        "\n",
        "    def __init__(self):\n",
        "        self.weights = []\n",
        "        \n",
        "    def fit(self, X, y, learning_rate = 0.01, num_iteration = 100):\n",
        "        \n",
        "        (num_row, num_feature) = X.shape\n",
        "        \n",
        "        # Randomly initalize the weights\n",
        "        self.weights = np.random.rand(num_feature+1) \n",
        "\n",
        "        # Launch the training algorithm\n",
        "        for i in range(num_iteration):\n",
        "            \n",
        "            # Stochastic Gradient Descent\n",
        "            r_i = random.randint(0, num_row-1)\n",
        "            row = X[r_i,:] # take the random sample from the dataset\n",
        "            yhat = self.predict(row)\n",
        "            error = (y[r_i] - yhat) # estimate of the gradient\n",
        "            self.weights[0] = self.weights[0] + learning_rate*error*1 # first weight one is the bias\n",
        "\n",
        "            # Update all parameters after bias\n",
        "            for f_i in range(num_feature):\n",
        "                self.weights[f_i] = self.weights[f_i] + learning_rate*error*row[f_i]\n",
        "                \n",
        "            if i % 500 == 0:\n",
        "            #For visualizing the line every 500 steps  \n",
        "              if num_feature == 2:\n",
        "                w1 = self.weights[1]\n",
        "                w2 = self.weights[2]\n",
        "                b = self.weights[0]\n",
        "                x2 = np.linspace(-25, 25, 50)\n",
        "                y2 = [-1*((w1*i) + b)/w2 for i in x2]\n",
        "                plt.plot(x2, y2)\n",
        "                plt.ylim(-25, 25)\n",
        "                #plt.plot(X[:,0], X[:, 1], '.')\n",
        "                #plt.show()\n",
        "              \n",
        "              total_error = 0\n",
        "              for r_i in range(num_row):\n",
        "                  row = X[r_i,:]\n",
        "                  yhat = self.predict(row)\n",
        "                  error = (y[r_i] - yhat)\n",
        "                  total_error = total_error + error**2\n",
        "              mean_error = total_error/num_row\n",
        "              print(f\"Iteration {i} with error = {mean_error}\")\n",
        "            \n",
        "    def predict(self, row):\n",
        "            \n",
        "        # The activation start with the bias at weights == 0\n",
        "        activation = self.weights[0]\n",
        "        \n",
        "        # We iterate over the weights and the features in the given row\n",
        "        for weight, feature in zip(self.weights[1:], row):\n",
        "            activation = activation + weight*feature\n",
        "            \n",
        "        #Step Function Activation\n",
        "        if activation >= 0.0:\n",
        "            return 1.0\n",
        "        return 0.0"
      ],
      "metadata": {
        "id": "jVtrWht_DsV7"
      },
      "execution_count": null,
      "outputs": []
    },
    {
      "cell_type": "markdown",
      "source": [
        "Let's Create Some Data!"
      ],
      "metadata": {
        "id": "K5G49jltZoTI"
      }
    },
    {
      "cell_type": "code",
      "source": [
        "# Training Data 0, 50\n",
        "random.seed(50)\n",
        "data = [[], [], [], []]\n",
        "for j in range(4):\n",
        "  if(j==0):\n",
        "    data[j] = [random.randint(0, 25) for n in range(50)]\n",
        "  elif (j==2):\n",
        "    data[j] = [random.randint(-25, 0) for n in range(50)]\n",
        "  else:\n",
        "    data[j] = [random.randint(-25, 25) for n in range(50)]\n",
        "X = []\n",
        "\n",
        "for i in range(50):\n",
        "  X.append([data[0][i], data[1][i], 1])\n",
        "  X.append([data[2][i], data[3][i], 0])\n",
        "\n",
        "random.shuffle(X)\n",
        "X = np.array(X)\n",
        "y = X[:, 2]\n",
        "[x1, y1, x2, y2] = [np.array(p) for p in data]\n",
        "\n",
        "plt.plot(x1, y1, 'r.')\n",
        "plt.plot(x2, y2, 'y.')\n",
        "plt.show()\n",
        "\n",
        "#print(X[:, 0:2])\n",
        "#print(y)"
      ],
      "metadata": {
        "colab": {
          "base_uri": "https://localhost:8080/",
          "height": 265
        },
        "id": "2UYlsFfYJf73",
        "outputId": "b3ba5e93-6481-418b-b00a-6c9ef5fef9b9"
      },
      "execution_count": null,
      "outputs": [
        {
          "output_type": "display_data",
          "data": {
            "text/plain": [
              "<Figure size 432x288 with 1 Axes>"
            ],
            "image/png": "[encoded data removed]"
          },
          "metadata": {
            "needs_background": "light"
          }
        }
      ]
    },
    {
      "cell_type": "markdown",
      "source": [
        "Finally, some results"
      ],
      "metadata": {
        "id": "PAIMJiuEZvDm"
      }
    },
    {
      "cell_type": "code",
      "source": [
        "pcp = Perceptron()\n",
        "pcp.fit(X[:, 0:2] ,y, learning_rate = 0.1, num_iteration = 10000)\n",
        "\n",
        "plt.plot(x1, y1, 'r.')\n",
        "plt.plot(x2, y2, 'y.')\n",
        "plt.show()\n"
      ],
      "metadata": {
        "colab": {
          "base_uri": "https://localhost:8080/",
          "height": 612
        },
        "id": "60TlIBl1KeS-",
        "outputId": "4292dc0c-5ca6-42a3-a317-9570c8ae41fc"
      },
      "execution_count": null,
      "outputs": [
        {
          "output_type": "stream",
          "name": "stdout",
          "text": [
            "Iteration 0 with error = 0.25\n",
            "Iteration 500 with error = 0.04\n",
            "Iteration 1000 with error = 0.04\n",
            "Iteration 1500 with error = 0.04\n",
            "Iteration 2000 with error = 0.03\n",
            "Iteration 2500 with error = 0.02\n",
            "Iteration 3000 with error = 0.01\n",
            "Iteration 3500 with error = 0.01\n",
            "Iteration 4000 with error = 0.01\n",
            "Iteration 4500 with error = 0.01\n",
            "Iteration 5000 with error = 0.01\n",
            "Iteration 5500 with error = 0.01\n",
            "Iteration 6000 with error = 0.01\n",
            "Iteration 6500 with error = 0.01\n",
            "Iteration 7000 with error = 0.01\n",
            "Iteration 7500 with error = 0.01\n",
            "Iteration 8000 with error = 0.01\n",
            "Iteration 8500 with error = 0.01\n",
            "Iteration 9000 with error = 0.01\n",
            "Iteration 9500 with error = 0.01\n"
          ]
        },
        {
          "output_type": "display_data",
          "data": {
            "text/plain": [
              "<Figure size 432x288 with 1 Axes>"
            ],
            "image/png": "[encoded data removed]"
          },
          "metadata": {
            "needs_background": "light"
          }
        }
      ]
    },
    {
      "cell_type": "code",
      "execution_count": null,
      "metadata": {
        "id": "_KtW4CIuC5d_"
      },
      "outputs": [],
      "source": [
        "import torch\n",
        "import torch.nn as nn\n",
        "import torchvision\n",
        "import matplotlib.pyplot as plt\n",
        "\n",
        "import numpy as np\n",
        "import math\n",
        "from sklearn import datasets\n",
        "from sklearn.preprocessing import StandardScaler\n",
        "from sklearn.model_selection import train_test_split\n"
      ]
    },
    {
      "cell_type": "code",
      "source": [
        "diabetes = datasets.load_diabetes()\n",
        "X,Y = diabetes.data,diabetes.target\n",
        "\n",
        "\n",
        "x_in,x_test, y_out , y_test = train_test_split(X,Y,test_size = 0.2 ,random_state = 1234)\n",
        "sc = StandardScaler()\n",
        "x_in = sc.fit_transform(x_in)\n",
        "\n",
        "x_in = torch.from_numpy(x_in.astype(np.float32))\n",
        "y_out = torch.from_numpy(y_out.astype(np.float32))\n",
        "print(y_out.shape)\n",
        "print(x_in.shape)\n",
        "\n",
        "\n",
        "no_of_epochs = 1000\n",
        "learning_rate = 3e-4\n",
        "\n",
        "x_plot = np.arange(1, no_of_epochs + 1)\n",
        "y_plot = []"
      ],
      "metadata": {
        "id": "tw4j7W7zNeEP",
        "colab": {
          "base_uri": "https://localhost:8080/"
        },
        "outputId": "7f9a0697-312b-4f7f-ec44-45e0eb1afbd7"
      },
      "execution_count": null,
      "outputs": [
        {
          "output_type": "stream",
          "name": "stdout",
          "text": [
            "torch.Size([353])\n",
            "torch.Size([353, 10])\n"
          ]
        }
      ]
    },
    {
      "cell_type": "code",
      "source": [
        "class Net(nn.Module):\n",
        "    def __init__(self):\n",
        "        super(Net, self).__init__()\n",
        "        self.fc1 = nn.Linear(10, 10, bias = True)\n",
        "        self.fc2 = nn.Linear(10, 10, bias = True)\n",
        "        self.fc3 = nn.Linear(10, 1, bias = True)\n",
        "        self.relu = nn.ReLU()\n",
        "    \n",
        "    def forward(self, x):\n",
        "        x = self.fc1(x)\n",
        "        x = self.relu(x)\n",
        "        x = self.fc2(x)\n",
        "        x = self.relu(x)\n",
        "        x = self.fc3(x)\n",
        "        return x"
      ],
      "metadata": {
        "id": "-AyFYKVSbBTd"
      },
      "execution_count": null,
      "outputs": []
    },
    {
      "cell_type": "markdown",
      "source": [
        "Gradient Descent:"
      ],
      "metadata": {
        "id": "Q0AcA7wXccKS"
      }
    },
    {
      "cell_type": "code",
      "source": [
        "x_plot = np.arange(1, no_of_epochs + 1)\n",
        "y_plot = []\n",
        "\n",
        "model = Net()\n",
        "\n",
        "loss_function = nn.MSELoss()\n",
        "optimiser = torch.optim.SGD(model.parameters(), lr = learning_rate)\n",
        "\n",
        "pred = model(x_in)\n",
        "\n",
        "pred = torch.flatten(pred)\n",
        "\n",
        "\n",
        "\n",
        "loss = loss_function(pred, y_out)\n",
        "print(\"Error before training :\", loss.item())\n",
        "\n",
        "for i in range(no_of_epochs):\n",
        "    pred = model(x_in)\n",
        "    loss = loss_function(pred, y_out)\n",
        "    y_plot.append(loss.item())\n",
        "    optimiser.zero_grad()\n",
        "    loss.backward()\n",
        "    optimiser.step()\n",
        "\n",
        "pred = model(x_in)\n",
        "loss = loss_function(pred, y_out)\n",
        "print(\"Error after training :\", loss.item())\n",
        "\n",
        "y_plot = np.array(y_plot)\n",
        "plt.plot(x_plot,y_plot)\n",
        "plt.title(\"Error vs Epoch\")\n",
        "plt.xlabel(\"Number of Epochs\")\n",
        "plt.ylabel(\"Error\")\n",
        "plt.show()"
      ],
      "metadata": {
        "colab": {
          "base_uri": "https://localhost:8080/",
          "height": 384
        },
        "id": "2nyTCk_PcaMa",
        "outputId": "ba0785d4-820a-4d4f-c053-60f23e0d8ce8"
      },
      "execution_count": null,
      "outputs": [
        {
          "output_type": "stream",
          "name": "stdout",
          "text": [
            "Error before training : 29246.08984375\n"
          ]
        },
        {
          "output_type": "stream",
          "name": "stderr",
          "text": [
            "/usr/local/lib/python3.7/dist-packages/torch/nn/modules/loss.py:530: UserWarning: Using a target size (torch.Size([353])) that is different to the input size (torch.Size([353, 1])). This will likely lead to incorrect results due to broadcasting. Please ensure they have the same size.\n",
            "  return F.mse_loss(input, target, reduction=self.reduction)\n"
          ]
        },
        {
          "output_type": "stream",
          "name": "stdout",
          "text": [
            "Error after training : 6028.83203125\n"
          ]
        },
        {
          "output_type": "display_data",
          "data": {
            "text/plain": [
              "<Figure size 432x288 with 1 Axes>"
            ],
            "image/png": "[encoded data removed]"
          },
          "metadata": {
            "needs_background": "light"
          }
        }
      ]
    },
    {
      "cell_type": "code",
      "source": [
        "model = Net()\n",
        "\n",
        "no_of_epochs = 1000\n",
        "\n",
        "x_plot = np.arange(1, no_of_epochs + 1)\n",
        "y_plot = []\n",
        "\n",
        "loss_function = nn.MSELoss()\n",
        "optimiser = torch.optim.SGD(model.parameters(), lr = learning_rate)\n",
        "\n",
        "batch_size = 1\n",
        "n_batches = int(len(x_in) / batch_size)\n",
        "\n",
        "pred = model(x_in)\n",
        "loss = loss_function(pred, y_out)\n",
        "print(\"Error before training :\", loss.item())\n",
        "\n",
        "for epoch in range(no_of_epochs):\n",
        "    for batch in range(n_batches):\n",
        "        batch_X, batch_y = x_in[batch*batch_size:(batch+1)*batch_size,], y_out[batch*batch_size:(batch+1)*batch_size,]\n",
        "        pred = model(batch_X)\n",
        "        loss = loss_function(pred, batch_y)\n",
        "        optimiser.zero_grad()\n",
        "        loss.backward()\n",
        "        optimiser.step()\n",
        "    pred = model(x_in)\n",
        "    loss = loss_function(pred, y_out)\n",
        "    y_plot.append(loss.item())\n",
        "\n",
        "pred = model(x_in)\n",
        "loss = loss_function(pred, y_out)\n",
        "print(\"Error after training :\", loss.item())\n",
        "\n",
        "y_plot = np.array(y_plot)\n",
        "plt.plot(x_plot,y_plot)\n",
        "plt.title(\"Error vs Epoch\")\n",
        "plt.xlabel(\"Number of Epochs\")\n",
        "plt.ylabel(\"Error\")\n",
        "plt.show()"
      ],
      "metadata": {
        "id": "JW7m2N2sh5rN",
        "colab": {
          "base_uri": "https://localhost:8080/",
          "height": 419
        },
        "outputId": "1c430ccb-45e8-4948-8beb-a2c81a1102c0"
      },
      "execution_count": null,
      "outputs": [
        {
          "output_type": "stream",
          "name": "stderr",
          "text": [
            "/usr/local/lib/python3.7/dist-packages/torch/nn/modules/loss.py:530: UserWarning: Using a target size (torch.Size([353])) that is different to the input size (torch.Size([353, 1])). This will likely lead to incorrect results due to broadcasting. Please ensure they have the same size.\n",
            "  return F.mse_loss(input, target, reduction=self.reduction)\n",
            "/usr/local/lib/python3.7/dist-packages/torch/nn/modules/loss.py:530: UserWarning: Using a target size (torch.Size([1])) that is different to the input size (torch.Size([1, 1])). This will likely lead to incorrect results due to broadcasting. Please ensure they have the same size.\n",
            "  return F.mse_loss(input, target, reduction=self.reduction)\n"
          ]
        },
        {
          "output_type": "stream",
          "name": "stdout",
          "text": [
            "Error before training : 29179.740234375\n",
            "Error after training : 6028.720703125\n"
          ]
        },
        {
          "output_type": "display_data",
          "data": {
            "text/plain": [
              "<Figure size 432x288 with 1 Axes>"
            ],
            "image/png": "[encoded data removed]"
          },
          "metadata": {
            "needs_background": "light"
          }
        }
      ]
    },
    {
      "cell_type": "markdown",
      "source": [
        "Mini Batch Gradient Descent: "
      ],
      "metadata": {
        "id": "1y-1ZVbtMPFj"
      }
    },
    {
      "cell_type": "code",
      "source": [
        "no_of_epochs = 1000\n",
        "\n",
        "x_plot = np.arange(1, no_of_epochs + 1)\n",
        "y_plot = []\n",
        "\n",
        "model = Net()\n",
        "\n",
        "loss_function = nn.MSELoss()\n",
        "optimiser = torch.optim.SGD(model.parameters(), lr = learning_rate)\n",
        "\n",
        "batch_size = 16\n",
        "n_batches = int(len(x_in) / batch_size)\n",
        "\n",
        "pred = model(x_in)\n",
        "loss = loss_function(pred, y_out)\n",
        "print(\"Error before training :\", loss.item())\n",
        "\n",
        "for epoch in range(no_of_epochs):\n",
        "    for batch in range(n_batches):\n",
        "        batch_X, batch_y = x_in[batch*batch_size:(batch+1)*batch_size,], y_out[batch*batch_size:(batch+1)*batch_size,]\n",
        "        pred = model(batch_X)\n",
        "        loss = loss_function(pred, batch_y)\n",
        "        optimiser.zero_grad()\n",
        "        loss.backward()\n",
        "        optimiser.step()\n",
        "    pred = model(x_in)\n",
        "    loss = loss_function(pred, y_out)\n",
        "    y_plot.append(loss.item())\n",
        "\n",
        "pred = model(x_in)\n",
        "loss = loss_function(pred, y_out)\n",
        "print(\"Error after training :\", loss.item())\n",
        "\n",
        "y_plot = np.array(y_plot)\n",
        "plt.plot(x_plot,y_plot)\n",
        "plt.title(\"Error vs Epoch\")\n",
        "plt.xlabel(\"Number of Epochs\")\n",
        "plt.ylabel(\"Error\")\n",
        "plt.show()"
      ],
      "metadata": {
        "id": "LKcVHGpjL6eW",
        "colab": {
          "base_uri": "https://localhost:8080/",
          "height": 419
        },
        "outputId": "8533e2eb-680c-43bb-adcb-a42f80cca6d8"
      },
      "execution_count": null,
      "outputs": [
        {
          "output_type": "stream",
          "name": "stderr",
          "text": [
            "/usr/local/lib/python3.7/dist-packages/torch/nn/modules/loss.py:530: UserWarning: Using a target size (torch.Size([353])) that is different to the input size (torch.Size([353, 1])). This will likely lead to incorrect results due to broadcasting. Please ensure they have the same size.\n",
            "  return F.mse_loss(input, target, reduction=self.reduction)\n",
            "/usr/local/lib/python3.7/dist-packages/torch/nn/modules/loss.py:530: UserWarning: Using a target size (torch.Size([16])) that is different to the input size (torch.Size([16, 1])). This will likely lead to incorrect results due to broadcasting. Please ensure they have the same size.\n",
            "  return F.mse_loss(input, target, reduction=self.reduction)\n"
          ]
        },
        {
          "output_type": "stream",
          "name": "stdout",
          "text": [
            "Error before training : 29134.841796875\n",
            "Error after training : 6251.7685546875\n"
          ]
        },
        {
          "output_type": "display_data",
          "data": {
            "text/plain": [
              "<Figure size 432x288 with 1 Axes>"
            ],
            "image/png": "[encoded data removed]"
          },
          "metadata": {
            "needs_background": "light"
          }
        }
      ]
    },
    {
      "cell_type": "markdown",
      "source": [
        "SGD with momentum:"
      ],
      "metadata": {
        "id": "yUmv_wv7errG"
      }
    },
    {
      "cell_type": "code",
      "source": [
        "no_of_epochs = 1000\n",
        "\n",
        "x_plot = np.arange(1, no_of_epochs + 1)\n",
        "y_plot = []\n",
        "\n",
        "model = Net()\n",
        "\n",
        "loss_function = nn.MSELoss() \n",
        "optimiser = torch.optim.SGD(model.parameters(), lr = learning_rate, momentum = 0.9)\n",
        "\n",
        "batch_size = 16\n",
        "n_batches = int(len(x_in) / batch_size)\n",
        "\n",
        "pred = model(x_in)\n",
        "loss = loss_function(pred, y_out)\n",
        "print(\"Error before training :\", loss.item())\n",
        "\n",
        "for epoch in range(no_of_epochs):\n",
        "    for batch in range(n_batches):\n",
        "        batch_X, batch_y = x_in[batch*batch_size:(batch+1)*batch_size,], y_out[batch*batch_size:(batch+1)*batch_size,]\n",
        "        pred = model(batch_X)\n",
        "        loss = loss_function(pred, batch_y)\n",
        "        optimiser.zero_grad()\n",
        "        loss.backward()\n",
        "        optimiser.step()\n",
        "    pred = model(x_in)\n",
        "    loss = loss_function(pred, y_out)\n",
        "    y_plot.append(loss.item())\n",
        "\n",
        "pred = model(x_in)\n",
        "loss = loss_function(pred, y_out)\n",
        "print(\"Error after training :\", loss.item())\n",
        "\n",
        "y_plot = np.array(y_plot)\n",
        "plt.plot(x_plot,y_plot)\n",
        "plt.title(\"Error vs Epoch\")\n",
        "plt.xlabel(\"Number of Epochs\")\n",
        "plt.ylabel(\"Error\")\n",
        "plt.show()"
      ],
      "metadata": {
        "id": "bAKb1gPednra",
        "colab": {
          "base_uri": "https://localhost:8080/",
          "height": 419
        },
        "outputId": "88ff0244-7d09-4dee-dfba-e49021786ebb"
      },
      "execution_count": null,
      "outputs": [
        {
          "output_type": "stream",
          "name": "stderr",
          "text": [
            "/usr/local/lib/python3.7/dist-packages/torch/nn/modules/loss.py:530: UserWarning: Using a target size (torch.Size([353])) that is different to the input size (torch.Size([353, 1])). This will likely lead to incorrect results due to broadcasting. Please ensure they have the same size.\n",
            "  return F.mse_loss(input, target, reduction=self.reduction)\n",
            "/usr/local/lib/python3.7/dist-packages/torch/nn/modules/loss.py:530: UserWarning: Using a target size (torch.Size([16])) that is different to the input size (torch.Size([16, 1])). This will likely lead to incorrect results due to broadcasting. Please ensure they have the same size.\n",
            "  return F.mse_loss(input, target, reduction=self.reduction)\n"
          ]
        },
        {
          "output_type": "stream",
          "name": "stdout",
          "text": [
            "Error before training : 29322.392578125\n",
            "Error after training : 6062.55419921875\n"
          ]
        },
        {
          "output_type": "display_data",
          "data": {
            "text/plain": [
              "<Figure size 432x288 with 1 Axes>"
            ],
            "image/png": "[encoded data removed]"
          },
          "metadata": {
            "needs_background": "light"
          }
        }
      ]
    },
    {
      "cell_type": "markdown",
      "source": [
        "RMSprop:"
      ],
      "metadata": {
        "id": "r8RwBrQSwDLV"
      }
    },
    {
      "cell_type": "code",
      "source": [
        "x_plot = np.arange(1, no_of_epochs + 1)\n",
        "y_plot = []\n",
        "\n",
        "model = Net()\n",
        "\n",
        "loss_function = nn.MSELoss()\n",
        "optimiser = torch.optim.RMSprop(model.parameters(), lr = learning_rate, alpha = 0.9, eps = 1e-7)\n",
        "\n",
        "batch_size = 16\n",
        "n_batches = int(len(x_in) / batch_size)\n",
        "\n",
        "pred = model(x_in)\n",
        "loss = loss_function(pred, y_out)\n",
        "print(\"Error before training :\", loss.item())\n",
        "\n",
        "for epoch in range(no_of_epochs):\n",
        "    for batch in range(n_batches):\n",
        "        batch_X, batch_y = x_in[batch*batch_size:(batch+1)*batch_size,], y_out[batch*batch_size:(batch+1)*batch_size,]\n",
        "        pred = model(batch_X)\n",
        "        loss = loss_function(pred, batch_y)\n",
        "        optimiser.zero_grad()\n",
        "        loss.backward()\n",
        "        optimiser.step()\n",
        "    pred = model(x_in)\n",
        "    loss = loss_function(pred, y_out)\n",
        "    y_plot.append(loss.item())\n",
        "\n",
        "pred = model(x_in)\n",
        "loss = loss_function(pred, y_out)\n",
        "print(\"Error after training :\", loss.item())\n",
        "\n",
        "y_plot = np.array(y_plot)\n",
        "plt.plot(x_plot,y_plot)\n",
        "plt.title(\"Error vs Epoch\")\n",
        "plt.xlabel(\"Number of Epochs\")\n",
        "plt.ylabel(\"Error\")\n",
        "plt.show()"
      ],
      "metadata": {
        "id": "HhvJH1t3sx6P",
        "colab": {
          "base_uri": "https://localhost:8080/",
          "height": 419
        },
        "outputId": "9f16c84f-e408-406c-a030-1d9a0a6c2b99"
      },
      "execution_count": null,
      "outputs": [
        {
          "output_type": "stream",
          "name": "stderr",
          "text": [
            "/usr/local/lib/python3.7/dist-packages/torch/nn/modules/loss.py:530: UserWarning: Using a target size (torch.Size([353])) that is different to the input size (torch.Size([353, 1])). This will likely lead to incorrect results due to broadcasting. Please ensure they have the same size.\n",
            "  return F.mse_loss(input, target, reduction=self.reduction)\n",
            "/usr/local/lib/python3.7/dist-packages/torch/nn/modules/loss.py:530: UserWarning: Using a target size (torch.Size([16])) that is different to the input size (torch.Size([16, 1])). This will likely lead to incorrect results due to broadcasting. Please ensure they have the same size.\n",
            "  return F.mse_loss(input, target, reduction=self.reduction)\n"
          ]
        },
        {
          "output_type": "stream",
          "name": "stdout",
          "text": [
            "Error before training : 29177.888671875\n",
            "Error after training : 6091.81103515625\n"
          ]
        },
        {
          "output_type": "display_data",
          "data": {
            "text/plain": [
              "<Figure size 432x288 with 1 Axes>"
            ],
            "image/png": "[encoded data removed]"
          },
          "metadata": {
            "needs_background": "light"
          }
        }
      ]
    },
    {
      "cell_type": "markdown",
      "source": [
        "Adagrad:"
      ],
      "metadata": {
        "id": "h8dHw8k6wHyY"
      }
    },
    {
      "cell_type": "code",
      "source": [
        "x_plot = np.arange(1, no_of_epochs + 1)\n",
        "y_plot = []\n",
        "\n",
        "model = Net()\n",
        "\n",
        "loss_function = nn.MSELoss()\n",
        "optimiser = torch.optim.Adagrad(model.parameters(), lr = learning_rate, eps = 1e-7)\n",
        "\n",
        "batch_size = 16\n",
        "n_batches = int(len(x_in) / batch_size)\n",
        "\n",
        "pred = model(x_in)\n",
        "loss = loss_function(pred, y_out)\n",
        "print(\"Error before training :\", loss.item())\n",
        "\n",
        "for epoch in range(no_of_epochs):\n",
        "    for batch in range(n_batches):\n",
        "        batch_X, batch_y = x_in[batch*batch_size:(batch+1)*batch_size,], y_out[batch*batch_size:(batch+1)*batch_size,]\n",
        "        pred = model(batch_X)\n",
        "        loss = loss_function(pred, batch_y)\n",
        "        optimiser.zero_grad()\n",
        "        loss.backward()\n",
        "        optimiser.step()\n",
        "    pred = model(x_in)\n",
        "    loss = loss_function(pred, y_out)\n",
        "    y_plot.append(loss.item())\n",
        "\n",
        "pred = model(x_in)\n",
        "loss = loss_function(pred, y_out)\n",
        "print(\"Error after training :\", loss.item())\n",
        "\n",
        "y_plot = np.array(y_plot)\n",
        "plt.plot(x_plot,y_plot)\n",
        "plt.title(\"Error vs Epoch\")\n",
        "plt.xlabel(\"Number of Epochs\")\n",
        "plt.ylabel(\"Error\")\n",
        "plt.show()"
      ],
      "metadata": {
        "id": "EVV01cc-syBp",
        "colab": {
          "base_uri": "https://localhost:8080/",
          "height": 419
        },
        "outputId": "7488f5a8-ee9a-4d64-a4fa-e62223d18e34"
      },
      "execution_count": null,
      "outputs": [
        {
          "output_type": "stream",
          "name": "stderr",
          "text": [
            "/usr/local/lib/python3.7/dist-packages/torch/nn/modules/loss.py:530: UserWarning: Using a target size (torch.Size([353])) that is different to the input size (torch.Size([353, 1])). This will likely lead to incorrect results due to broadcasting. Please ensure they have the same size.\n",
            "  return F.mse_loss(input, target, reduction=self.reduction)\n",
            "/usr/local/lib/python3.7/dist-packages/torch/nn/modules/loss.py:530: UserWarning: Using a target size (torch.Size([16])) that is different to the input size (torch.Size([16, 1])). This will likely lead to incorrect results due to broadcasting. Please ensure they have the same size.\n",
            "  return F.mse_loss(input, target, reduction=self.reduction)\n"
          ]
        },
        {
          "output_type": "stream",
          "name": "stdout",
          "text": [
            "Error before training : 29179.17578125\n",
            "Error after training : 28953.17578125\n"
          ]
        },
        {
          "output_type": "display_data",
          "data": {
            "text/plain": [
              "<Figure size 432x288 with 1 Axes>"
            ],
            "image/png": "[encoded data removed]"
          },
          "metadata": {
            "needs_background": "light"
          }
        }
      ]
    },
    {
      "cell_type": "markdown",
      "source": [
        "Adadelta:"
      ],
      "metadata": {
        "id": "XJgtGj6zwXKk"
      }
    },
    {
      "cell_type": "code",
      "source": [
        "no_of_epochs = 1000\n",
        "\n",
        "x_plot = np.arange(1, no_of_epochs + 1)\n",
        "y_plot = []\n",
        "\n",
        "model = Net()\n",
        "\n",
        "loss_function = nn.MSELoss()\n",
        "optimiser = torch.optim.Adadelta(model.parameters(), lr = learning_rate, rho = 0.9, eps = 1e-7)\n",
        "\n",
        "batch_size = 16\n",
        "n_batches = int(len(x_in) / batch_size)\n",
        "\n",
        "pred = model(x_in)\n",
        "loss = loss_function(pred, y_out)\n",
        "print(\"Error before training :\", loss.item())\n",
        "\n",
        "for epoch in range(no_of_epochs):\n",
        "    for batch in range(n_batches):\n",
        "        batch_X, batch_y = x_in[batch*batch_size:(batch+1)*batch_size,], y_out[batch*batch_size:(batch+1)*batch_size,]\n",
        "        pred = model(batch_X)\n",
        "        loss = loss_function(pred, batch_y)\n",
        "        optimiser.zero_grad()\n",
        "        loss.backward()\n",
        "        optimiser.step()\n",
        "    pred = model(x_in)\n",
        "    loss = loss_function(pred, y_out)\n",
        "    y_plot.append(loss.item())\n",
        "\n",
        "pred = model(x_in)\n",
        "loss = loss_function(pred, y_out)\n",
        "print(\"Error after training :\", loss.item())\n",
        "\n",
        "y_plot = np.array(y_plot)\n",
        "plt.plot(x_plot,y_plot)\n",
        "plt.title(\"Error vs Epoch\")\n",
        "plt.xlabel(\"Number of Epochs\")\n",
        "plt.ylabel(\"Error\")\n",
        "plt.show()"
      ],
      "metadata": {
        "id": "Fltic5UTwYoA"
      },
      "execution_count": null,
      "outputs": []
    },
    {
      "cell_type": "markdown",
      "source": [
        "Adam:"
      ],
      "metadata": {
        "id": "G4tzk5NpPD2O"
      }
    },
    {
      "cell_type": "code",
      "source": [
        "no_of_epochs = 1000\n",
        "\n",
        "x_plot = np.arange(1, no_of_epochs + 1)\n",
        "y_plot = []\n",
        "\n",
        "model = Net()\n",
        "\n",
        "loss_function = nn.MSELoss()\n",
        "optimiser = torch.optim.Adam(model.parameters(), lr = learning_rate)\n",
        "\n",
        "batch_size = 16\n",
        "n_batches = int(len(x_in) / batch_size)\n",
        "\n",
        "pred = model(x_in)\n",
        "loss = loss_function(pred, y_out)\n",
        "print(\"Error before training :\", loss.item())\n",
        "\n",
        "for epoch in range(no_of_epochs):\n",
        "    for batch in range(n_batches):\n",
        "        batch_X, batch_y = x_in[batch*batch_size:(batch+1)*batch_size,], y_out[batch*batch_size:(batch+1)*batch_size,]\n",
        "        pred = model(batch_X)\n",
        "        loss = loss_function(pred, batch_y)\n",
        "        optimiser.zero_grad()\n",
        "        loss.backward()\n",
        "        optimiser.step()\n",
        "    pred = model(x_in)\n",
        "    loss = loss_function(pred, y_out)\n",
        "    y_plot.append(loss.item())\n",
        "\n",
        "pred = model(x_in)\n",
        "loss = loss_function(pred, y_out)\n",
        "print(\"Error after training :\", loss.item())\n",
        "\n",
        "y_plot = np.array(y_plot)\n",
        "plt.plot(x_plot,y_plot)\n",
        "plt.title(\"Error vs Epoch\")\n",
        "plt.xlabel(\"Number of Epochs\")\n",
        "plt.ylabel(\"Error\")\n",
        "plt.show()"
      ],
      "metadata": {
        "id": "OUCmqdNzPDCW"
      },
      "execution_count": null,
      "outputs": []
    }
  ]
}