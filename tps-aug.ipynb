{
 "cells": [
  {
   "cell_type": "code",
   "execution_count": 1,
   "id": "acbc361c",
   "metadata": {
    "_cell_guid": "b1076dfc-b9ad-4769-8c92-a6c4dae69d19",
    "_uuid": "8f2839f25d086af736a60e9eeb907d3b93b6e0e5",
    "execution": {
     "iopub.execute_input": "2022-08-08T16:53:40.551679Z",
     "iopub.status.busy": "2022-08-08T16:53:40.551020Z",
     "iopub.status.idle": "2022-08-08T16:53:40.570759Z",
     "shell.execute_reply": "2022-08-08T16:53:40.569422Z"
    },
    "papermill": {
     "duration": 0.033098,
     "end_time": "2022-08-08T16:53:40.574831",
     "exception": false,
     "start_time": "2022-08-08T16:53:40.541733",
     "status": "completed"
    },
    "tags": []
   },
   "outputs": [
    {
     "name": "stdout",
     "output_type": "stream",
     "text": [
      "/kaggle/input/tabular-playground-series-aug-2022/sample_submission.csv\n",
      "/kaggle/input/tabular-playground-series-aug-2022/train.csv\n",
      "/kaggle/input/tabular-playground-series-aug-2022/test.csv\n"
     ]
    }
   ],
   "source": [
    "# This Python 3 environment comes with many helpful analytics libraries installed\n",
    "# It is defined by the kaggle/python Docker image: https://github.com/kaggle/docker-python\n",
    "# For example, here's several helpful packages to load\n",
    "\n",
    "import numpy as np # linear algebra\n",
    "import pandas as pd # data processing, CSV file I/O (e.g. pd.read_csv)\n",
    "\n",
    "# Input data files are available in the read-only \"../input/\" directory\n",
    "# For example, running this (by clicking run or pressing Shift+Enter) will list all files under the input directory\n",
    "\n",
    "import os\n",
    "for dirname, _, filenames in os.walk('/kaggle/input'):\n",
    "    for filename in filenames:\n",
    "        print(os.path.join(dirname, filename))\n",
    "\n",
    "# You can write up to 20GB to the current directory (/kaggle/working/) that gets preserved as output when you create a version using \"Save & Run All\" \n",
    "# You can also write temporary files to /kaggle/temp/, but they won't be saved outside of the current session"
   ]
  },
  {
   "cell_type": "code",
   "execution_count": 2,
   "id": "97b3180f",
   "metadata": {
    "execution": {
     "iopub.execute_input": "2022-08-08T16:53:40.590212Z",
     "iopub.status.busy": "2022-08-08T16:53:40.589063Z",
     "iopub.status.idle": "2022-08-08T16:53:40.930383Z",
     "shell.execute_reply": "2022-08-08T16:53:40.928782Z"
    },
    "papermill": {
     "duration": 0.351375,
     "end_time": "2022-08-08T16:53:40.933230",
     "exception": false,
     "start_time": "2022-08-08T16:53:40.581855",
     "status": "completed"
    },
    "tags": []
   },
   "outputs": [
    {
     "name": "stdout",
     "output_type": "stream",
     "text": [
      "train_shape: (26570, 26)\n",
      "test_shape: (20775, 25)\n"
     ]
    }
   ],
   "source": [
    "#loading train and test set\n",
    "train = pd.read_csv(\"/kaggle/input/tabular-playground-series-aug-2022/train.csv\")\n",
    "test = pd.read_csv(\"/kaggle/input/tabular-playground-series-aug-2022/test.csv\")\n",
    "print(\"train_shape:\",train.shape)\n",
    "print(\"test_shape:\", test.shape)"
   ]
  },
  {
   "cell_type": "code",
   "execution_count": 3,
   "id": "7108710a",
   "metadata": {
    "execution": {
     "iopub.execute_input": "2022-08-08T16:53:40.947311Z",
     "iopub.status.busy": "2022-08-08T16:53:40.946828Z",
     "iopub.status.idle": "2022-08-08T16:53:40.985866Z",
     "shell.execute_reply": "2022-08-08T16:53:40.983788Z"
    },
    "papermill": {
     "duration": 0.05176,
     "end_time": "2022-08-08T16:53:40.990897",
     "exception": false,
     "start_time": "2022-08-08T16:53:40.939137",
     "status": "completed"
    },
    "tags": []
   },
   "outputs": [
    {
     "name": "stdout",
     "output_type": "stream",
     "text": [
      "<class 'pandas.core.frame.DataFrame'>\n",
      "RangeIndex: 26570 entries, 0 to 26569\n",
      "Data columns (total 26 columns):\n",
      " #   Column          Non-Null Count  Dtype  \n",
      "---  ------          --------------  -----  \n",
      " 0   id              26570 non-null  int64  \n",
      " 1   product_code    26570 non-null  object \n",
      " 2   loading         26320 non-null  float64\n",
      " 3   attribute_0     26570 non-null  object \n",
      " 4   attribute_1     26570 non-null  object \n",
      " 5   attribute_2     26570 non-null  int64  \n",
      " 6   attribute_3     26570 non-null  int64  \n",
      " 7   measurement_0   26570 non-null  int64  \n",
      " 8   measurement_1   26570 non-null  int64  \n",
      " 9   measurement_2   26570 non-null  int64  \n",
      " 10  measurement_3   26189 non-null  float64\n",
      " 11  measurement_4   26032 non-null  float64\n",
      " 12  measurement_5   25894 non-null  float64\n",
      " 13  measurement_6   25774 non-null  float64\n",
      " 14  measurement_7   25633 non-null  float64\n",
      " 15  measurement_8   25522 non-null  float64\n",
      " 16  measurement_9   25343 non-null  float64\n",
      " 17  measurement_10  25270 non-null  float64\n",
      " 18  measurement_11  25102 non-null  float64\n",
      " 19  measurement_12  24969 non-null  float64\n",
      " 20  measurement_13  24796 non-null  float64\n",
      " 21  measurement_14  24696 non-null  float64\n",
      " 22  measurement_15  24561 non-null  float64\n",
      " 23  measurement_16  24460 non-null  float64\n",
      " 24  measurement_17  24286 non-null  float64\n",
      " 25  failure         26570 non-null  int64  \n",
      "dtypes: float64(16), int64(7), object(3)\n",
      "memory usage: 5.3+ MB\n"
     ]
    }
   ],
   "source": [
    "#info on train set\n",
    "train.info()"
   ]
  },
  {
   "cell_type": "markdown",
   "id": "4a88a81d",
   "metadata": {
    "papermill": {
     "duration": 0.005703,
     "end_time": "2022-08-08T16:53:41.002752",
     "exception": false,
     "start_time": "2022-08-08T16:53:40.997049",
     "status": "completed"
    },
    "tags": []
   },
   "source": [
    "From the above information, a significant amount of missing values were present in the given data"
   ]
  },
  {
   "cell_type": "code",
   "execution_count": 4,
   "id": "15e71dcc",
   "metadata": {
    "execution": {
     "iopub.execute_input": "2022-08-08T16:53:41.016994Z",
     "iopub.status.busy": "2022-08-08T16:53:41.016207Z",
     "iopub.status.idle": "2022-08-08T16:53:41.036391Z",
     "shell.execute_reply": "2022-08-08T16:53:41.034458Z"
    },
    "papermill": {
     "duration": 0.031761,
     "end_time": "2022-08-08T16:53:41.040495",
     "exception": false,
     "start_time": "2022-08-08T16:53:41.008734",
     "status": "completed"
    },
    "tags": []
   },
   "outputs": [
    {
     "name": "stdout",
     "output_type": "stream",
     "text": [
      "<class 'pandas.core.frame.DataFrame'>\n",
      "RangeIndex: 20775 entries, 0 to 20774\n",
      "Data columns (total 25 columns):\n",
      " #   Column          Non-Null Count  Dtype  \n",
      "---  ------          --------------  -----  \n",
      " 0   id              20775 non-null  int64  \n",
      " 1   product_code    20775 non-null  object \n",
      " 2   loading         20552 non-null  float64\n",
      " 3   attribute_0     20775 non-null  object \n",
      " 4   attribute_1     20775 non-null  object \n",
      " 5   attribute_2     20775 non-null  int64  \n",
      " 6   attribute_3     20775 non-null  int64  \n",
      " 7   measurement_0   20775 non-null  int64  \n",
      " 8   measurement_1   20775 non-null  int64  \n",
      " 9   measurement_2   20775 non-null  int64  \n",
      " 10  measurement_3   20446 non-null  float64\n",
      " 11  measurement_4   20366 non-null  float64\n",
      " 12  measurement_5   20267 non-null  float64\n",
      " 13  measurement_6   20151 non-null  float64\n",
      " 14  measurement_7   20055 non-null  float64\n",
      " 15  measurement_8   19929 non-null  float64\n",
      " 16  measurement_9   19871 non-null  float64\n",
      " 17  measurement_10  19708 non-null  float64\n",
      " 18  measurement_11  19639 non-null  float64\n",
      " 19  measurement_12  19535 non-null  float64\n",
      " 20  measurement_13  19472 non-null  float64\n",
      " 21  measurement_14  19335 non-null  float64\n",
      " 22  measurement_15  19233 non-null  float64\n",
      " 23  measurement_16  19097 non-null  float64\n",
      " 24  measurement_17  19035 non-null  float64\n",
      "dtypes: float64(16), int64(6), object(3)\n",
      "memory usage: 4.0+ MB\n"
     ]
    }
   ],
   "source": [
    "#info on test set\n",
    "test.info()"
   ]
  },
  {
   "cell_type": "markdown",
   "id": "8c0335c6",
   "metadata": {
    "papermill": {
     "duration": 0.00575,
     "end_time": "2022-08-08T16:53:41.052616",
     "exception": false,
     "start_time": "2022-08-08T16:53:41.046866",
     "status": "completed"
    },
    "tags": []
   },
   "source": [
    "Same goes for test set as well..."
   ]
  },
  {
   "cell_type": "code",
   "execution_count": 5,
   "id": "6b18106e",
   "metadata": {
    "execution": {
     "iopub.execute_input": "2022-08-08T16:53:41.066998Z",
     "iopub.status.busy": "2022-08-08T16:53:41.065962Z",
     "iopub.status.idle": "2022-08-08T16:53:42.471359Z",
     "shell.execute_reply": "2022-08-08T16:53:42.469912Z"
    },
    "papermill": {
     "duration": 1.416073,
     "end_time": "2022-08-08T16:53:42.474699",
     "exception": false,
     "start_time": "2022-08-08T16:53:41.058626",
     "status": "completed"
    },
    "tags": []
   },
   "outputs": [],
   "source": [
    "import matplotlib.pyplot as plt\n",
    "import seaborn as sns\n",
    "import sklearn as skl"
   ]
  },
  {
   "cell_type": "code",
   "execution_count": 6,
   "id": "2ee5fc88",
   "metadata": {
    "execution": {
     "iopub.execute_input": "2022-08-08T16:53:42.490137Z",
     "iopub.status.busy": "2022-08-08T16:53:42.489475Z",
     "iopub.status.idle": "2022-08-08T16:53:42.501282Z",
     "shell.execute_reply": "2022-08-08T16:53:42.500253Z"
    },
    "papermill": {
     "duration": 0.022965,
     "end_time": "2022-08-08T16:53:42.504184",
     "exception": false,
     "start_time": "2022-08-08T16:53:42.481219",
     "status": "completed"
    },
    "tags": []
   },
   "outputs": [
    {
     "data": {
      "text/plain": [
       "0    20921\n",
       "1     5649\n",
       "Name: failure, dtype: int64"
      ]
     },
     "execution_count": 6,
     "metadata": {},
     "output_type": "execute_result"
    }
   ],
   "source": [
    "#distribution of target feature\n",
    "train_y = train['failure']\n",
    "train_y.value_counts()"
   ]
  },
  {
   "cell_type": "code",
   "execution_count": 7,
   "id": "f74cf99b",
   "metadata": {
    "execution": {
     "iopub.execute_input": "2022-08-08T16:53:42.520357Z",
     "iopub.status.busy": "2022-08-08T16:53:42.518961Z",
     "iopub.status.idle": "2022-08-08T16:53:42.562821Z",
     "shell.execute_reply": "2022-08-08T16:53:42.561531Z"
    },
    "papermill": {
     "duration": 0.054655,
     "end_time": "2022-08-08T16:53:42.565537",
     "exception": false,
     "start_time": "2022-08-08T16:53:42.510882",
     "status": "completed"
    },
    "tags": []
   },
   "outputs": [
    {
     "data": {
      "text/html": [
       "<div>\n",
       "<style scoped>\n",
       "    .dataframe tbody tr th:only-of-type {\n",
       "        vertical-align: middle;\n",
       "    }\n",
       "\n",
       "    .dataframe tbody tr th {\n",
       "        vertical-align: top;\n",
       "    }\n",
       "\n",
       "    .dataframe thead th {\n",
       "        text-align: right;\n",
       "    }\n",
       "</style>\n",
       "<table border=\"1\" class=\"dataframe\">\n",
       "  <thead>\n",
       "    <tr style=\"text-align: right;\">\n",
       "      <th></th>\n",
       "      <th>id</th>\n",
       "      <th>product_code</th>\n",
       "      <th>loading</th>\n",
       "      <th>attribute_0</th>\n",
       "      <th>attribute_1</th>\n",
       "      <th>attribute_2</th>\n",
       "      <th>attribute_3</th>\n",
       "      <th>measurement_0</th>\n",
       "      <th>measurement_1</th>\n",
       "      <th>measurement_2</th>\n",
       "      <th>...</th>\n",
       "      <th>measurement_9</th>\n",
       "      <th>measurement_10</th>\n",
       "      <th>measurement_11</th>\n",
       "      <th>measurement_12</th>\n",
       "      <th>measurement_13</th>\n",
       "      <th>measurement_14</th>\n",
       "      <th>measurement_15</th>\n",
       "      <th>measurement_16</th>\n",
       "      <th>measurement_17</th>\n",
       "      <th>failure</th>\n",
       "    </tr>\n",
       "  </thead>\n",
       "  <tbody>\n",
       "    <tr>\n",
       "      <th>26493</th>\n",
       "      <td>26493</td>\n",
       "      <td>E</td>\n",
       "      <td>143.87</td>\n",
       "      <td>material_7</td>\n",
       "      <td>material_6</td>\n",
       "      <td>6</td>\n",
       "      <td>9</td>\n",
       "      <td>5</td>\n",
       "      <td>9</td>\n",
       "      <td>5</td>\n",
       "      <td>...</td>\n",
       "      <td>10.962</td>\n",
       "      <td>14.646</td>\n",
       "      <td>17.873</td>\n",
       "      <td>10.974</td>\n",
       "      <td>15.298</td>\n",
       "      <td>15.824</td>\n",
       "      <td>14.615</td>\n",
       "      <td>16.285</td>\n",
       "      <td>747.263</td>\n",
       "      <td>0</td>\n",
       "    </tr>\n",
       "    <tr>\n",
       "      <th>24662</th>\n",
       "      <td>24662</td>\n",
       "      <td>E</td>\n",
       "      <td>58.22</td>\n",
       "      <td>material_7</td>\n",
       "      <td>material_6</td>\n",
       "      <td>6</td>\n",
       "      <td>9</td>\n",
       "      <td>4</td>\n",
       "      <td>10</td>\n",
       "      <td>2</td>\n",
       "      <td>...</td>\n",
       "      <td>12.375</td>\n",
       "      <td>17.365</td>\n",
       "      <td>21.018</td>\n",
       "      <td>10.203</td>\n",
       "      <td>14.391</td>\n",
       "      <td>16.955</td>\n",
       "      <td>17.212</td>\n",
       "      <td>14.004</td>\n",
       "      <td>847.228</td>\n",
       "      <td>0</td>\n",
       "    </tr>\n",
       "    <tr>\n",
       "      <th>25693</th>\n",
       "      <td>25693</td>\n",
       "      <td>E</td>\n",
       "      <td>88.50</td>\n",
       "      <td>material_7</td>\n",
       "      <td>material_6</td>\n",
       "      <td>6</td>\n",
       "      <td>9</td>\n",
       "      <td>9</td>\n",
       "      <td>11</td>\n",
       "      <td>7</td>\n",
       "      <td>...</td>\n",
       "      <td>11.796</td>\n",
       "      <td>14.643</td>\n",
       "      <td>19.354</td>\n",
       "      <td>11.271</td>\n",
       "      <td>16.011</td>\n",
       "      <td>16.033</td>\n",
       "      <td>13.526</td>\n",
       "      <td>17.605</td>\n",
       "      <td>NaN</td>\n",
       "      <td>0</td>\n",
       "    </tr>\n",
       "    <tr>\n",
       "      <th>2396</th>\n",
       "      <td>2396</td>\n",
       "      <td>A</td>\n",
       "      <td>108.29</td>\n",
       "      <td>material_7</td>\n",
       "      <td>material_8</td>\n",
       "      <td>9</td>\n",
       "      <td>5</td>\n",
       "      <td>17</td>\n",
       "      <td>4</td>\n",
       "      <td>3</td>\n",
       "      <td>...</td>\n",
       "      <td>10.032</td>\n",
       "      <td>NaN</td>\n",
       "      <td>21.274</td>\n",
       "      <td>13.014</td>\n",
       "      <td>17.017</td>\n",
       "      <td>13.952</td>\n",
       "      <td>15.486</td>\n",
       "      <td>NaN</td>\n",
       "      <td>622.860</td>\n",
       "      <td>1</td>\n",
       "    </tr>\n",
       "    <tr>\n",
       "      <th>7898</th>\n",
       "      <td>7898</td>\n",
       "      <td>B</td>\n",
       "      <td>72.68</td>\n",
       "      <td>material_5</td>\n",
       "      <td>material_5</td>\n",
       "      <td>8</td>\n",
       "      <td>8</td>\n",
       "      <td>9</td>\n",
       "      <td>20</td>\n",
       "      <td>7</td>\n",
       "      <td>...</td>\n",
       "      <td>12.550</td>\n",
       "      <td>13.304</td>\n",
       "      <td>NaN</td>\n",
       "      <td>13.073</td>\n",
       "      <td>17.417</td>\n",
       "      <td>17.508</td>\n",
       "      <td>NaN</td>\n",
       "      <td>17.625</td>\n",
       "      <td>655.093</td>\n",
       "      <td>0</td>\n",
       "    </tr>\n",
       "    <tr>\n",
       "      <th>10704</th>\n",
       "      <td>10704</td>\n",
       "      <td>C</td>\n",
       "      <td>127.01</td>\n",
       "      <td>material_7</td>\n",
       "      <td>material_8</td>\n",
       "      <td>5</td>\n",
       "      <td>8</td>\n",
       "      <td>7</td>\n",
       "      <td>4</td>\n",
       "      <td>9</td>\n",
       "      <td>...</td>\n",
       "      <td>10.437</td>\n",
       "      <td>15.371</td>\n",
       "      <td>15.277</td>\n",
       "      <td>14.475</td>\n",
       "      <td>15.084</td>\n",
       "      <td>14.081</td>\n",
       "      <td>13.348</td>\n",
       "      <td>14.571</td>\n",
       "      <td>636.178</td>\n",
       "      <td>0</td>\n",
       "    </tr>\n",
       "    <tr>\n",
       "      <th>20133</th>\n",
       "      <td>20133</td>\n",
       "      <td>D</td>\n",
       "      <td>118.17</td>\n",
       "      <td>material_7</td>\n",
       "      <td>material_5</td>\n",
       "      <td>6</td>\n",
       "      <td>6</td>\n",
       "      <td>3</td>\n",
       "      <td>10</td>\n",
       "      <td>9</td>\n",
       "      <td>...</td>\n",
       "      <td>13.393</td>\n",
       "      <td>17.580</td>\n",
       "      <td>20.268</td>\n",
       "      <td>11.659</td>\n",
       "      <td>15.013</td>\n",
       "      <td>17.171</td>\n",
       "      <td>16.498</td>\n",
       "      <td>15.622</td>\n",
       "      <td>567.771</td>\n",
       "      <td>0</td>\n",
       "    </tr>\n",
       "    <tr>\n",
       "      <th>23937</th>\n",
       "      <td>23937</td>\n",
       "      <td>E</td>\n",
       "      <td>161.66</td>\n",
       "      <td>material_7</td>\n",
       "      <td>material_6</td>\n",
       "      <td>6</td>\n",
       "      <td>9</td>\n",
       "      <td>4</td>\n",
       "      <td>7</td>\n",
       "      <td>2</td>\n",
       "      <td>...</td>\n",
       "      <td>11.167</td>\n",
       "      <td>16.352</td>\n",
       "      <td>18.990</td>\n",
       "      <td>9.266</td>\n",
       "      <td>16.240</td>\n",
       "      <td>18.407</td>\n",
       "      <td>13.890</td>\n",
       "      <td>14.701</td>\n",
       "      <td>589.139</td>\n",
       "      <td>1</td>\n",
       "    </tr>\n",
       "    <tr>\n",
       "      <th>205</th>\n",
       "      <td>205</td>\n",
       "      <td>A</td>\n",
       "      <td>109.37</td>\n",
       "      <td>material_7</td>\n",
       "      <td>material_8</td>\n",
       "      <td>9</td>\n",
       "      <td>5</td>\n",
       "      <td>6</td>\n",
       "      <td>3</td>\n",
       "      <td>5</td>\n",
       "      <td>...</td>\n",
       "      <td>11.386</td>\n",
       "      <td>17.227</td>\n",
       "      <td>19.500</td>\n",
       "      <td>13.446</td>\n",
       "      <td>13.663</td>\n",
       "      <td>17.043</td>\n",
       "      <td>11.871</td>\n",
       "      <td>14.305</td>\n",
       "      <td>NaN</td>\n",
       "      <td>0</td>\n",
       "    </tr>\n",
       "    <tr>\n",
       "      <th>249</th>\n",
       "      <td>249</td>\n",
       "      <td>A</td>\n",
       "      <td>134.09</td>\n",
       "      <td>material_7</td>\n",
       "      <td>material_8</td>\n",
       "      <td>9</td>\n",
       "      <td>5</td>\n",
       "      <td>8</td>\n",
       "      <td>6</td>\n",
       "      <td>10</td>\n",
       "      <td>...</td>\n",
       "      <td>11.655</td>\n",
       "      <td>15.217</td>\n",
       "      <td>20.033</td>\n",
       "      <td>13.572</td>\n",
       "      <td>16.264</td>\n",
       "      <td>17.226</td>\n",
       "      <td>13.980</td>\n",
       "      <td>16.706</td>\n",
       "      <td>722.190</td>\n",
       "      <td>0</td>\n",
       "    </tr>\n",
       "  </tbody>\n",
       "</table>\n",
       "<p>10 rows × 26 columns</p>\n",
       "</div>"
      ],
      "text/plain": [
       "          id product_code  loading attribute_0 attribute_1  attribute_2  \\\n",
       "26493  26493            E   143.87  material_7  material_6            6   \n",
       "24662  24662            E    58.22  material_7  material_6            6   \n",
       "25693  25693            E    88.50  material_7  material_6            6   \n",
       "2396    2396            A   108.29  material_7  material_8            9   \n",
       "7898    7898            B    72.68  material_5  material_5            8   \n",
       "10704  10704            C   127.01  material_7  material_8            5   \n",
       "20133  20133            D   118.17  material_7  material_5            6   \n",
       "23937  23937            E   161.66  material_7  material_6            6   \n",
       "205      205            A   109.37  material_7  material_8            9   \n",
       "249      249            A   134.09  material_7  material_8            9   \n",
       "\n",
       "       attribute_3  measurement_0  measurement_1  measurement_2  ...  \\\n",
       "26493            9              5              9              5  ...   \n",
       "24662            9              4             10              2  ...   \n",
       "25693            9              9             11              7  ...   \n",
       "2396             5             17              4              3  ...   \n",
       "7898             8              9             20              7  ...   \n",
       "10704            8              7              4              9  ...   \n",
       "20133            6              3             10              9  ...   \n",
       "23937            9              4              7              2  ...   \n",
       "205              5              6              3              5  ...   \n",
       "249              5              8              6             10  ...   \n",
       "\n",
       "       measurement_9  measurement_10  measurement_11  measurement_12  \\\n",
       "26493         10.962          14.646          17.873          10.974   \n",
       "24662         12.375          17.365          21.018          10.203   \n",
       "25693         11.796          14.643          19.354          11.271   \n",
       "2396          10.032             NaN          21.274          13.014   \n",
       "7898          12.550          13.304             NaN          13.073   \n",
       "10704         10.437          15.371          15.277          14.475   \n",
       "20133         13.393          17.580          20.268          11.659   \n",
       "23937         11.167          16.352          18.990           9.266   \n",
       "205           11.386          17.227          19.500          13.446   \n",
       "249           11.655          15.217          20.033          13.572   \n",
       "\n",
       "       measurement_13  measurement_14  measurement_15  measurement_16  \\\n",
       "26493          15.298          15.824          14.615          16.285   \n",
       "24662          14.391          16.955          17.212          14.004   \n",
       "25693          16.011          16.033          13.526          17.605   \n",
       "2396           17.017          13.952          15.486             NaN   \n",
       "7898           17.417          17.508             NaN          17.625   \n",
       "10704          15.084          14.081          13.348          14.571   \n",
       "20133          15.013          17.171          16.498          15.622   \n",
       "23937          16.240          18.407          13.890          14.701   \n",
       "205            13.663          17.043          11.871          14.305   \n",
       "249            16.264          17.226          13.980          16.706   \n",
       "\n",
       "       measurement_17  failure  \n",
       "26493         747.263        0  \n",
       "24662         847.228        0  \n",
       "25693             NaN        0  \n",
       "2396          622.860        1  \n",
       "7898          655.093        0  \n",
       "10704         636.178        0  \n",
       "20133         567.771        0  \n",
       "23937         589.139        1  \n",
       "205               NaN        0  \n",
       "249           722.190        0  \n",
       "\n",
       "[10 rows x 26 columns]"
      ]
     },
     "execution_count": 7,
     "metadata": {},
     "output_type": "execute_result"
    }
   ],
   "source": [
    "train.sample(10)"
   ]
  },
  {
   "cell_type": "code",
   "execution_count": 8,
   "id": "380ae755",
   "metadata": {
    "execution": {
     "iopub.execute_input": "2022-08-08T16:53:42.582588Z",
     "iopub.status.busy": "2022-08-08T16:53:42.581388Z",
     "iopub.status.idle": "2022-08-08T16:53:42.710757Z",
     "shell.execute_reply": "2022-08-08T16:53:42.709290Z"
    },
    "papermill": {
     "duration": 0.140753,
     "end_time": "2022-08-08T16:53:42.713616",
     "exception": false,
     "start_time": "2022-08-08T16:53:42.572863",
     "status": "completed"
    },
    "tags": []
   },
   "outputs": [
    {
     "data": {
      "text/html": [
       "<div>\n",
       "<style scoped>\n",
       "    .dataframe tbody tr th:only-of-type {\n",
       "        vertical-align: middle;\n",
       "    }\n",
       "\n",
       "    .dataframe tbody tr th {\n",
       "        vertical-align: top;\n",
       "    }\n",
       "\n",
       "    .dataframe thead th {\n",
       "        text-align: right;\n",
       "    }\n",
       "</style>\n",
       "<table border=\"1\" class=\"dataframe\">\n",
       "  <thead>\n",
       "    <tr style=\"text-align: right;\">\n",
       "      <th></th>\n",
       "      <th>id</th>\n",
       "      <th>loading</th>\n",
       "      <th>attribute_2</th>\n",
       "      <th>attribute_3</th>\n",
       "      <th>measurement_0</th>\n",
       "      <th>measurement_1</th>\n",
       "      <th>measurement_2</th>\n",
       "      <th>measurement_3</th>\n",
       "      <th>measurement_4</th>\n",
       "      <th>measurement_5</th>\n",
       "      <th>...</th>\n",
       "      <th>measurement_8</th>\n",
       "      <th>measurement_9</th>\n",
       "      <th>measurement_10</th>\n",
       "      <th>measurement_11</th>\n",
       "      <th>measurement_12</th>\n",
       "      <th>measurement_13</th>\n",
       "      <th>measurement_14</th>\n",
       "      <th>measurement_15</th>\n",
       "      <th>measurement_16</th>\n",
       "      <th>measurement_17</th>\n",
       "    </tr>\n",
       "  </thead>\n",
       "  <tbody>\n",
       "    <tr>\n",
       "      <th>count</th>\n",
       "      <td>26570.000000</td>\n",
       "      <td>26320.000000</td>\n",
       "      <td>26570.000000</td>\n",
       "      <td>26570.000000</td>\n",
       "      <td>26570.000000</td>\n",
       "      <td>26570.000000</td>\n",
       "      <td>26570.000000</td>\n",
       "      <td>26189.000000</td>\n",
       "      <td>26032.000000</td>\n",
       "      <td>25894.000000</td>\n",
       "      <td>...</td>\n",
       "      <td>25522.000000</td>\n",
       "      <td>25343.000000</td>\n",
       "      <td>25270.000000</td>\n",
       "      <td>25102.000000</td>\n",
       "      <td>24969.000000</td>\n",
       "      <td>24796.000000</td>\n",
       "      <td>24696.000000</td>\n",
       "      <td>24561.000000</td>\n",
       "      <td>24460.000000</td>\n",
       "      <td>24286.000000</td>\n",
       "    </tr>\n",
       "    <tr>\n",
       "      <th>mean</th>\n",
       "      <td>13284.500000</td>\n",
       "      <td>127.826233</td>\n",
       "      <td>6.754046</td>\n",
       "      <td>7.240459</td>\n",
       "      <td>7.415883</td>\n",
       "      <td>8.232518</td>\n",
       "      <td>6.256568</td>\n",
       "      <td>17.791528</td>\n",
       "      <td>11.731988</td>\n",
       "      <td>17.127804</td>\n",
       "      <td>...</td>\n",
       "      <td>19.024714</td>\n",
       "      <td>11.430725</td>\n",
       "      <td>16.117711</td>\n",
       "      <td>19.172085</td>\n",
       "      <td>11.702464</td>\n",
       "      <td>15.652904</td>\n",
       "      <td>16.048444</td>\n",
       "      <td>14.995554</td>\n",
       "      <td>16.460727</td>\n",
       "      <td>701.269059</td>\n",
       "    </tr>\n",
       "    <tr>\n",
       "      <th>std</th>\n",
       "      <td>7670.242662</td>\n",
       "      <td>39.030020</td>\n",
       "      <td>1.471852</td>\n",
       "      <td>1.456493</td>\n",
       "      <td>4.116690</td>\n",
       "      <td>4.199401</td>\n",
       "      <td>3.309109</td>\n",
       "      <td>1.001200</td>\n",
       "      <td>0.996085</td>\n",
       "      <td>0.996414</td>\n",
       "      <td>...</td>\n",
       "      <td>1.008591</td>\n",
       "      <td>0.999137</td>\n",
       "      <td>1.405978</td>\n",
       "      <td>1.520785</td>\n",
       "      <td>1.488838</td>\n",
       "      <td>1.155247</td>\n",
       "      <td>1.491923</td>\n",
       "      <td>1.549226</td>\n",
       "      <td>1.708935</td>\n",
       "      <td>123.304161</td>\n",
       "    </tr>\n",
       "    <tr>\n",
       "      <th>min</th>\n",
       "      <td>0.000000</td>\n",
       "      <td>33.160000</td>\n",
       "      <td>5.000000</td>\n",
       "      <td>5.000000</td>\n",
       "      <td>0.000000</td>\n",
       "      <td>0.000000</td>\n",
       "      <td>0.000000</td>\n",
       "      <td>13.968000</td>\n",
       "      <td>8.008000</td>\n",
       "      <td>12.073000</td>\n",
       "      <td>...</td>\n",
       "      <td>15.217000</td>\n",
       "      <td>7.537000</td>\n",
       "      <td>9.323000</td>\n",
       "      <td>12.461000</td>\n",
       "      <td>5.167000</td>\n",
       "      <td>10.890000</td>\n",
       "      <td>9.140000</td>\n",
       "      <td>9.104000</td>\n",
       "      <td>9.701000</td>\n",
       "      <td>196.787000</td>\n",
       "    </tr>\n",
       "    <tr>\n",
       "      <th>25%</th>\n",
       "      <td>6642.250000</td>\n",
       "      <td>99.987500</td>\n",
       "      <td>6.000000</td>\n",
       "      <td>6.000000</td>\n",
       "      <td>4.000000</td>\n",
       "      <td>5.000000</td>\n",
       "      <td>4.000000</td>\n",
       "      <td>17.117000</td>\n",
       "      <td>11.051000</td>\n",
       "      <td>16.443000</td>\n",
       "      <td>...</td>\n",
       "      <td>18.340250</td>\n",
       "      <td>10.757000</td>\n",
       "      <td>15.209000</td>\n",
       "      <td>18.170000</td>\n",
       "      <td>10.703000</td>\n",
       "      <td>14.890000</td>\n",
       "      <td>15.057000</td>\n",
       "      <td>13.957000</td>\n",
       "      <td>15.268000</td>\n",
       "      <td>618.961500</td>\n",
       "    </tr>\n",
       "    <tr>\n",
       "      <th>50%</th>\n",
       "      <td>13284.500000</td>\n",
       "      <td>122.390000</td>\n",
       "      <td>6.000000</td>\n",
       "      <td>8.000000</td>\n",
       "      <td>7.000000</td>\n",
       "      <td>8.000000</td>\n",
       "      <td>6.000000</td>\n",
       "      <td>17.787000</td>\n",
       "      <td>11.733000</td>\n",
       "      <td>17.132000</td>\n",
       "      <td>...</td>\n",
       "      <td>19.021000</td>\n",
       "      <td>11.430000</td>\n",
       "      <td>16.127000</td>\n",
       "      <td>19.211500</td>\n",
       "      <td>11.717000</td>\n",
       "      <td>15.628500</td>\n",
       "      <td>16.040000</td>\n",
       "      <td>14.969000</td>\n",
       "      <td>16.436000</td>\n",
       "      <td>701.024500</td>\n",
       "    </tr>\n",
       "    <tr>\n",
       "      <th>75%</th>\n",
       "      <td>19926.750000</td>\n",
       "      <td>149.152500</td>\n",
       "      <td>8.000000</td>\n",
       "      <td>8.000000</td>\n",
       "      <td>10.000000</td>\n",
       "      <td>11.000000</td>\n",
       "      <td>8.000000</td>\n",
       "      <td>18.469000</td>\n",
       "      <td>12.410000</td>\n",
       "      <td>17.805000</td>\n",
       "      <td>...</td>\n",
       "      <td>19.708000</td>\n",
       "      <td>12.102000</td>\n",
       "      <td>17.025000</td>\n",
       "      <td>20.207000</td>\n",
       "      <td>12.709000</td>\n",
       "      <td>16.374000</td>\n",
       "      <td>17.082000</td>\n",
       "      <td>16.018000</td>\n",
       "      <td>17.628000</td>\n",
       "      <td>784.090250</td>\n",
       "    </tr>\n",
       "    <tr>\n",
       "      <th>max</th>\n",
       "      <td>26569.000000</td>\n",
       "      <td>385.860000</td>\n",
       "      <td>9.000000</td>\n",
       "      <td>9.000000</td>\n",
       "      <td>29.000000</td>\n",
       "      <td>29.000000</td>\n",
       "      <td>24.000000</td>\n",
       "      <td>21.499000</td>\n",
       "      <td>16.484000</td>\n",
       "      <td>21.425000</td>\n",
       "      <td>...</td>\n",
       "      <td>23.807000</td>\n",
       "      <td>15.412000</td>\n",
       "      <td>22.479000</td>\n",
       "      <td>25.640000</td>\n",
       "      <td>17.663000</td>\n",
       "      <td>22.713000</td>\n",
       "      <td>22.303000</td>\n",
       "      <td>21.626000</td>\n",
       "      <td>24.094000</td>\n",
       "      <td>1312.794000</td>\n",
       "    </tr>\n",
       "  </tbody>\n",
       "</table>\n",
       "<p>8 rows × 22 columns</p>\n",
       "</div>"
      ],
      "text/plain": [
       "                 id       loading   attribute_2   attribute_3  measurement_0  \\\n",
       "count  26570.000000  26320.000000  26570.000000  26570.000000   26570.000000   \n",
       "mean   13284.500000    127.826233      6.754046      7.240459       7.415883   \n",
       "std     7670.242662     39.030020      1.471852      1.456493       4.116690   \n",
       "min        0.000000     33.160000      5.000000      5.000000       0.000000   \n",
       "25%     6642.250000     99.987500      6.000000      6.000000       4.000000   \n",
       "50%    13284.500000    122.390000      6.000000      8.000000       7.000000   \n",
       "75%    19926.750000    149.152500      8.000000      8.000000      10.000000   \n",
       "max    26569.000000    385.860000      9.000000      9.000000      29.000000   \n",
       "\n",
       "       measurement_1  measurement_2  measurement_3  measurement_4  \\\n",
       "count   26570.000000   26570.000000   26189.000000   26032.000000   \n",
       "mean        8.232518       6.256568      17.791528      11.731988   \n",
       "std         4.199401       3.309109       1.001200       0.996085   \n",
       "min         0.000000       0.000000      13.968000       8.008000   \n",
       "25%         5.000000       4.000000      17.117000      11.051000   \n",
       "50%         8.000000       6.000000      17.787000      11.733000   \n",
       "75%        11.000000       8.000000      18.469000      12.410000   \n",
       "max        29.000000      24.000000      21.499000      16.484000   \n",
       "\n",
       "       measurement_5  ...  measurement_8  measurement_9  measurement_10  \\\n",
       "count   25894.000000  ...   25522.000000   25343.000000    25270.000000   \n",
       "mean       17.127804  ...      19.024714      11.430725       16.117711   \n",
       "std         0.996414  ...       1.008591       0.999137        1.405978   \n",
       "min        12.073000  ...      15.217000       7.537000        9.323000   \n",
       "25%        16.443000  ...      18.340250      10.757000       15.209000   \n",
       "50%        17.132000  ...      19.021000      11.430000       16.127000   \n",
       "75%        17.805000  ...      19.708000      12.102000       17.025000   \n",
       "max        21.425000  ...      23.807000      15.412000       22.479000   \n",
       "\n",
       "       measurement_11  measurement_12  measurement_13  measurement_14  \\\n",
       "count    25102.000000    24969.000000    24796.000000    24696.000000   \n",
       "mean        19.172085       11.702464       15.652904       16.048444   \n",
       "std          1.520785        1.488838        1.155247        1.491923   \n",
       "min         12.461000        5.167000       10.890000        9.140000   \n",
       "25%         18.170000       10.703000       14.890000       15.057000   \n",
       "50%         19.211500       11.717000       15.628500       16.040000   \n",
       "75%         20.207000       12.709000       16.374000       17.082000   \n",
       "max         25.640000       17.663000       22.713000       22.303000   \n",
       "\n",
       "       measurement_15  measurement_16  measurement_17  \n",
       "count    24561.000000    24460.000000    24286.000000  \n",
       "mean        14.995554       16.460727      701.269059  \n",
       "std          1.549226        1.708935      123.304161  \n",
       "min          9.104000        9.701000      196.787000  \n",
       "25%         13.957000       15.268000      618.961500  \n",
       "50%         14.969000       16.436000      701.024500  \n",
       "75%         16.018000       17.628000      784.090250  \n",
       "max         21.626000       24.094000     1312.794000  \n",
       "\n",
       "[8 rows x 22 columns]"
      ]
     },
     "execution_count": 8,
     "metadata": {},
     "output_type": "execute_result"
    }
   ],
   "source": [
    "#droping target feature and description of numerical features\n",
    "train.drop('failure', axis = 1, inplace = True)\n",
    "train.describe()"
   ]
  },
  {
   "cell_type": "code",
   "execution_count": 9,
   "id": "61adea71",
   "metadata": {
    "execution": {
     "iopub.execute_input": "2022-08-08T16:53:42.731838Z",
     "iopub.status.busy": "2022-08-08T16:53:42.730936Z",
     "iopub.status.idle": "2022-08-08T16:53:42.760777Z",
     "shell.execute_reply": "2022-08-08T16:53:42.759559Z"
    },
    "papermill": {
     "duration": 0.041996,
     "end_time": "2022-08-08T16:53:42.763682",
     "exception": false,
     "start_time": "2022-08-08T16:53:42.721686",
     "status": "completed"
    },
    "tags": []
   },
   "outputs": [
    {
     "data": {
      "text/html": [
       "<div>\n",
       "<style scoped>\n",
       "    .dataframe tbody tr th:only-of-type {\n",
       "        vertical-align: middle;\n",
       "    }\n",
       "\n",
       "    .dataframe tbody tr th {\n",
       "        vertical-align: top;\n",
       "    }\n",
       "\n",
       "    .dataframe thead th {\n",
       "        text-align: right;\n",
       "    }\n",
       "</style>\n",
       "<table border=\"1\" class=\"dataframe\">\n",
       "  <thead>\n",
       "    <tr style=\"text-align: right;\">\n",
       "      <th></th>\n",
       "      <th>product_code</th>\n",
       "      <th>attribute_0</th>\n",
       "      <th>attribute_1</th>\n",
       "    </tr>\n",
       "  </thead>\n",
       "  <tbody>\n",
       "    <tr>\n",
       "      <th>count</th>\n",
       "      <td>26570</td>\n",
       "      <td>26570</td>\n",
       "      <td>26570</td>\n",
       "    </tr>\n",
       "    <tr>\n",
       "      <th>unique</th>\n",
       "      <td>5</td>\n",
       "      <td>2</td>\n",
       "      <td>3</td>\n",
       "    </tr>\n",
       "    <tr>\n",
       "      <th>top</th>\n",
       "      <td>C</td>\n",
       "      <td>material_7</td>\n",
       "      <td>material_8</td>\n",
       "    </tr>\n",
       "    <tr>\n",
       "      <th>freq</th>\n",
       "      <td>5765</td>\n",
       "      <td>21320</td>\n",
       "      <td>10865</td>\n",
       "    </tr>\n",
       "  </tbody>\n",
       "</table>\n",
       "</div>"
      ],
      "text/plain": [
       "       product_code attribute_0 attribute_1\n",
       "count         26570       26570       26570\n",
       "unique            5           2           3\n",
       "top               C  material_7  material_8\n",
       "freq           5765       21320       10865"
      ]
     },
     "execution_count": 9,
     "metadata": {},
     "output_type": "execute_result"
    }
   ],
   "source": [
    "#description of categorical features\n",
    "train.describe(include = ['object'])"
   ]
  },
  {
   "cell_type": "code",
   "execution_count": 10,
   "id": "2d620087",
   "metadata": {
    "execution": {
     "iopub.execute_input": "2022-08-08T16:53:42.781702Z",
     "iopub.status.busy": "2022-08-08T16:53:42.780901Z",
     "iopub.status.idle": "2022-08-08T16:53:42.789998Z",
     "shell.execute_reply": "2022-08-08T16:53:42.788978Z"
    },
    "papermill": {
     "duration": 0.02083,
     "end_time": "2022-08-08T16:53:42.792333",
     "exception": false,
     "start_time": "2022-08-08T16:53:42.771503",
     "status": "completed"
    },
    "tags": []
   },
   "outputs": [
    {
     "data": {
      "text/plain": [
       "array(['A', 'B', 'C', 'D', 'E'], dtype=object)"
      ]
     },
     "execution_count": 10,
     "metadata": {},
     "output_type": "execute_result"
    }
   ],
   "source": [
    "train.product_code.unique()"
   ]
  },
  {
   "cell_type": "code",
   "execution_count": 11,
   "id": "a36890ed",
   "metadata": {
    "execution": {
     "iopub.execute_input": "2022-08-08T16:53:42.810618Z",
     "iopub.status.busy": "2022-08-08T16:53:42.809858Z",
     "iopub.status.idle": "2022-08-08T16:53:42.818957Z",
     "shell.execute_reply": "2022-08-08T16:53:42.818033Z"
    },
    "papermill": {
     "duration": 0.021054,
     "end_time": "2022-08-08T16:53:42.821214",
     "exception": false,
     "start_time": "2022-08-08T16:53:42.800160",
     "status": "completed"
    },
    "tags": []
   },
   "outputs": [
    {
     "data": {
      "text/plain": [
       "array(['F', 'G', 'H', 'I'], dtype=object)"
      ]
     },
     "execution_count": 11,
     "metadata": {},
     "output_type": "execute_result"
    }
   ],
   "source": [
    "test.product_code.unique()"
   ]
  },
  {
   "cell_type": "code",
   "execution_count": 12,
   "id": "a23cdd3a",
   "metadata": {
    "execution": {
     "iopub.execute_input": "2022-08-08T16:53:42.839579Z",
     "iopub.status.busy": "2022-08-08T16:53:42.838709Z",
     "iopub.status.idle": "2022-08-08T16:53:42.864587Z",
     "shell.execute_reply": "2022-08-08T16:53:42.863345Z"
    },
    "papermill": {
     "duration": 0.03858,
     "end_time": "2022-08-08T16:53:42.867637",
     "exception": false,
     "start_time": "2022-08-08T16:53:42.829057",
     "status": "completed"
    },
    "tags": []
   },
   "outputs": [
    {
     "data": {
      "text/html": [
       "<div>\n",
       "<style scoped>\n",
       "    .dataframe tbody tr th:only-of-type {\n",
       "        vertical-align: middle;\n",
       "    }\n",
       "\n",
       "    .dataframe tbody tr th {\n",
       "        vertical-align: top;\n",
       "    }\n",
       "\n",
       "    .dataframe thead th {\n",
       "        text-align: right;\n",
       "    }\n",
       "</style>\n",
       "<table border=\"1\" class=\"dataframe\">\n",
       "  <thead>\n",
       "    <tr style=\"text-align: right;\">\n",
       "      <th></th>\n",
       "      <th>product_code</th>\n",
       "      <th>attribute_0</th>\n",
       "      <th>attribute_1</th>\n",
       "    </tr>\n",
       "  </thead>\n",
       "  <tbody>\n",
       "    <tr>\n",
       "      <th>count</th>\n",
       "      <td>20775</td>\n",
       "      <td>20775</td>\n",
       "      <td>20775</td>\n",
       "    </tr>\n",
       "    <tr>\n",
       "      <th>unique</th>\n",
       "      <td>4</td>\n",
       "      <td>2</td>\n",
       "      <td>3</td>\n",
       "    </tr>\n",
       "    <tr>\n",
       "      <th>top</th>\n",
       "      <td>F</td>\n",
       "      <td>material_5</td>\n",
       "      <td>material_6</td>\n",
       "    </tr>\n",
       "    <tr>\n",
       "      <th>freq</th>\n",
       "      <td>5422</td>\n",
       "      <td>10529</td>\n",
       "      <td>10529</td>\n",
       "    </tr>\n",
       "  </tbody>\n",
       "</table>\n",
       "</div>"
      ],
      "text/plain": [
       "       product_code attribute_0 attribute_1\n",
       "count         20775       20775       20775\n",
       "unique            4           2           3\n",
       "top               F  material_5  material_6\n",
       "freq           5422       10529       10529"
      ]
     },
     "execution_count": 12,
     "metadata": {},
     "output_type": "execute_result"
    }
   ],
   "source": [
    "test.describe(include = ['object'])"
   ]
  },
  {
   "cell_type": "code",
   "execution_count": 13,
   "id": "e57b7024",
   "metadata": {
    "execution": {
     "iopub.execute_input": "2022-08-08T16:53:42.886690Z",
     "iopub.status.busy": "2022-08-08T16:53:42.885829Z",
     "iopub.status.idle": "2022-08-08T16:53:42.901534Z",
     "shell.execute_reply": "2022-08-08T16:53:42.900265Z"
    },
    "papermill": {
     "duration": 0.028376,
     "end_time": "2022-08-08T16:53:42.904253",
     "exception": false,
     "start_time": "2022-08-08T16:53:42.875877",
     "status": "completed"
    },
    "tags": []
   },
   "outputs": [
    {
     "data": {
      "text/plain": [
       "id                   0\n",
       "product_code         0\n",
       "loading            250\n",
       "attribute_0          0\n",
       "attribute_1          0\n",
       "attribute_2          0\n",
       "attribute_3          0\n",
       "measurement_0        0\n",
       "measurement_1        0\n",
       "measurement_2        0\n",
       "measurement_3      381\n",
       "measurement_4      538\n",
       "measurement_5      676\n",
       "measurement_6      796\n",
       "measurement_7      937\n",
       "measurement_8     1048\n",
       "measurement_9     1227\n",
       "measurement_10    1300\n",
       "measurement_11    1468\n",
       "measurement_12    1601\n",
       "measurement_13    1774\n",
       "measurement_14    1874\n",
       "measurement_15    2009\n",
       "measurement_16    2110\n",
       "measurement_17    2284\n",
       "dtype: int64"
      ]
     },
     "execution_count": 13,
     "metadata": {},
     "output_type": "execute_result"
    }
   ],
   "source": [
    "#number of missinb values per column in train set\n",
    "train.isnull().sum()"
   ]
  },
  {
   "cell_type": "code",
   "execution_count": 14,
   "id": "cc32b208",
   "metadata": {
    "execution": {
     "iopub.execute_input": "2022-08-08T16:53:42.924627Z",
     "iopub.status.busy": "2022-08-08T16:53:42.923765Z",
     "iopub.status.idle": "2022-08-08T16:53:42.937717Z",
     "shell.execute_reply": "2022-08-08T16:53:42.936696Z"
    },
    "papermill": {
     "duration": 0.027528,
     "end_time": "2022-08-08T16:53:42.940236",
     "exception": false,
     "start_time": "2022-08-08T16:53:42.912708",
     "status": "completed"
    },
    "tags": []
   },
   "outputs": [
    {
     "data": {
      "text/plain": [
       "id                   0\n",
       "product_code         0\n",
       "loading            223\n",
       "attribute_0          0\n",
       "attribute_1          0\n",
       "attribute_2          0\n",
       "attribute_3          0\n",
       "measurement_0        0\n",
       "measurement_1        0\n",
       "measurement_2        0\n",
       "measurement_3      329\n",
       "measurement_4      409\n",
       "measurement_5      508\n",
       "measurement_6      624\n",
       "measurement_7      720\n",
       "measurement_8      846\n",
       "measurement_9      904\n",
       "measurement_10    1067\n",
       "measurement_11    1136\n",
       "measurement_12    1240\n",
       "measurement_13    1303\n",
       "measurement_14    1440\n",
       "measurement_15    1542\n",
       "measurement_16    1678\n",
       "measurement_17    1740\n",
       "dtype: int64"
      ]
     },
     "execution_count": 14,
     "metadata": {},
     "output_type": "execute_result"
    }
   ],
   "source": [
    "#number of missinb values per column in test set\n",
    "test.isnull().sum()"
   ]
  },
  {
   "cell_type": "code",
   "execution_count": 15,
   "id": "d82f0c94",
   "metadata": {
    "execution": {
     "iopub.execute_input": "2022-08-08T16:53:42.960138Z",
     "iopub.status.busy": "2022-08-08T16:53:42.959218Z",
     "iopub.status.idle": "2022-08-08T16:53:43.089415Z",
     "shell.execute_reply": "2022-08-08T16:53:43.088145Z"
    },
    "papermill": {
     "duration": 0.143974,
     "end_time": "2022-08-08T16:53:43.092719",
     "exception": false,
     "start_time": "2022-08-08T16:53:42.948745",
     "status": "completed"
    },
    "tags": []
   },
   "outputs": [],
   "source": [
    "from sklearn.model_selection import StratifiedShuffleSplit\n",
    "sss = StratifiedShuffleSplit(n_splits = 1, test_size = 0.25, random_state = 0)\n",
    "for train_index, val_index in sss.split(train, train_y):\n",
    "    train_x, val_x = train['loading'][train_index], train['loading'][val_index]\n",
    "    train_y, val_y = train_y[train_index], train_y[val_index]"
   ]
  },
  {
   "cell_type": "code",
   "execution_count": 16,
   "id": "b1867262",
   "metadata": {
    "execution": {
     "iopub.execute_input": "2022-08-08T16:53:43.111835Z",
     "iopub.status.busy": "2022-08-08T16:53:43.110681Z",
     "iopub.status.idle": "2022-08-08T16:53:43.380174Z",
     "shell.execute_reply": "2022-08-08T16:53:43.378977Z"
    },
    "papermill": {
     "duration": 0.282311,
     "end_time": "2022-08-08T16:53:43.383242",
     "exception": false,
     "start_time": "2022-08-08T16:53:43.100931",
     "status": "completed"
    },
    "tags": []
   },
   "outputs": [],
   "source": [
    "from sklearn.compose import ColumnTransformer\n",
    "from sklearn.impute import SimpleImputer\n",
    "from sklearn.pipeline import Pipeline\n",
    "from sklearn.preprocessing import OrdinalEncoder\n",
    "from sklearn.ensemble import RandomForestClassifier\n",
    "\n",
    "my_pipe = Pipeline([('simple_imp', SimpleImputer(strategy = 'median')), ('forest_cls', RandomForestClassifier())])"
   ]
  },
  {
   "cell_type": "code",
   "execution_count": 17,
   "id": "baf71bc7",
   "metadata": {
    "execution": {
     "iopub.execute_input": "2022-08-08T16:53:43.403147Z",
     "iopub.status.busy": "2022-08-08T16:53:43.401851Z",
     "iopub.status.idle": "2022-08-08T16:53:43.410467Z",
     "shell.execute_reply": "2022-08-08T16:53:43.409244Z"
    },
    "papermill": {
     "duration": 0.021364,
     "end_time": "2022-08-08T16:53:43.413321",
     "exception": false,
     "start_time": "2022-08-08T16:53:43.391957",
     "status": "completed"
    },
    "tags": []
   },
   "outputs": [
    {
     "data": {
      "text/plain": [
       "(6643,)"
      ]
     },
     "execution_count": 17,
     "metadata": {},
     "output_type": "execute_result"
    }
   ],
   "source": [
    "val_x.shape"
   ]
  },
  {
   "cell_type": "code",
   "execution_count": 18,
   "id": "fb7ab97a",
   "metadata": {
    "execution": {
     "iopub.execute_input": "2022-08-08T16:53:43.432580Z",
     "iopub.status.busy": "2022-08-08T16:53:43.432090Z",
     "iopub.status.idle": "2022-08-08T16:53:48.116372Z",
     "shell.execute_reply": "2022-08-08T16:53:48.114926Z"
    },
    "papermill": {
     "duration": 4.697999,
     "end_time": "2022-08-08T16:53:48.119944",
     "exception": false,
     "start_time": "2022-08-08T16:53:43.421945",
     "status": "completed"
    },
    "tags": []
   },
   "outputs": [
    {
     "data": {
      "text/plain": [
       "0.6989312057805208"
      ]
     },
     "execution_count": 18,
     "metadata": {},
     "output_type": "execute_result"
    }
   ],
   "source": [
    "my_pipe.fit(train_x.to_numpy().reshape(-1, 1), train_y)\n",
    "my_pipe.score(val_x.to_numpy().reshape(-1,1), val_y)"
   ]
  },
  {
   "cell_type": "code",
   "execution_count": 19,
   "id": "2b0442e7",
   "metadata": {
    "execution": {
     "iopub.execute_input": "2022-08-08T16:53:48.140119Z",
     "iopub.status.busy": "2022-08-08T16:53:48.139320Z",
     "iopub.status.idle": "2022-08-08T16:53:48.738668Z",
     "shell.execute_reply": "2022-08-08T16:53:48.737238Z"
    },
    "papermill": {
     "duration": 0.612474,
     "end_time": "2022-08-08T16:53:48.741725",
     "exception": false,
     "start_time": "2022-08-08T16:53:48.129251",
     "status": "completed"
    },
    "tags": []
   },
   "outputs": [
    {
     "data": {
      "text/plain": [
       "array([0, 0, 1, 0, 0, 0, 0, 0, 0, 0])"
      ]
     },
     "execution_count": 19,
     "metadata": {},
     "output_type": "execute_result"
    }
   ],
   "source": [
    "preds = my_pipe.predict(test['loading'].to_numpy().reshape(-1,1))\n",
    "preds[:10]"
   ]
  },
  {
   "cell_type": "code",
   "execution_count": 20,
   "id": "9d5d75e2",
   "metadata": {
    "execution": {
     "iopub.execute_input": "2022-08-08T16:53:48.761470Z",
     "iopub.status.busy": "2022-08-08T16:53:48.760980Z",
     "iopub.status.idle": "2022-08-08T16:53:48.794995Z",
     "shell.execute_reply": "2022-08-08T16:53:48.793668Z"
    },
    "papermill": {
     "duration": 0.0477,
     "end_time": "2022-08-08T16:53:48.798130",
     "exception": false,
     "start_time": "2022-08-08T16:53:48.750430",
     "status": "completed"
    },
    "tags": []
   },
   "outputs": [],
   "source": [
    "# Save test predictions to file\n",
    "output = pd.DataFrame({'id': test.id,\n",
    "                       'failure': preds})\n",
    "output.to_csv('submission.csv', index=False)"
   ]
  }
 ],
 "metadata": {
  "kernelspec": {
   "display_name": "Python 3",
   "language": "python",
   "name": "python3"
  },
  "language_info": {
   "codemirror_mode": {
    "name": "ipython",
    "version": 3
   },
   "file_extension": ".py",
   "mimetype": "text/x-python",
   "name": "python",
   "nbconvert_exporter": "python",
   "pygments_lexer": "ipython3",
   "version": "3.7.12"
  },
  "papermill": {
   "default_parameters": {},
   "duration": 20.252263,
   "end_time": "2022-08-08T16:53:49.731835",
   "environment_variables": {},
   "exception": null,
   "input_path": "__notebook__.ipynb",
   "output_path": "__notebook__.ipynb",
   "parameters": {},
   "start_time": "2022-08-08T16:53:29.479572",
   "version": "2.3.4"
  }
 },
 "nbformat": 4,
 "nbformat_minor": 5
}
