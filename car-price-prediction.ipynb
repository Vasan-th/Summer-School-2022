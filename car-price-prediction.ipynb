{
 "cells": [
  {
   "cell_type": "code",
   "execution_count": 1,
   "id": "48a98672",
   "metadata": {
    "_cell_guid": "b1076dfc-b9ad-4769-8c92-a6c4dae69d19",
    "_uuid": "8f2839f25d086af736a60e9eeb907d3b93b6e0e5",
    "execution": {
     "iopub.execute_input": "2022-07-22T06:41:07.213865Z",
     "iopub.status.busy": "2022-07-22T06:41:07.213392Z",
     "iopub.status.idle": "2022-07-22T06:41:07.227094Z",
     "shell.execute_reply": "2022-07-22T06:41:07.226196Z"
    },
    "papermill": {
     "duration": 0.023616,
     "end_time": "2022-07-22T06:41:07.229227",
     "exception": false,
     "start_time": "2022-07-22T06:41:07.205611",
     "status": "completed"
    },
    "tags": []
   },
   "outputs": [
    {
     "name": "stdout",
     "output_type": "stream",
     "text": [
      "/kaggle/input/summer-school-2022-task-2/train_data.csv\n",
      "/kaggle/input/summer-school-2022-task-2/test_data.csv\n",
      "/kaggle/input/summer-school-2022-task-2/sample_submssions.csv\n"
     ]
    }
   ],
   "source": [
    "# This Python 3 environment comes with many helpful analytics libraries installed\n",
    "# It is defined by the kaggle/python Docker image: https://github.com/kaggle/docker-python\n",
    "# For example, here's several helpful packages to load\n",
    "\n",
    "import numpy as np # linear algebra\n",
    "import pandas as pd # data processing, CSV file I/O (e.g. pd.read_csv)\n",
    "\n",
    "# Input data files are available in the read-only \"../input/\" directory\n",
    "# For example, running this (by clicking run or pressing Shift+Enter) will list all files under the input directory\n",
    "\n",
    "import os\n",
    "for dirname, _, filenames in os.walk('/kaggle/input'):\n",
    "    for filename in filenames:\n",
    "        print(os.path.join(dirname, filename))\n",
    "\n",
    "# You can write up to 20GB to the current directory (/kaggle/working/) that gets preserved as output when you create a version using \"Save & Run All\" \n",
    "# You can also write temporary files to /kaggle/temp/, but they won't be saved outside of the current session"
   ]
  },
  {
   "cell_type": "code",
   "execution_count": 2,
   "id": "2ebcfbd1",
   "metadata": {
    "execution": {
     "iopub.execute_input": "2022-07-22T06:41:07.242523Z",
     "iopub.status.busy": "2022-07-22T06:41:07.240983Z",
     "iopub.status.idle": "2022-07-22T06:41:07.902934Z",
     "shell.execute_reply": "2022-07-22T06:41:07.901990Z"
    },
    "papermill": {
     "duration": 0.67063,
     "end_time": "2022-07-22T06:41:07.905503",
     "exception": false,
     "start_time": "2022-07-22T06:41:07.234873",
     "status": "completed"
    },
    "tags": []
   },
   "outputs": [
    {
     "name": "stdout",
     "output_type": "stream",
     "text": [
      "(208764, 16)\n"
     ]
    },
    {
     "data": {
      "text/html": [
       "<div>\n",
       "<style scoped>\n",
       "    .dataframe tbody tr th:only-of-type {\n",
       "        vertical-align: middle;\n",
       "    }\n",
       "\n",
       "    .dataframe tbody tr th {\n",
       "        vertical-align: top;\n",
       "    }\n",
       "\n",
       "    .dataframe thead th {\n",
       "        text-align: right;\n",
       "    }\n",
       "</style>\n",
       "<table border=\"1\" class=\"dataframe\">\n",
       "  <thead>\n",
       "    <tr style=\"text-align: right;\">\n",
       "      <th></th>\n",
       "      <th>id</th>\n",
       "      <th>seller</th>\n",
       "      <th>offer_type</th>\n",
       "      <th>price</th>\n",
       "      <th>abtest</th>\n",
       "      <th>vehicle_type</th>\n",
       "      <th>year_of_registration</th>\n",
       "      <th>gearbox</th>\n",
       "      <th>power</th>\n",
       "      <th>model</th>\n",
       "      <th>kilometer</th>\n",
       "      <th>month_of_registration</th>\n",
       "      <th>fuel_type</th>\n",
       "      <th>brand</th>\n",
       "      <th>not_repaired_damage</th>\n",
       "      <th>postal_code</th>\n",
       "    </tr>\n",
       "  </thead>\n",
       "  <tbody>\n",
       "    <tr>\n",
       "      <th>0</th>\n",
       "      <td>0</td>\n",
       "      <td>privat</td>\n",
       "      <td>Angebot</td>\n",
       "      <td>8990</td>\n",
       "      <td>control</td>\n",
       "      <td>bus</td>\n",
       "      <td>2007</td>\n",
       "      <td>automatik</td>\n",
       "      <td>136</td>\n",
       "      <td>b_klasse</td>\n",
       "      <td>125000</td>\n",
       "      <td>1</td>\n",
       "      <td>benzin</td>\n",
       "      <td>mercedes_benz</td>\n",
       "      <td>nein</td>\n",
       "      <td>55232</td>\n",
       "    </tr>\n",
       "    <tr>\n",
       "      <th>1</th>\n",
       "      <td>1</td>\n",
       "      <td>privat</td>\n",
       "      <td>Angebot</td>\n",
       "      <td>49900</td>\n",
       "      <td>test</td>\n",
       "      <td>suv</td>\n",
       "      <td>2011</td>\n",
       "      <td>automatik</td>\n",
       "      <td>400</td>\n",
       "      <td>cayenne</td>\n",
       "      <td>80000</td>\n",
       "      <td>6</td>\n",
       "      <td>benzin</td>\n",
       "      <td>porsche</td>\n",
       "      <td>nein</td>\n",
       "      <td>89155</td>\n",
       "    </tr>\n",
       "    <tr>\n",
       "      <th>2</th>\n",
       "      <td>2</td>\n",
       "      <td>privat</td>\n",
       "      <td>Angebot</td>\n",
       "      <td>7500</td>\n",
       "      <td>control</td>\n",
       "      <td>limousine</td>\n",
       "      <td>2005</td>\n",
       "      <td>manuell</td>\n",
       "      <td>0</td>\n",
       "      <td>a6</td>\n",
       "      <td>150000</td>\n",
       "      <td>11</td>\n",
       "      <td>diesel</td>\n",
       "      <td>audi</td>\n",
       "      <td>nein</td>\n",
       "      <td>26125</td>\n",
       "    </tr>\n",
       "    <tr>\n",
       "      <th>3</th>\n",
       "      <td>3</td>\n",
       "      <td>privat</td>\n",
       "      <td>Angebot</td>\n",
       "      <td>1350</td>\n",
       "      <td>control</td>\n",
       "      <td>limousine</td>\n",
       "      <td>1997</td>\n",
       "      <td>manuell</td>\n",
       "      <td>170</td>\n",
       "      <td>3er</td>\n",
       "      <td>150000</td>\n",
       "      <td>5</td>\n",
       "      <td>benzin</td>\n",
       "      <td>bmw</td>\n",
       "      <td>nein</td>\n",
       "      <td>37671</td>\n",
       "    </tr>\n",
       "    <tr>\n",
       "      <th>4</th>\n",
       "      <td>4</td>\n",
       "      <td>privat</td>\n",
       "      <td>Angebot</td>\n",
       "      <td>650</td>\n",
       "      <td>test</td>\n",
       "      <td>kombi</td>\n",
       "      <td>1998</td>\n",
       "      <td>automatik</td>\n",
       "      <td>170</td>\n",
       "      <td>e_klasse</td>\n",
       "      <td>150000</td>\n",
       "      <td>8</td>\n",
       "      <td>benzin</td>\n",
       "      <td>mercedes_benz</td>\n",
       "      <td>ja</td>\n",
       "      <td>45141</td>\n",
       "    </tr>\n",
       "  </tbody>\n",
       "</table>\n",
       "</div>"
      ],
      "text/plain": [
       "   id  seller offer_type  price   abtest vehicle_type  year_of_registration  \\\n",
       "0   0  privat    Angebot   8990  control          bus                  2007   \n",
       "1   1  privat    Angebot  49900     test          suv                  2011   \n",
       "2   2  privat    Angebot   7500  control    limousine                  2005   \n",
       "3   3  privat    Angebot   1350  control    limousine                  1997   \n",
       "4   4  privat    Angebot    650     test        kombi                  1998   \n",
       "\n",
       "     gearbox  power     model  kilometer  month_of_registration fuel_type  \\\n",
       "0  automatik    136  b_klasse     125000                      1    benzin   \n",
       "1  automatik    400   cayenne      80000                      6    benzin   \n",
       "2    manuell      0        a6     150000                     11    diesel   \n",
       "3    manuell    170       3er     150000                      5    benzin   \n",
       "4  automatik    170  e_klasse     150000                      8    benzin   \n",
       "\n",
       "           brand not_repaired_damage  postal_code  \n",
       "0  mercedes_benz                nein        55232  \n",
       "1        porsche                nein        89155  \n",
       "2           audi                nein        26125  \n",
       "3            bmw                nein        37671  \n",
       "4  mercedes_benz                  ja        45141  "
      ]
     },
     "execution_count": 2,
     "metadata": {},
     "output_type": "execute_result"
    }
   ],
   "source": [
    "#loading the dataset\n",
    "train = pd.read_csv('/kaggle/input/summer-school-2022-task-2/train_data.csv')\n",
    "test = pd.read_csv('/kaggle/input/summer-school-2022-task-2/test_data.csv')\n",
    "print(train.shape)\n",
    "train.head()"
   ]
  },
  {
   "cell_type": "code",
   "execution_count": 3,
   "id": "1d8ca7e4",
   "metadata": {
    "execution": {
     "iopub.execute_input": "2022-07-22T06:41:07.918421Z",
     "iopub.status.busy": "2022-07-22T06:41:07.917660Z",
     "iopub.status.idle": "2022-07-22T06:41:07.934328Z",
     "shell.execute_reply": "2022-07-22T06:41:07.933334Z"
    },
    "papermill": {
     "duration": 0.025137,
     "end_time": "2022-07-22T06:41:07.936305",
     "exception": false,
     "start_time": "2022-07-22T06:41:07.911168",
     "status": "completed"
    },
    "tags": []
   },
   "outputs": [
    {
     "name": "stdout",
     "output_type": "stream",
     "text": [
      "(52192, 15)\n"
     ]
    },
    {
     "data": {
      "text/html": [
       "<div>\n",
       "<style scoped>\n",
       "    .dataframe tbody tr th:only-of-type {\n",
       "        vertical-align: middle;\n",
       "    }\n",
       "\n",
       "    .dataframe tbody tr th {\n",
       "        vertical-align: top;\n",
       "    }\n",
       "\n",
       "    .dataframe thead th {\n",
       "        text-align: right;\n",
       "    }\n",
       "</style>\n",
       "<table border=\"1\" class=\"dataframe\">\n",
       "  <thead>\n",
       "    <tr style=\"text-align: right;\">\n",
       "      <th></th>\n",
       "      <th>id</th>\n",
       "      <th>seller</th>\n",
       "      <th>offer_type</th>\n",
       "      <th>abtest</th>\n",
       "      <th>vehicle_type</th>\n",
       "      <th>year_of_registration</th>\n",
       "      <th>gearbox</th>\n",
       "      <th>power</th>\n",
       "      <th>model</th>\n",
       "      <th>kilometer</th>\n",
       "      <th>month_of_registration</th>\n",
       "      <th>fuel_type</th>\n",
       "      <th>brand</th>\n",
       "      <th>not_repaired_damage</th>\n",
       "      <th>postal_code</th>\n",
       "    </tr>\n",
       "  </thead>\n",
       "  <tbody>\n",
       "    <tr>\n",
       "      <th>0</th>\n",
       "      <td>0</td>\n",
       "      <td>privat</td>\n",
       "      <td>Angebot</td>\n",
       "      <td>control</td>\n",
       "      <td>kleinwagen</td>\n",
       "      <td>2000</td>\n",
       "      <td>manuell</td>\n",
       "      <td>75</td>\n",
       "      <td>fiesta</td>\n",
       "      <td>150000</td>\n",
       "      <td>3</td>\n",
       "      <td>benzin</td>\n",
       "      <td>ford</td>\n",
       "      <td>nein</td>\n",
       "      <td>54294</td>\n",
       "    </tr>\n",
       "    <tr>\n",
       "      <th>1</th>\n",
       "      <td>1</td>\n",
       "      <td>privat</td>\n",
       "      <td>Angebot</td>\n",
       "      <td>test</td>\n",
       "      <td>kombi</td>\n",
       "      <td>1995</td>\n",
       "      <td>automatik</td>\n",
       "      <td>0</td>\n",
       "      <td>e_klasse</td>\n",
       "      <td>150000</td>\n",
       "      <td>3</td>\n",
       "      <td>benzin</td>\n",
       "      <td>mercedes_benz</td>\n",
       "      <td>ja</td>\n",
       "      <td>21220</td>\n",
       "    </tr>\n",
       "    <tr>\n",
       "      <th>2</th>\n",
       "      <td>2</td>\n",
       "      <td>privat</td>\n",
       "      <td>Angebot</td>\n",
       "      <td>control</td>\n",
       "      <td>kleinwagen</td>\n",
       "      <td>1998</td>\n",
       "      <td>manuell</td>\n",
       "      <td>54</td>\n",
       "      <td>corsa</td>\n",
       "      <td>125000</td>\n",
       "      <td>8</td>\n",
       "      <td>benzin</td>\n",
       "      <td>opel</td>\n",
       "      <td>nein</td>\n",
       "      <td>40233</td>\n",
       "    </tr>\n",
       "    <tr>\n",
       "      <th>3</th>\n",
       "      <td>3</td>\n",
       "      <td>privat</td>\n",
       "      <td>Angebot</td>\n",
       "      <td>control</td>\n",
       "      <td>bus</td>\n",
       "      <td>2009</td>\n",
       "      <td>manuell</td>\n",
       "      <td>163</td>\n",
       "      <td>sprinter</td>\n",
       "      <td>125000</td>\n",
       "      <td>4</td>\n",
       "      <td>diesel</td>\n",
       "      <td>mercedes_benz</td>\n",
       "      <td>nein</td>\n",
       "      <td>93179</td>\n",
       "    </tr>\n",
       "    <tr>\n",
       "      <th>4</th>\n",
       "      <td>4</td>\n",
       "      <td>privat</td>\n",
       "      <td>Angebot</td>\n",
       "      <td>test</td>\n",
       "      <td>kombi</td>\n",
       "      <td>2007</td>\n",
       "      <td>manuell</td>\n",
       "      <td>87</td>\n",
       "      <td>logan</td>\n",
       "      <td>150000</td>\n",
       "      <td>5</td>\n",
       "      <td>benzin</td>\n",
       "      <td>dacia</td>\n",
       "      <td>nein</td>\n",
       "      <td>56862</td>\n",
       "    </tr>\n",
       "  </tbody>\n",
       "</table>\n",
       "</div>"
      ],
      "text/plain": [
       "   id  seller offer_type   abtest vehicle_type  year_of_registration  \\\n",
       "0   0  privat    Angebot  control   kleinwagen                  2000   \n",
       "1   1  privat    Angebot     test        kombi                  1995   \n",
       "2   2  privat    Angebot  control   kleinwagen                  1998   \n",
       "3   3  privat    Angebot  control          bus                  2009   \n",
       "4   4  privat    Angebot     test        kombi                  2007   \n",
       "\n",
       "     gearbox  power     model  kilometer  month_of_registration fuel_type  \\\n",
       "0    manuell     75    fiesta     150000                      3    benzin   \n",
       "1  automatik      0  e_klasse     150000                      3    benzin   \n",
       "2    manuell     54     corsa     125000                      8    benzin   \n",
       "3    manuell    163  sprinter     125000                      4    diesel   \n",
       "4    manuell     87     logan     150000                      5    benzin   \n",
       "\n",
       "           brand not_repaired_damage  postal_code  \n",
       "0           ford                nein        54294  \n",
       "1  mercedes_benz                  ja        21220  \n",
       "2           opel                nein        40233  \n",
       "3  mercedes_benz                nein        93179  \n",
       "4          dacia                nein        56862  "
      ]
     },
     "execution_count": 3,
     "metadata": {},
     "output_type": "execute_result"
    }
   ],
   "source": [
    "print(test.shape)\n",
    "test.head()"
   ]
  },
  {
   "cell_type": "code",
   "execution_count": 4,
   "id": "874bdc6e",
   "metadata": {
    "execution": {
     "iopub.execute_input": "2022-07-22T06:41:07.948741Z",
     "iopub.status.busy": "2022-07-22T06:41:07.948485Z",
     "iopub.status.idle": "2022-07-22T06:41:08.158963Z",
     "shell.execute_reply": "2022-07-22T06:41:08.158094Z"
    },
    "papermill": {
     "duration": 0.219008,
     "end_time": "2022-07-22T06:41:08.161015",
     "exception": false,
     "start_time": "2022-07-22T06:41:07.942007",
     "status": "completed"
    },
    "tags": []
   },
   "outputs": [
    {
     "data": {
      "text/plain": [
       "(208764, 16)"
      ]
     },
     "execution_count": 4,
     "metadata": {},
     "output_type": "execute_result"
    }
   ],
   "source": [
    "train.dropna(inplace = True)\n",
    "train.shape"
   ]
  },
  {
   "cell_type": "code",
   "execution_count": 5,
   "id": "dea851a3",
   "metadata": {
    "execution": {
     "iopub.execute_input": "2022-07-22T06:41:08.174099Z",
     "iopub.status.busy": "2022-07-22T06:41:08.173820Z",
     "iopub.status.idle": "2022-07-22T06:41:09.398173Z",
     "shell.execute_reply": "2022-07-22T06:41:09.397192Z"
    },
    "papermill": {
     "duration": 1.233497,
     "end_time": "2022-07-22T06:41:09.400513",
     "exception": false,
     "start_time": "2022-07-22T06:41:08.167016",
     "status": "completed"
    },
    "tags": []
   },
   "outputs": [
    {
     "data": {
      "text/plain": [
       "<function matplotlib.pyplot.show(close=None, block=None)>"
      ]
     },
     "execution_count": 5,
     "metadata": {},
     "output_type": "execute_result"
    },
    {
     "data": {
      "image/png": "[encoded data removed]",
      "text/plain": [
       "<Figure size 864x720 with 9 Axes>"
      ]
     },
     "metadata": {
      "needs_background": "light"
     },
     "output_type": "display_data"
    }
   ],
   "source": [
    "import matplotlib.pyplot as plt\n",
    "train.hist(figsize = (12, 10))\n",
    "plt.show"
   ]
  },
  {
   "cell_type": "code",
   "execution_count": 6,
   "id": "dd4be518",
   "metadata": {
    "execution": {
     "iopub.execute_input": "2022-07-22T06:41:09.416130Z",
     "iopub.status.busy": "2022-07-22T06:41:09.415245Z",
     "iopub.status.idle": "2022-07-22T06:41:09.609662Z",
     "shell.execute_reply": "2022-07-22T06:41:09.608612Z"
    },
    "papermill": {
     "duration": 0.204613,
     "end_time": "2022-07-22T06:41:09.611919",
     "exception": false,
     "start_time": "2022-07-22T06:41:09.407306",
     "status": "completed"
    },
    "tags": []
   },
   "outputs": [
    {
     "data": {
      "image/png": "[encoded data removed]",
      "text/plain": [
       "<Figure size 360x360 with 1 Axes>"
      ]
     },
     "metadata": {
      "needs_background": "light"
     },
     "output_type": "display_data"
    }
   ],
   "source": [
    "train['price'].hist(figsize = (5,5))\n",
    "plt.show()"
   ]
  },
  {
   "cell_type": "code",
   "execution_count": 7,
   "id": "ca9cf8df",
   "metadata": {
    "execution": {
     "iopub.execute_input": "2022-07-22T06:41:09.628165Z",
     "iopub.status.busy": "2022-07-22T06:41:09.627885Z",
     "iopub.status.idle": "2022-07-22T06:41:09.666837Z",
     "shell.execute_reply": "2022-07-22T06:41:09.665950Z"
    },
    "papermill": {
     "duration": 0.049434,
     "end_time": "2022-07-22T06:41:09.668810",
     "exception": false,
     "start_time": "2022-07-22T06:41:09.619376",
     "status": "completed"
    },
    "tags": []
   },
   "outputs": [
    {
     "name": "stdout",
     "output_type": "stream",
     "text": [
      "We have around 208764 training examples with 15 predictor variables\n"
     ]
    },
    {
     "data": {
      "text/html": [
       "<div>\n",
       "<style scoped>\n",
       "    .dataframe tbody tr th:only-of-type {\n",
       "        vertical-align: middle;\n",
       "    }\n",
       "\n",
       "    .dataframe tbody tr th {\n",
       "        vertical-align: top;\n",
       "    }\n",
       "\n",
       "    .dataframe thead th {\n",
       "        text-align: right;\n",
       "    }\n",
       "</style>\n",
       "<table border=\"1\" class=\"dataframe\">\n",
       "  <thead>\n",
       "    <tr style=\"text-align: right;\">\n",
       "      <th></th>\n",
       "      <th>id</th>\n",
       "      <th>seller</th>\n",
       "      <th>offer_type</th>\n",
       "      <th>abtest</th>\n",
       "      <th>vehicle_type</th>\n",
       "      <th>year_of_registration</th>\n",
       "      <th>gearbox</th>\n",
       "      <th>power</th>\n",
       "      <th>model</th>\n",
       "      <th>kilometer</th>\n",
       "      <th>month_of_registration</th>\n",
       "      <th>fuel_type</th>\n",
       "      <th>brand</th>\n",
       "      <th>not_repaired_damage</th>\n",
       "      <th>postal_code</th>\n",
       "    </tr>\n",
       "  </thead>\n",
       "  <tbody>\n",
       "    <tr>\n",
       "      <th>0</th>\n",
       "      <td>0</td>\n",
       "      <td>privat</td>\n",
       "      <td>Angebot</td>\n",
       "      <td>control</td>\n",
       "      <td>bus</td>\n",
       "      <td>2007</td>\n",
       "      <td>automatik</td>\n",
       "      <td>136</td>\n",
       "      <td>b_klasse</td>\n",
       "      <td>125000</td>\n",
       "      <td>1</td>\n",
       "      <td>benzin</td>\n",
       "      <td>mercedes_benz</td>\n",
       "      <td>nein</td>\n",
       "      <td>55232</td>\n",
       "    </tr>\n",
       "    <tr>\n",
       "      <th>1</th>\n",
       "      <td>1</td>\n",
       "      <td>privat</td>\n",
       "      <td>Angebot</td>\n",
       "      <td>test</td>\n",
       "      <td>suv</td>\n",
       "      <td>2011</td>\n",
       "      <td>automatik</td>\n",
       "      <td>400</td>\n",
       "      <td>cayenne</td>\n",
       "      <td>80000</td>\n",
       "      <td>6</td>\n",
       "      <td>benzin</td>\n",
       "      <td>porsche</td>\n",
       "      <td>nein</td>\n",
       "      <td>89155</td>\n",
       "    </tr>\n",
       "    <tr>\n",
       "      <th>2</th>\n",
       "      <td>2</td>\n",
       "      <td>privat</td>\n",
       "      <td>Angebot</td>\n",
       "      <td>control</td>\n",
       "      <td>limousine</td>\n",
       "      <td>2005</td>\n",
       "      <td>manuell</td>\n",
       "      <td>0</td>\n",
       "      <td>a6</td>\n",
       "      <td>150000</td>\n",
       "      <td>11</td>\n",
       "      <td>diesel</td>\n",
       "      <td>audi</td>\n",
       "      <td>nein</td>\n",
       "      <td>26125</td>\n",
       "    </tr>\n",
       "    <tr>\n",
       "      <th>3</th>\n",
       "      <td>3</td>\n",
       "      <td>privat</td>\n",
       "      <td>Angebot</td>\n",
       "      <td>control</td>\n",
       "      <td>limousine</td>\n",
       "      <td>1997</td>\n",
       "      <td>manuell</td>\n",
       "      <td>170</td>\n",
       "      <td>3er</td>\n",
       "      <td>150000</td>\n",
       "      <td>5</td>\n",
       "      <td>benzin</td>\n",
       "      <td>bmw</td>\n",
       "      <td>nein</td>\n",
       "      <td>37671</td>\n",
       "    </tr>\n",
       "    <tr>\n",
       "      <th>4</th>\n",
       "      <td>4</td>\n",
       "      <td>privat</td>\n",
       "      <td>Angebot</td>\n",
       "      <td>test</td>\n",
       "      <td>kombi</td>\n",
       "      <td>1998</td>\n",
       "      <td>automatik</td>\n",
       "      <td>170</td>\n",
       "      <td>e_klasse</td>\n",
       "      <td>150000</td>\n",
       "      <td>8</td>\n",
       "      <td>benzin</td>\n",
       "      <td>mercedes_benz</td>\n",
       "      <td>ja</td>\n",
       "      <td>45141</td>\n",
       "    </tr>\n",
       "  </tbody>\n",
       "</table>\n",
       "</div>"
      ],
      "text/plain": [
       "   id  seller offer_type   abtest vehicle_type  year_of_registration  \\\n",
       "0   0  privat    Angebot  control          bus                  2007   \n",
       "1   1  privat    Angebot     test          suv                  2011   \n",
       "2   2  privat    Angebot  control    limousine                  2005   \n",
       "3   3  privat    Angebot  control    limousine                  1997   \n",
       "4   4  privat    Angebot     test        kombi                  1998   \n",
       "\n",
       "     gearbox  power     model  kilometer  month_of_registration fuel_type  \\\n",
       "0  automatik    136  b_klasse     125000                      1    benzin   \n",
       "1  automatik    400   cayenne      80000                      6    benzin   \n",
       "2    manuell      0        a6     150000                     11    diesel   \n",
       "3    manuell    170       3er     150000                      5    benzin   \n",
       "4  automatik    170  e_klasse     150000                      8    benzin   \n",
       "\n",
       "           brand not_repaired_damage  postal_code  \n",
       "0  mercedes_benz                nein        55232  \n",
       "1        porsche                nein        89155  \n",
       "2           audi                nein        26125  \n",
       "3            bmw                nein        37671  \n",
       "4  mercedes_benz                  ja        45141  "
      ]
     },
     "execution_count": 7,
     "metadata": {},
     "output_type": "execute_result"
    }
   ],
   "source": [
    "#separating the label from predictor variables\n",
    "trainy = train['price']\n",
    "trainx = train.drop(labels = ['price'],axis = 1)\n",
    "print('We have around {} training examples with {} predictor variables'.format(trainx.shape[0], trainx.shape[1]))\n",
    "trainx.head()"
   ]
  },
  {
   "cell_type": "code",
   "execution_count": 8,
   "id": "92a6ec12",
   "metadata": {
    "execution": {
     "iopub.execute_input": "2022-07-22T06:41:09.684136Z",
     "iopub.status.busy": "2022-07-22T06:41:09.683869Z",
     "iopub.status.idle": "2022-07-22T06:41:10.793555Z",
     "shell.execute_reply": "2022-07-22T06:41:10.792420Z"
    },
    "papermill": {
     "duration": 1.120098,
     "end_time": "2022-07-22T06:41:10.795974",
     "exception": false,
     "start_time": "2022-07-22T06:41:09.675876",
     "status": "completed"
    },
    "tags": []
   },
   "outputs": [
    {
     "data": {
      "image/png": "[encoded data removed]",
      "text/plain": [
       "<Figure size 720x720 with 2 Axes>"
      ]
     },
     "metadata": {
      "needs_background": "light"
     },
     "output_type": "display_data"
    }
   ],
   "source": [
    "import seaborn as sb\n",
    "c_mat = train.corr()\n",
    "fig = plt.figure(figsize = (10,10))\n",
    "sb.heatmap(c_mat, vmax = 0.8, square = True)\n",
    "plt.show()"
   ]
  },
  {
   "cell_type": "markdown",
   "id": "5f3f33f9",
   "metadata": {
    "papermill": {
     "duration": 0.00716,
     "end_time": "2022-07-22T06:41:10.810758",
     "exception": false,
     "start_time": "2022-07-22T06:41:10.803598",
     "status": "completed"
    },
    "tags": []
   },
   "source": [
    "No linear relation (correlation) b/w price and other numerical features in the given dataset"
   ]
  },
  {
   "cell_type": "code",
   "execution_count": 9,
   "id": "8b72149b",
   "metadata": {
    "execution": {
     "iopub.execute_input": "2022-07-22T06:41:10.827149Z",
     "iopub.status.busy": "2022-07-22T06:41:10.826548Z",
     "iopub.status.idle": "2022-07-22T06:41:10.941338Z",
     "shell.execute_reply": "2022-07-22T06:41:10.940441Z"
    },
    "papermill": {
     "duration": 0.125553,
     "end_time": "2022-07-22T06:41:10.943595",
     "exception": false,
     "start_time": "2022-07-22T06:41:10.818042",
     "status": "completed"
    },
    "tags": []
   },
   "outputs": [],
   "source": [
    "#preprocessing continous variables\n",
    "from sklearn.preprocessing import MinMaxScaler\n",
    "\n",
    "def preprocess(df):\n",
    "    df.dropna(inplace = True)\n",
    "    df.reset_index(drop = True, inplace = True)\n",
    "    df['age'] = 2022 - df['year_of_registration']\n",
    "    df.drop(labels = ['year_of_registration', 'month_of_registration', 'postal_code'],axis = 1, inplace = True)\n",
    "    \n",
    "    scaler = MinMaxScaler()\n",
    "    scaler.fit(df[['power', 'kilometer', 'age']])\n",
    "    scaled = scaler.fit_transform(df[['power', 'kilometer','age']])\n",
    "\n",
    "    scaled_df = pd.DataFrame(scaled, columns = ['power', 'kilometer', 'age'])\n",
    "    df.drop(columns = ['power', 'kilometer', 'age'], axis = 1, inplace = True)\n",
    "    df = pd.concat([df, scaled_df], axis = 1)\n",
    "    df = pd.get_dummies(df, columns = ['seller', 'offer_type', 'abtest', 'vehicle_type', 'gearbox', 'model', 'fuel_type', 'brand', 'not_repaired_damage'])\n",
    "    return df"
   ]
  },
  {
   "cell_type": "code",
   "execution_count": 10,
   "id": "7293975a",
   "metadata": {
    "execution": {
     "iopub.execute_input": "2022-07-22T06:41:10.960506Z",
     "iopub.status.busy": "2022-07-22T06:41:10.959049Z",
     "iopub.status.idle": "2022-07-22T06:41:10.964476Z",
     "shell.execute_reply": "2022-07-22T06:41:10.963427Z"
    },
    "papermill": {
     "duration": 0.015274,
     "end_time": "2022-07-22T06:41:10.966300",
     "exception": false,
     "start_time": "2022-07-22T06:41:10.951026",
     "status": "completed"
    },
    "tags": []
   },
   "outputs": [],
   "source": [
    "def preprocess_target(df):\n",
    "    scaler = MinMaxScaler()\n",
    "    df_transform = scaler.fit_transform(df)\n",
    "    df_inverse = scaler.inverse_transform(df_transform)\n",
    "    \n",
    "    "
   ]
  },
  {
   "cell_type": "code",
   "execution_count": 11,
   "id": "6f0160fb",
   "metadata": {
    "execution": {
     "iopub.execute_input": "2022-07-22T06:41:10.983683Z",
     "iopub.status.busy": "2022-07-22T06:41:10.983430Z",
     "iopub.status.idle": "2022-07-22T06:41:12.094623Z",
     "shell.execute_reply": "2022-07-22T06:41:12.093649Z"
    },
    "papermill": {
     "duration": 1.123175,
     "end_time": "2022-07-22T06:41:12.097104",
     "exception": false,
     "start_time": "2022-07-22T06:41:10.973929",
     "status": "completed"
    },
    "tags": []
   },
   "outputs": [],
   "source": [
    "# setting up the train and test data for preprocessing\n",
    "trainx_num = len(trainx)\n",
    "df = pd.concat(objs = [trainx, test], axis = 0)\n",
    "df = df.reset_index()\n",
    "df = preprocess(df)\n",
    "trainx_processed = df[:trainx_num]\n",
    "test_processed = df[trainx_num:]"
   ]
  },
  {
   "cell_type": "code",
   "execution_count": 12,
   "id": "30c67797",
   "metadata": {
    "execution": {
     "iopub.execute_input": "2022-07-22T06:41:12.113922Z",
     "iopub.status.busy": "2022-07-22T06:41:12.113645Z",
     "iopub.status.idle": "2022-07-22T06:41:12.119321Z",
     "shell.execute_reply": "2022-07-22T06:41:12.118283Z"
    },
    "papermill": {
     "duration": 0.016568,
     "end_time": "2022-07-22T06:41:12.121891",
     "exception": false,
     "start_time": "2022-07-22T06:41:12.105323",
     "status": "completed"
    },
    "tags": []
   },
   "outputs": [
    {
     "name": "stdout",
     "output_type": "stream",
     "text": [
      "319\n"
     ]
    }
   ],
   "source": [
    "len(trainx_processed.columns) == len(test_processed.columns)\n",
    "print(len(trainx_processed.columns) )"
   ]
  },
  {
   "cell_type": "code",
   "execution_count": 13,
   "id": "b89e1951",
   "metadata": {
    "execution": {
     "iopub.execute_input": "2022-07-22T06:41:12.138304Z",
     "iopub.status.busy": "2022-07-22T06:41:12.138030Z",
     "iopub.status.idle": "2022-07-22T06:41:20.454205Z",
     "shell.execute_reply": "2022-07-22T06:41:20.452669Z"
    },
    "papermill": {
     "duration": 8.326891,
     "end_time": "2022-07-22T06:41:20.456592",
     "exception": false,
     "start_time": "2022-07-22T06:41:12.129701",
     "status": "completed"
    },
    "tags": []
   },
   "outputs": [
    {
     "name": "stderr",
     "output_type": "stream",
     "text": [
      "2022-07-22 06:41:17.494102: I tensorflow/stream_executor/cuda/cuda_gpu_executor.cc:937] successful NUMA node read from SysFS had negative value (-1), but there must be at least one NUMA node, so returning NUMA node zero\n",
      "2022-07-22 06:41:17.637328: I tensorflow/stream_executor/cuda/cuda_gpu_executor.cc:937] successful NUMA node read from SysFS had negative value (-1), but there must be at least one NUMA node, so returning NUMA node zero\n",
      "2022-07-22 06:41:17.638100: I tensorflow/stream_executor/cuda/cuda_gpu_executor.cc:937] successful NUMA node read from SysFS had negative value (-1), but there must be at least one NUMA node, so returning NUMA node zero\n",
      "2022-07-22 06:41:17.640054: I tensorflow/core/platform/cpu_feature_guard.cc:142] This TensorFlow binary is optimized with oneAPI Deep Neural Network Library (oneDNN) to use the following CPU instructions in performance-critical operations:  AVX2 AVX512F FMA\n",
      "To enable them in other operations, rebuild TensorFlow with the appropriate compiler flags.\n",
      "2022-07-22 06:41:17.640401: I tensorflow/stream_executor/cuda/cuda_gpu_executor.cc:937] successful NUMA node read from SysFS had negative value (-1), but there must be at least one NUMA node, so returning NUMA node zero\n",
      "2022-07-22 06:41:17.641378: I tensorflow/stream_executor/cuda/cuda_gpu_executor.cc:937] successful NUMA node read from SysFS had negative value (-1), but there must be at least one NUMA node, so returning NUMA node zero\n",
      "2022-07-22 06:41:17.642290: I tensorflow/stream_executor/cuda/cuda_gpu_executor.cc:937] successful NUMA node read from SysFS had negative value (-1), but there must be at least one NUMA node, so returning NUMA "
     ]
    },
    {
     "name": "stdout",
     "output_type": "stream",
     "text": [
      "Model: \"sequential\"\n",
      "_________________________________________________________________\n",
      "Layer (type)                 Output Shape              Param #   \n",
      "=================================================================\n",
      "dense (Dense)                (None, 128)               40960     \n",
      "_________________________________________________________________\n",
      "dense_1 (Dense)              (None, 256)               33024     \n",
      "_________________________________________________________________\n",
      "dense_2 (Dense)              (None, 256)               65792     \n",
      "_________________________________________________________________\n",
      "dense_3 (Dense)              (None, 256)               65792     \n",
      "_________________________________________________________________\n",
      "dense_4 (Dense)              (None, 1)                 257       \n",
      "=================================================================\n",
      "Total params: 205,825\n",
      "Trainable params: 205,825\n",
      "Non-trainable params: 0\n",
      "_________________________________________________________________\n"
     ]
    },
    {
     "name": "stderr",
     "output_type": "stream",
     "text": [
      "node zero\n",
      "2022-07-22 06:41:20.032938: I tensorflow/stream_executor/cuda/cuda_gpu_executor.cc:937] successful NUMA node read from SysFS had negative value (-1), but there must be at least one NUMA node, so returning NUMA node zero\n",
      "2022-07-22 06:41:20.034107: I tensorflow/stream_executor/cuda/cuda_gpu_executor.cc:937] successful NUMA node read from SysFS had negative value (-1), but there must be at least one NUMA node, so returning NUMA node zero\n",
      "2022-07-22 06:41:20.034969: I tensorflow/stream_executor/cuda/cuda_gpu_executor.cc:937] successful NUMA node read from SysFS had negative value (-1), but there must be at least one NUMA node, so returning NUMA node zero\n",
      "2022-07-22 06:41:20.035866: I tensorflow/core/common_runtime/gpu/gpu_device.cc:1510] Created device /job:localhost/replica:0/task:0/device:GPU:0 with 15403 MB memory:  -> device: 0, name: Tesla P100-PCIE-16GB, pci bus id: 0000:00:04.0, compute capability: 6.0\n"
     ]
    }
   ],
   "source": [
    "from tensorflow.keras.models import Sequential\n",
    "from tensorflow.keras.layers import Dense\n",
    "NN_model = Sequential()\n",
    "# Input layer\n",
    "NN_model.add(Dense(128, kernel_initializer = 'normal', input_dim = trainx_processed.shape[1], activation = 'relu'))\n",
    "# hidden layers\n",
    "NN_model.add(Dense(256, kernel_initializer='normal',activation='relu'))\n",
    "NN_model.add(Dense(256, kernel_initializer='normal',activation='relu'))\n",
    "NN_model.add(Dense(256, kernel_initializer='normal',activation='relu'))\n",
    "# output layers\n",
    "NN_model.add(Dense(1, kernel_initializer = 'normal', activation = 'linear'))\n",
    "# compiling the model\n",
    "NN_model.compile(loss = 'MeanSquaredError', optimizer = 'adam', metrics = ['accuracy'])\n",
    "NN_model.summary()"
   ]
  },
  {
   "cell_type": "code",
   "execution_count": 14,
   "id": "3e4fbb69",
   "metadata": {
    "execution": {
     "iopub.execute_input": "2022-07-22T06:41:20.475360Z",
     "iopub.status.busy": "2022-07-22T06:41:20.475058Z",
     "iopub.status.idle": "2022-07-22T06:41:20.482333Z",
     "shell.execute_reply": "2022-07-22T06:41:20.481033Z"
    },
    "papermill": {
     "duration": 0.019392,
     "end_time": "2022-07-22T06:41:20.484577",
     "exception": false,
     "start_time": "2022-07-22T06:41:20.465185",
     "status": "completed"
    },
    "tags": []
   },
   "outputs": [],
   "source": [
    "#checkpoint callback\n",
    "from tensorflow.keras.callbacks import ModelCheckpoint\n",
    "checkpoint_name = 'Weights-{epoch:03d}--{val_loss:.5f}.hdf5' \n",
    "checkpoint = ModelCheckpoint(checkpoint_name, monitor='val_loss', verbose = 1, save_best_only = True, mode ='auto')\n",
    "callbacks_list = [checkpoint]"
   ]
  },
  {
   "cell_type": "code",
   "execution_count": 15,
   "id": "807d0b81",
   "metadata": {
    "execution": {
     "iopub.execute_input": "2022-07-22T06:41:20.502114Z",
     "iopub.status.busy": "2022-07-22T06:41:20.501869Z",
     "iopub.status.idle": "2022-07-22T06:41:20.509124Z",
     "shell.execute_reply": "2022-07-22T06:41:20.508173Z"
    },
    "papermill": {
     "duration": 0.018571,
     "end_time": "2022-07-22T06:41:20.511300",
     "exception": false,
     "start_time": "2022-07-22T06:41:20.492729",
     "status": "completed"
    },
    "tags": []
   },
   "outputs": [],
   "source": [
    "scaler = MinMaxScaler()\n",
    "trainy_trans = scaler.fit_transform(trainy.to_numpy().reshape(-1,1))"
   ]
  },
  {
   "cell_type": "code",
   "execution_count": 16,
   "id": "d7180e38",
   "metadata": {
    "execution": {
     "iopub.execute_input": "2022-07-22T06:41:20.529757Z",
     "iopub.status.busy": "2022-07-22T06:41:20.529477Z",
     "iopub.status.idle": "2022-07-22T06:42:44.259134Z",
     "shell.execute_reply": "2022-07-22T06:42:44.258182Z"
    },
    "papermill": {
     "duration": 83.741615,
     "end_time": "2022-07-22T06:42:44.261343",
     "exception": false,
     "start_time": "2022-07-22T06:41:20.519728",
     "status": "completed"
    },
    "tags": []
   },
   "outputs": [
    {
     "name": "stderr",
     "output_type": "stream",
     "text": [
      "2022-07-22 06:41:21.878318: I tensorflow/compiler/mlir/mlir_graph_optimization_pass.cc:185] None of the MLIR Optimization Passes are enabled (registered 2)\n"
     ]
    },
    {
     "name": "stdout",
     "output_type": "stream",
     "text": [
      "Epoch 1/4\n",
      "5872/5872 [==============================] - 17s 3ms/step - loss: 463.5718 - accuracy: 0.0119 - val_loss: 5.7013e-05 - val_accuracy: 0.0134\n",
      "\n",
      "Epoch 00001: val_loss improved from inf to 0.00006, saving model to Weights-001--0.00006.hdf5\n",
      "Epoch 2/4\n",
      "5872/5872 [==============================] - 16s 3ms/step - loss: 49.3988 - accuracy: 0.0127 - val_loss: 2.4294e-05 - val_accuracy: 0.0134\n",
      "\n",
      "Epoch 00002: val_loss improved from 0.00006 to 0.00002, saving model to Weights-002--0.00002.hdf5\n",
      "Epoch 3/4\n",
      "5872/5872 [==============================] - 15s 2ms/step - loss: 0.0472 - accuracy: 0.0129 - val_loss: 5.9578e-08 - val_accuracy: 0.0134\n",
      "\n",
      "Epoch 00003: val_loss improved from 0.00002 to 0.00000, saving model to Weights-003--0.00000.hdf5\n",
      "Epoch 4/4\n",
      "5872/5872 [==============================] - 15s 3ms/step - loss: 0.1668 - accuracy: 0.0130 - val_loss: 1.0886e-07 - val_accuracy: 0.0134\n",
      "\n",
      "Epoch 00004: val_loss did not improve from 0.00000\n"
     ]
    },
    {
     "data": {
      "text/plain": [
       "<keras.callbacks.History at 0x7fc4c0073dd0>"
      ]
     },
     "execution_count": 16,
     "metadata": {},
     "output_type": "execute_result"
    }
   ],
   "source": [
    "#training\n",
    "NN_model.fit(trainx_processed, trainy_trans, epochs=4, batch_size=32, validation_split = 0.1, callbacks=callbacks_list)"
   ]
  },
  {
   "cell_type": "code",
   "execution_count": 17,
   "id": "07e714da",
   "metadata": {
    "execution": {
     "iopub.execute_input": "2022-07-22T06:42:44.408551Z",
     "iopub.status.busy": "2022-07-22T06:42:44.407609Z",
     "iopub.status.idle": "2022-07-22T06:42:47.391372Z",
     "shell.execute_reply": "2022-07-22T06:42:47.388800Z"
    },
    "papermill": {
     "duration": 3.05988,
     "end_time": "2022-07-22T06:42:47.394851",
     "exception": false,
     "start_time": "2022-07-22T06:42:44.334971",
     "status": "completed"
    },
    "tags": []
   },
   "outputs": [],
   "source": [
    "price = NN_model.predict(test_processed)\n",
    "price = scaler.inverse_transform(price)"
   ]
  },
  {
   "cell_type": "code",
   "execution_count": 18,
   "id": "951ab149",
   "metadata": {
    "execution": {
     "iopub.execute_input": "2022-07-22T06:42:47.657123Z",
     "iopub.status.busy": "2022-07-22T06:42:47.656439Z",
     "iopub.status.idle": "2022-07-22T06:42:47.664750Z",
     "shell.execute_reply": "2022-07-22T06:42:47.663667Z"
    },
    "papermill": {
     "duration": 0.140726,
     "end_time": "2022-07-22T06:42:47.668694",
     "exception": false,
     "start_time": "2022-07-22T06:42:47.527968",
     "status": "completed"
    },
    "tags": []
   },
   "outputs": [
    {
     "data": {
      "text/plain": [
       "array([[-179532.38  ],\n",
       "       [ -17760.88  ],\n",
       "       [ -36857.324 ],\n",
       "       ...,\n",
       "       [  -1858.035 ],\n",
       "       [   2157.828 ],\n",
       "       [  -3968.0396]], dtype=float32)"
      ]
     },
     "execution_count": 18,
     "metadata": {},
     "output_type": "execute_result"
    }
   ],
   "source": [
    "price"
   ]
  },
  {
   "cell_type": "code",
   "execution_count": 19,
   "id": "779f185e",
   "metadata": {
    "execution": {
     "iopub.execute_input": "2022-07-22T06:42:47.926794Z",
     "iopub.status.busy": "2022-07-22T06:42:47.926396Z",
     "iopub.status.idle": "2022-07-22T06:42:47.932129Z",
     "shell.execute_reply": "2022-07-22T06:42:47.931085Z"
    },
    "papermill": {
     "duration": 0.131472,
     "end_time": "2022-07-22T06:42:47.934480",
     "exception": false,
     "start_time": "2022-07-22T06:42:47.803008",
     "status": "completed"
    },
    "tags": []
   },
   "outputs": [],
   "source": [
    "#creating submission file\n",
    "def submission(id, price):\n",
    "    submit = pd.DataFrame()\n",
    "    submit['id'] = id\n",
    "    submit['price'] = price\n",
    "    submit.to_csv('submission.csv', index = False)"
   ]
  },
  {
   "cell_type": "code",
   "execution_count": 20,
   "id": "7194f365",
   "metadata": {
    "execution": {
     "iopub.execute_input": "2022-07-22T06:42:48.079196Z",
     "iopub.status.busy": "2022-07-22T06:42:48.078895Z",
     "iopub.status.idle": "2022-07-22T06:42:48.212240Z",
     "shell.execute_reply": "2022-07-22T06:42:48.211300Z"
    },
    "papermill": {
     "duration": 0.2078,
     "end_time": "2022-07-22T06:42:48.214469",
     "exception": false,
     "start_time": "2022-07-22T06:42:48.006669",
     "status": "completed"
    },
    "tags": []
   },
   "outputs": [],
   "source": [
    "submission(test['id'], price)"
   ]
  },
  {
   "cell_type": "code",
   "execution_count": null,
   "id": "800969be",
   "metadata": {
    "papermill": {
     "duration": 0.071511,
     "end_time": "2022-07-22T06:42:48.360630",
     "exception": false,
     "start_time": "2022-07-22T06:42:48.289119",
     "status": "completed"
    },
    "tags": []
   },
   "outputs": [],
   "source": []
  }
 ],
 "metadata": {
  "kernelspec": {
   "display_name": "Python 3",
   "language": "python",
   "name": "python3"
  },
  "language_info": {
   "codemirror_mode": {
    "name": "ipython",
    "version": 3
   },
   "file_extension": ".py",
   "mimetype": "text/x-python",
   "name": "python",
   "nbconvert_exporter": "python",
   "pygments_lexer": "ipython3",
   "version": "3.7.12"
  },
  "papermill": {
   "default_parameters": {},
   "duration": 113.354958,
   "end_time": "2022-07-22T06:42:52.140299",
   "environment_variables": {},
   "exception": null,
   "input_path": "__notebook__.ipynb",
   "output_path": "__notebook__.ipynb",
   "parameters": {},
   "start_time": "2022-07-22T06:40:58.785341",
   "version": "2.3.4"
  }
 },
 "nbformat": 4,
 "nbformat_minor": 5
}
