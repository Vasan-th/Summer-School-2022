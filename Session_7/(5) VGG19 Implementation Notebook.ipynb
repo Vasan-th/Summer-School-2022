{
  "nbformat": 4,
  "nbformat_minor": 0,
  "metadata": {
    "colab": {
      "name": "Summer School VGG19 Implementation.ipynb",
      "provenance": [],
      "collapsed_sections": []
    },
    "kernelspec": {
      "name": "python3",
      "display_name": "Python 3"
    },
    "language_info": {
      "name": "python"
    },
    "accelerator": "GPU",
    "gpuClass": "standard",
    "widgets": {
      "application/vnd.jupyter.widget-state+json": {
        "9757306dcf024c2985f4f59e102c9f68": {
          "model_module": "@jupyter-widgets/controls",
          "model_name": "HBoxModel",
          "model_module_version": "1.5.0",
          "state": {
            "_dom_classes": [],
            "_model_module": "@jupyter-widgets/controls",
            "_model_module_version": "1.5.0",
            "_model_name": "HBoxModel",
            "_view_count": null,
            "_view_module": "@jupyter-widgets/controls",
            "_view_module_version": "1.5.0",
            "_view_name": "HBoxView",
            "box_style": "",
            "children": [
              "IPY_MODEL_340de87ec4374fd49f9ce5a72d551181",
              "IPY_MODEL_d6a1a452c0f84af4adeb7b702cddd6ff",
              "IPY_MODEL_85c955fa24514da4a2ce9820be0d6d4c"
            ],
            "layout": "IPY_MODEL_4d1a8314803544028b56120cde558ea1"
          }
        },
        "340de87ec4374fd49f9ce5a72d551181": {
          "model_module": "@jupyter-widgets/controls",
          "model_name": "HTMLModel",
          "model_module_version": "1.5.0",
          "state": {
            "_dom_classes": [],
            "_model_module": "@jupyter-widgets/controls",
            "_model_module_version": "1.5.0",
            "_model_name": "HTMLModel",
            "_view_count": null,
            "_view_module": "@jupyter-widgets/controls",
            "_view_module_version": "1.5.0",
            "_view_name": "HTMLView",
            "description": "",
            "description_tooltip": null,
            "layout": "IPY_MODEL_84b9651ca2d846f8897fdd06046b0128",
            "placeholder": "​",
            "style": "IPY_MODEL_627a3dc3d61047a8b7b9d1d6612d500a",
            "value": "100%"
          }
        },
        "d6a1a452c0f84af4adeb7b702cddd6ff": {
          "model_module": "@jupyter-widgets/controls",
          "model_name": "FloatProgressModel",
          "model_module_version": "1.5.0",
          "state": {
            "_dom_classes": [],
            "_model_module": "@jupyter-widgets/controls",
            "_model_module_version": "1.5.0",
            "_model_name": "FloatProgressModel",
            "_view_count": null,
            "_view_module": "@jupyter-widgets/controls",
            "_view_module_version": "1.5.0",
            "_view_name": "ProgressView",
            "bar_style": "success",
            "description": "",
            "description_tooltip": null,
            "layout": "IPY_MODEL_94cb4b3c5294467ca7aaa58c1ca3c255",
            "max": 170498071,
            "min": 0,
            "orientation": "horizontal",
            "style": "IPY_MODEL_819e12ed09ca4be58c627b130ea54047",
            "value": 170498071
          }
        },
        "85c955fa24514da4a2ce9820be0d6d4c": {
          "model_module": "@jupyter-widgets/controls",
          "model_name": "HTMLModel",
          "model_module_version": "1.5.0",
          "state": {
            "_dom_classes": [],
            "_model_module": "@jupyter-widgets/controls",
            "_model_module_version": "1.5.0",
            "_model_name": "HTMLModel",
            "_view_count": null,
            "_view_module": "@jupyter-widgets/controls",
            "_view_module_version": "1.5.0",
            "_view_name": "HTMLView",
            "description": "",
            "description_tooltip": null,
            "layout": "IPY_MODEL_09c1cc69f1884b9c869bcbd5dd26f99b",
            "placeholder": "​",
            "style": "IPY_MODEL_46c10d4cd68c4fcba7704e814a5cd8e9",
            "value": " 170498071/170498071 [00:13&lt;00:00, 12565417.65it/s]"
          }
        },
        "4d1a8314803544028b56120cde558ea1": {
          "model_module": "@jupyter-widgets/base",
          "model_name": "LayoutModel",
          "model_module_version": "1.2.0",
          "state": {
            "_model_module": "@jupyter-widgets/base",
            "_model_module_version": "1.2.0",
            "_model_name": "LayoutModel",
            "_view_count": null,
            "_view_module": "@jupyter-widgets/base",
            "_view_module_version": "1.2.0",
            "_view_name": "LayoutView",
            "align_content": null,
            "align_items": null,
            "align_self": null,
            "border": null,
            "bottom": null,
            "display": null,
            "flex": null,
            "flex_flow": null,
            "grid_area": null,
            "grid_auto_columns": null,
            "grid_auto_flow": null,
            "grid_auto_rows": null,
            "grid_column": null,
            "grid_gap": null,
            "grid_row": null,
            "grid_template_areas": null,
            "grid_template_columns": null,
            "grid_template_rows": null,
            "height": null,
            "justify_content": null,
            "justify_items": null,
            "left": null,
            "margin": null,
            "max_height": null,
            "max_width": null,
            "min_height": null,
            "min_width": null,
            "object_fit": null,
            "object_position": null,
            "order": null,
            "overflow": null,
            "overflow_x": null,
            "overflow_y": null,
            "padding": null,
            "right": null,
            "top": null,
            "visibility": null,
            "width": null
          }
        },
        "84b9651ca2d846f8897fdd06046b0128": {
          "model_module": "@jupyter-widgets/base",
          "model_name": "LayoutModel",
          "model_module_version": "1.2.0",
          "state": {
            "_model_module": "@jupyter-widgets/base",
            "_model_module_version": "1.2.0",
            "_model_name": "LayoutModel",
            "_view_count": null,
            "_view_module": "@jupyter-widgets/base",
            "_view_module_version": "1.2.0",
            "_view_name": "LayoutView",
            "align_content": null,
            "align_items": null,
            "align_self": null,
            "border": null,
            "bottom": null,
            "display": null,
            "flex": null,
            "flex_flow": null,
            "grid_area": null,
            "grid_auto_columns": null,
            "grid_auto_flow": null,
            "grid_auto_rows": null,
            "grid_column": null,
            "grid_gap": null,
            "grid_row": null,
            "grid_template_areas": null,
            "grid_template_columns": null,
            "grid_template_rows": null,
            "height": null,
            "justify_content": null,
            "justify_items": null,
            "left": null,
            "margin": null,
            "max_height": null,
            "max_width": null,
            "min_height": null,
            "min_width": null,
            "object_fit": null,
            "object_position": null,
            "order": null,
            "overflow": null,
            "overflow_x": null,
            "overflow_y": null,
            "padding": null,
            "right": null,
            "top": null,
            "visibility": null,
            "width": null
          }
        },
        "627a3dc3d61047a8b7b9d1d6612d500a": {
          "model_module": "@jupyter-widgets/controls",
          "model_name": "DescriptionStyleModel",
          "model_module_version": "1.5.0",
          "state": {
            "_model_module": "@jupyter-widgets/controls",
            "_model_module_version": "1.5.0",
            "_model_name": "DescriptionStyleModel",
            "_view_count": null,
            "_view_module": "@jupyter-widgets/base",
            "_view_module_version": "1.2.0",
            "_view_name": "StyleView",
            "description_width": ""
          }
        },
        "94cb4b3c5294467ca7aaa58c1ca3c255": {
          "model_module": "@jupyter-widgets/base",
          "model_name": "LayoutModel",
          "model_module_version": "1.2.0",
          "state": {
            "_model_module": "@jupyter-widgets/base",
            "_model_module_version": "1.2.0",
            "_model_name": "LayoutModel",
            "_view_count": null,
            "_view_module": "@jupyter-widgets/base",
            "_view_module_version": "1.2.0",
            "_view_name": "LayoutView",
            "align_content": null,
            "align_items": null,
            "align_self": null,
            "border": null,
            "bottom": null,
            "display": null,
            "flex": null,
            "flex_flow": null,
            "grid_area": null,
            "grid_auto_columns": null,
            "grid_auto_flow": null,
            "grid_auto_rows": null,
            "grid_column": null,
            "grid_gap": null,
            "grid_row": null,
            "grid_template_areas": null,
            "grid_template_columns": null,
            "grid_template_rows": null,
            "height": null,
            "justify_content": null,
            "justify_items": null,
            "left": null,
            "margin": null,
            "max_height": null,
            "max_width": null,
            "min_height": null,
            "min_width": null,
            "object_fit": null,
            "object_position": null,
            "order": null,
            "overflow": null,
            "overflow_x": null,
            "overflow_y": null,
            "padding": null,
            "right": null,
            "top": null,
            "visibility": null,
            "width": null
          }
        },
        "819e12ed09ca4be58c627b130ea54047": {
          "model_module": "@jupyter-widgets/controls",
          "model_name": "ProgressStyleModel",
          "model_module_version": "1.5.0",
          "state": {
            "_model_module": "@jupyter-widgets/controls",
            "_model_module_version": "1.5.0",
            "_model_name": "ProgressStyleModel",
            "_view_count": null,
            "_view_module": "@jupyter-widgets/base",
            "_view_module_version": "1.2.0",
            "_view_name": "StyleView",
            "bar_color": null,
            "description_width": ""
          }
        },
        "09c1cc69f1884b9c869bcbd5dd26f99b": {
          "model_module": "@jupyter-widgets/base",
          "model_name": "LayoutModel",
          "model_module_version": "1.2.0",
          "state": {
            "_model_module": "@jupyter-widgets/base",
            "_model_module_version": "1.2.0",
            "_model_name": "LayoutModel",
            "_view_count": null,
            "_view_module": "@jupyter-widgets/base",
            "_view_module_version": "1.2.0",
            "_view_name": "LayoutView",
            "align_content": null,
            "align_items": null,
            "align_self": null,
            "border": null,
            "bottom": null,
            "display": null,
            "flex": null,
            "flex_flow": null,
            "grid_area": null,
            "grid_auto_columns": null,
            "grid_auto_flow": null,
            "grid_auto_rows": null,
            "grid_column": null,
            "grid_gap": null,
            "grid_row": null,
            "grid_template_areas": null,
            "grid_template_columns": null,
            "grid_template_rows": null,
            "height": null,
            "justify_content": null,
            "justify_items": null,
            "left": null,
            "margin": null,
            "max_height": null,
            "max_width": null,
            "min_height": null,
            "min_width": null,
            "object_fit": null,
            "object_position": null,
            "order": null,
            "overflow": null,
            "overflow_x": null,
            "overflow_y": null,
            "padding": null,
            "right": null,
            "top": null,
            "visibility": null,
            "width": null
          }
        },
        "46c10d4cd68c4fcba7704e814a5cd8e9": {
          "model_module": "@jupyter-widgets/controls",
          "model_name": "DescriptionStyleModel",
          "model_module_version": "1.5.0",
          "state": {
            "_model_module": "@jupyter-widgets/controls",
            "_model_module_version": "1.5.0",
            "_model_name": "DescriptionStyleModel",
            "_view_count": null,
            "_view_module": "@jupyter-widgets/base",
            "_view_module_version": "1.2.0",
            "_view_name": "StyleView",
            "description_width": ""
          }
        }
      }
    }
  },
  "cells": [
    {
      "cell_type": "code",
      "execution_count": null,
      "metadata": {
        "id": "PFLxGrLvPYKB"
      },
      "outputs": [],
      "source": [
        "#importing the required libraries\n",
        "from IPython.display import clear_output\n",
        "\n",
        "import torch\n",
        "import torch.nn as nn\n",
        "import torch.nn.functional as F\n",
        "import torchvision\n",
        "import torchvision.transforms as transforms"
      ]
    },
    {
      "cell_type": "code",
      "source": [
        "cifar_trainset = torchvision.datasets.CIFAR10(root='./data', train=True, download=True)\n",
        "data = cifar_trainset.data / 255 # data is numpy array\n",
        "\n",
        "clear_output()\n",
        "\n",
        "mean = data.mean(axis = (0,1,2)) \n",
        "std = data.std(axis = (0,1,2))\n",
        "print(f\"Mean : {mean}   STD: {std}\")"
      ],
      "metadata": {
        "colab": {
          "base_uri": "https://localhost:8080/",
          "height": 83,
          "referenced_widgets": [
            "9757306dcf024c2985f4f59e102c9f68",
            "340de87ec4374fd49f9ce5a72d551181",
            "d6a1a452c0f84af4adeb7b702cddd6ff",
            "85c955fa24514da4a2ce9820be0d6d4c",
            "4d1a8314803544028b56120cde558ea1",
            "84b9651ca2d846f8897fdd06046b0128",
            "627a3dc3d61047a8b7b9d1d6612d500a",
            "94cb4b3c5294467ca7aaa58c1ca3c255",
            "819e12ed09ca4be58c627b130ea54047",
            "09c1cc69f1884b9c869bcbd5dd26f99b",
            "46c10d4cd68c4fcba7704e814a5cd8e9"
          ]
        },
        "id": "vWBfITAiG9sV",
        "outputId": "72cd552e-1f42-476c-d0bf-3ec6fb4e0df3"
      },
      "execution_count": null,
      "outputs": [
        {
          "output_type": "stream",
          "name": "stdout",
          "text": [
            "Mean : [0.49139968 0.48215841 0.44653091]   STD: [0.24703223 0.24348513 0.26158784]\n"
          ]
        }
      ]
    },
    {
      "cell_type": "code",
      "source": [
        "#loading the CIFAR10 dataset\n",
        "\n",
        "transform = transforms.Compose([transforms.ToTensor(), transforms.Normalize((0.4914, 0.4822, 0.4465), (0.2470, 0.2435, 0.2616))])\n",
        "\n",
        "batch_size = 64\n",
        "\n",
        "train_dataset = torchvision.datasets.CIFAR10(root='./data', train=True, download=True, transform=transform)\n",
        "\n",
        "test_dataset = torchvision.datasets.CIFAR10(root='./data', train=False, download=True, transform=transform)\n",
        "\n",
        "train_set = torch.utils.data.DataLoader(train_dataset, batch_size=batch_size, shuffle=True)\n",
        "\n",
        "test_set = torch.utils.data.DataLoader(test_dataset, batch_size=batch_size, shuffle=True)\n",
        "\n",
        "clear_output()"
      ],
      "metadata": {
        "id": "3zxVgzwa0lRe"
      },
      "execution_count": null,
      "outputs": []
    },
    {
      "cell_type": "code",
      "source": [
        "#creating the VGG19 model\n",
        "\n",
        "VGG_19 = [64, 64, 'M', 128, 128, 'M', 256, 256, 256, 256, 'M', 512, 512, 512, 512, 'M', 512, 512, 512, 512, 'M']\n",
        "\n",
        "class VGG19_net(nn.Module):\n",
        "  def __init__(self, in_channels = 3, no_of_classes = 10):\n",
        "    super(VGG19_net, self).__init__()\n",
        "    self.in_channels = in_channels\n",
        "    self.no_of_classes = no_of_classes\n",
        "    self.conv_layers = self.create_conv_layers(VGG_19)\n",
        "    self.avg_pool = nn.AdaptiveAvgPool2d((1, 1))\n",
        "    self.fully_connected_layers = nn.Sequential(\n",
        "                                                nn.Linear(in_features = 512 * 1 * 1, out_features = 4096, bias = True),\n",
        "                                                nn.ReLU(inplace = True),\n",
        "                                                nn.Dropout(p = 0.5),\n",
        "                                                nn.Linear(in_features = 4096, out_features = 4096, bias = True),\n",
        "                                                nn.ReLU(inplace = True),\n",
        "                                                nn.Dropout(p = 0.5),\n",
        "                                                nn.Linear(in_features = 4096, out_features = self.no_of_classes),\n",
        "                                              )\n",
        "\n",
        "  def create_conv_layers(self, arch):\n",
        "   layers = []\n",
        "   in_channels = self.in_channels\n",
        "   for layer in arch:\n",
        "     if(type(layer) == int):\n",
        "       out_channels = layer\n",
        "\n",
        "       layers += [nn.Conv2d(\n",
        "                            in_channels = in_channels,\n",
        "                            out_channels = out_channels,\n",
        "                            kernel_size = 3,\n",
        "                            stride = 1,\n",
        "                            padding = 1\n",
        "                          ),\n",
        "                  nn.BatchNorm2d(layer),\n",
        "                  nn.ReLU(inplace = True)\n",
        "                 ]\n",
        "       in_channels = layer\n",
        "     elif(layer == 'M'):\n",
        "       layers += [nn.MaxPool2d(kernel_size = 2, stride = 2)]\n",
        "\n",
        "   return nn.Sequential(*layers)    \n",
        "\n",
        "  def forward(self, x):\n",
        "    x = self.conv_layers(x)\n",
        "    x = self.avg_pool(x)\n",
        "    x = torch.flatten(x, start_dim = 1, end_dim = -1)\n",
        "    x = self.fully_connected_layers(x)\n",
        "    return x"
      ],
      "metadata": {
        "id": "j66BoN4S0lUz"
      },
      "execution_count": null,
      "outputs": []
    },
    {
      "cell_type": "code",
      "source": [
        "#passing data and training the model\n",
        "\n",
        "device = \"cuda\" if torch.cuda.is_available() else \"cpu\"\n",
        "\n",
        "learning_rate = 3e-4\n",
        "no_of_epochs = 10\n",
        "\n",
        "vgg = VGG19_net().to(device)\n",
        "loss_function = nn.CrossEntropyLoss()\n",
        "optimizer = torch.optim.Adam(vgg.parameters(), lr = learning_rate)\n",
        "\n",
        "for epoch in range(no_of_epochs):\n",
        "  for image, label in train_set:\n",
        "    image = image.to(device)\n",
        "    label = label.to(device)\n",
        "    output = vgg(image)\n",
        "    loss = loss_function(output, label)\n",
        "    optimizer.zero_grad()\n",
        "    loss.backward()\n",
        "    optimizer.step()\n",
        "  print(\"Epoch\", epoch + 1, \"completed!\")\n",
        "\n",
        "print(\"Training of VGG-19 neural network successfully completed!\")"
      ],
      "metadata": {
        "id": "RLNnZc2O0lXa",
        "colab": {
          "base_uri": "https://localhost:8080/"
        },
        "outputId": "747edd33-2ae5-4476-8e3e-bcb3228e0452"
      },
      "execution_count": null,
      "outputs": [
        {
          "output_type": "stream",
          "name": "stdout",
          "text": [
            "Epoch 1 completed!\n",
            "Epoch 2 completed!\n",
            "Epoch 3 completed!\n",
            "Epoch 4 completed!\n",
            "Epoch 5 completed!\n",
            "Epoch 6 completed!\n",
            "Epoch 7 completed!\n",
            "Epoch 8 completed!\n",
            "Epoch 9 completed!\n",
            "Epoch 10 completed!\n",
            "Training of VGG-19 neural network successfully completed!\n"
          ]
        }
      ]
    },
    {
      "cell_type": "code",
      "source": [
        "#what does the output look like\n",
        "\n",
        "with torch.no_grad():\n",
        "  for image, label in test_set:\n",
        "    image = image.to(device)\n",
        "    label = label.to(device)\n",
        "    outputs = vgg(image)\n",
        "    temp, pred = torch.max(outputs, dim = 1)\n",
        "    print(temp)\n",
        "    print(pred)\n",
        "    print(\"\\n\")\n",
        "    print(temp[0])\n",
        "    print(pred[0])\n",
        "    print(label[0])\n",
        "    break"
      ],
      "metadata": {
        "id": "iO39Ey5ENnJs",
        "colab": {
          "base_uri": "https://localhost:8080/"
        },
        "outputId": "8c90adde-37aa-4cbc-ff78-e21960ecab87"
      },
      "execution_count": null,
      "outputs": [
        {
          "output_type": "stream",
          "name": "stdout",
          "text": [
            "tensor([ 8.1878,  4.1189,  2.5021,  1.7105,  3.6367,  3.6147,  6.2594,  2.9525,\n",
            "         3.1035,  2.4162,  1.0373,  1.4131,  1.3374, 13.9563,  8.4483,  5.9720,\n",
            "         2.0410,  3.9827,  4.4832, 11.8724,  3.2713,  5.2645,  3.4421,  6.2401,\n",
            "         2.9163,  3.9559,  7.4412,  3.8710,  3.0241,  3.8694,  4.5801,  6.0913,\n",
            "        15.1977, 11.5616,  4.0502,  1.5650,  3.9265,  3.8631,  5.0691,  6.0464,\n",
            "         6.3270,  4.3630,  4.7962,  1.5815,  9.5685,  4.7860,  9.2943,  3.3330,\n",
            "        11.1020,  5.0511,  1.2550,  3.1782,  3.1576,  8.3472,  8.0436,  6.0602,\n",
            "         5.1455,  6.0653,  1.6465,  7.1832,  7.9633,  9.3108,  5.2932,  5.9856],\n",
            "       device='cuda:0')\n",
            "tensor([7, 7, 6, 3, 0, 9, 9, 5, 9, 0, 2, 4, 3, 1, 9, 5, 3, 6, 7, 8, 4, 9, 5, 7,\n",
            "        0, 1, 2, 6, 5, 3, 7, 6, 8, 1, 4, 7, 6, 0, 4, 6, 4, 0, 6, 5, 2, 5, 1, 3,\n",
            "        1, 5, 3, 1, 3, 1, 1, 5, 4, 9, 4, 5, 9, 1, 9, 4], device='cuda:0')\n",
            "\n",
            "\n",
            "tensor(8.1878, device='cuda:0')\n",
            "tensor(7, device='cuda:0')\n",
            "tensor(7, device='cuda:0')\n"
          ]
        }
      ]
    },
    {
      "cell_type": "code",
      "source": [
        "#testing the model\n",
        "\n",
        "correct = 0\n",
        "incorrect = 0\n",
        "\n",
        "with torch.no_grad():\n",
        "  for image, label in test_set:\n",
        "    image = image.to(device)\n",
        "    label = label.to(device)\n",
        "    outputs = vgg(image)\n",
        "    temp, pred = torch.max(outputs, dim = 1)\n",
        "    correct += (pred == label).sum().item()\n",
        "    incorrect += (pred != label).sum().item()\n",
        "\n",
        "model_accuracy = (correct/(correct + incorrect)) * 100\n",
        "print(\"Accuracy of the VGG-19 model : \", model_accuracy, \"%\", sep = \"\")"
      ],
      "metadata": {
        "id": "iJ61YBUq0lZw",
        "colab": {
          "base_uri": "https://localhost:8080/"
        },
        "outputId": "aa2580e7-b6b7-49d3-db13-6831049c56c2"
      },
      "execution_count": null,
      "outputs": [
        {
          "output_type": "stream",
          "name": "stdout",
          "text": [
            "Accuracy of the VGG-19 model : 82.25%\n"
          ]
        }
      ]
    }
  ]
}