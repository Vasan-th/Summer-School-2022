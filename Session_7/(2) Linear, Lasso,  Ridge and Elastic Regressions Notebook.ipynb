{
  "nbformat": 4,
  "nbformat_minor": 0,
  "metadata": {
    "colab": {
      "name": "Linear, Lasso, Ridge and Elastic Regressions.ipynb",
      "provenance": [],
      "collapsed_sections": []
    },
    "kernelspec": {
      "name": "python3",
      "display_name": "Python 3"
    },
    "language_info": {
      "name": "python"
    },
    "gpuClass": "standard"
  },
  "cells": [
    {
      "cell_type": "code",
      "source": [
        "import pandas as pd\n",
        "import numpy as np\n",
        "import math\n",
        "import matplotlib.pyplot as plt\n",
        "from scipy.interpolate import make_interp_spline\n",
        "from sklearn.datasets import load_boston, fetch_california_housing\n",
        "from sklearn.model_selection import train_test_split\n",
        "from sklearn.linear_model import LinearRegression, Ridge, RidgeCV, Lasso, LassoCV, ElasticNet, ElasticNetCV\n",
        "from sklearn import metrics\n",
        "import warnings\n",
        "warnings.filterwarnings(\"ignore\")"
      ],
      "metadata": {
        "id": "xLQU8vHvFPA-"
      },
      "execution_count": null,
      "outputs": []
    },
    {
      "cell_type": "code",
      "source": [
        "# url = 'http://archive.ics.uci.edu/ml/machine-learning-databases/communities/communities.data'\n",
        "\n",
        "# df = pd.read_csv(url, header = None, na_values = ['?'])\n",
        "\n",
        "# df.drop([0, 1, 2, 3, 4], axis = 1, inplace = True)\n",
        "# df.dropna(inplace = True)\n",
        "\n",
        "# X = df.drop(127, axis = 1, inplace = False)\n",
        "# y = df[127]\n",
        "\n",
        "# X_train, X_test, y_train, y_test = train_test_split(X, y, test_size = 0.3, random_state = 1)"
      ],
      "metadata": {
        "id": "FRjVmxULyPl4"
      },
      "execution_count": null,
      "outputs": []
    },
    {
      "cell_type": "code",
      "source": [
        "# df = load_boston()\n",
        "\n",
        "# housing = pd.DataFrame(df.data)\n",
        "\n",
        "# housing.columns = df.feature_names\n",
        "# housing['Price'] = df.target\n",
        "\n",
        "# X = housing.drop('Price', axis = 1, inplace = False)\n",
        "# y = housing['Price']\n",
        "\n",
        "# print(housing)\n",
        "\n",
        "# X_train, X_test, y_train, y_test = train_test_split(X, y, test_size = 0.4, random_state = 1, shuffle = True)"
      ],
      "metadata": {
        "id": "EuAdOFAzFgsk"
      },
      "execution_count": null,
      "outputs": []
    },
    {
      "cell_type": "code",
      "source": [
        "df = fetch_california_housing()\n",
        "\n",
        "housing = pd.DataFrame(df.data)\n",
        "\n",
        "housing.columns = df.feature_names\n",
        "housing['Price'] = df.target\n",
        "\n",
        "X = housing.drop('Price', axis = 1, inplace = False)\n",
        "y = housing['Price']\n",
        "\n",
        "X_train, X_test, y_train, y_test = train_test_split(X, y, test_size = 0.8, random_state = 1, shuffle = True)"
      ],
      "metadata": {
        "id": "dQwBSrpTJS9Y"
      },
      "execution_count": null,
      "outputs": []
    },
    {
      "cell_type": "markdown",
      "source": [
        "Linear Regression\n",
        "\n"
      ],
      "metadata": {
        "id": "jkWOorpqFDAU"
      }
    },
    {
      "cell_type": "code",
      "source": [
        "linear_regression = LinearRegression()\n",
        "\n",
        "linear_regression.fit(X_train, y_train)\n",
        "\n",
        "LinearRegression(copy_X = True, fit_intercept = True, n_jobs = None, normalize = False)\n",
        "\n",
        "print(\"Coefficients :\", linear_regression.coef_, \"\\n\")\n",
        "\n",
        "train_pred_linear = linear_regression.predict(X_train)\n",
        "test_pred_linear = linear_regression.predict(X_test)\n",
        "\n",
        "print(\"Training Error on Linear Regression Model :\", metrics.mean_squared_error(y_train, train_pred_linear), \"\\n\")\n",
        "print(\"Generalisation Error of Linear Regression Model :\", metrics.mean_squared_error(y_test, test_pred_linear))"
      ],
      "metadata": {
        "colab": {
          "base_uri": "https://localhost:8080/"
        },
        "id": "n3DcxJ3aFErW",
        "outputId": "f619f40f-a09d-43ea-92de-8c4a44ec5161"
      },
      "execution_count": null,
      "outputs": [
        {
          "output_type": "stream",
          "name": "stdout",
          "text": [
            "Coefficients : [ 3.95756322e-01  1.09421458e-02 -1.43702376e-02  1.63555930e-01\n",
            "  1.36694668e-05 -2.51888795e-01 -4.33561886e-01 -4.16993317e-01] \n",
            "\n",
            "Training Error on Linear Regression Model : 0.4864539687571813 \n",
            "\n",
            "Generalisation Error of Linear Regression Model : 8.844120921880256\n"
          ]
        }
      ]
    },
    {
      "cell_type": "markdown",
      "source": [
        "Lasso Regression(L1 Regularisation)"
      ],
      "metadata": {
        "id": "TWZ_Oq0qEyDv"
      }
    },
    {
      "cell_type": "code",
      "source": [
        "lasso_regression = Lasso(alpha = 0.0005, normalize = True)\n",
        "\n",
        "lasso_regression.fit(X_train, y_train)\n",
        "\n",
        "print(\"Coefficients :\", lasso_regression.coef_, \"\\n\")\n",
        "\n",
        "train_pred_lasso = lasso_regression.predict(X_train)\n",
        "test_pred_lasso = lasso_regression.predict(X_test)\n",
        "\n",
        "print(\"Training Error on Lasso Regression Model :\", metrics.mean_squared_error(y_train, train_pred_lasso), \"\\n\")\n",
        "print(\"Generalisation Error of Lasso Regression Model :\", metrics.mean_squared_error(y_test, test_pred_lasso))"
      ],
      "metadata": {
        "colab": {
          "base_uri": "https://localhost:8080/"
        },
        "id": "577qyrMlEzzZ",
        "outputId": "4a9cc0de-35d0-4a0a-d7b2-d42290cbe6ae"
      },
      "execution_count": null,
      "outputs": [
        {
          "output_type": "stream",
          "name": "stdout",
          "text": [
            "Coefficients : [ 0.39398091  0.01132389  0.          0.01214647  0.         -0.22097932\n",
            " -0.2217145  -0.19283625] \n",
            "\n",
            "Training Error on Lasso Regression Model : 0.518915834842168 \n",
            "\n",
            "Generalisation Error of Lasso Regression Model : 6.937543941227409\n"
          ]
        }
      ]
    },
    {
      "cell_type": "code",
      "source": [
        "lasso_regression_cv = LassoCV(n_alphas = 1000, normalize = True, random_state = 1)\n",
        "\n",
        "lasso_regression_cv.fit(X_train, y_train)\n",
        "\n",
        "print(\"Coefficients :\", lasso_regression.coef_, \"\\n\")\n",
        "\n",
        "print(\"Chosen regularisation parameter :\", lasso_regression_cv.alpha_, \"\\n\")\n",
        "\n",
        "train_pred_lassocv = lasso_regression.predict(X_train)\n",
        "test_pred_lassocv = lasso_regression_cv.predict(X_test)\n",
        "\n",
        "print(\"Training Error of Lasso Regression Model :\", metrics.mean_squared_error(y_train, train_pred_lassocv), \"\\n\")\n",
        "print(\"Generalisation Error of Lasso Regression Model : \", metrics.mean_squared_error(y_test, test_pred_lassocv))"
      ],
      "metadata": {
        "colab": {
          "base_uri": "https://localhost:8080/"
        },
        "id": "u6kjl3GpnTrA",
        "outputId": "be0ebb11-fcfd-4f83-a8d0-ddfcba9e8953"
      },
      "execution_count": null,
      "outputs": [
        {
          "output_type": "stream",
          "name": "stdout",
          "text": [
            "Coefficients : [ 0.39398091  0.01132389  0.          0.01214647  0.         -0.22097932\n",
            " -0.2217145  -0.19283625] \n",
            "\n",
            "Chosen regularisation parameter : 0.00015920965170119252 \n",
            "\n",
            "Training Error of Lasso Regression Model : 0.518915834842168 \n",
            "\n",
            "Generalisation Error of Lasso Regression Model :  8.210627054413106\n"
          ]
        }
      ]
    },
    {
      "cell_type": "code",
      "source": [
        "def lasso(X_train, y_train, X_test, y_test, alpha):\n",
        "    lasso = Lasso(alpha = alpha, normalize = True)\n",
        "    lasso.fit(X_train, y_train)\n",
        "    return lasso.predict(X_test)\n",
        "\n",
        "alphas = np.array(lasso_regression_cv.alphas_)\n",
        "\n",
        "x = np.array(alphas)\n",
        "x_log = np.array([math.log(alpha, 10) for alpha in alphas])\n",
        "y = np.array([metrics.mean_squared_error(y_test, lasso(X_train, y_train, X_test, y_test, alpha)) for alpha in alphas])\n",
        "\n",
        "plt.plot(x, y)\n",
        "plt.title(\"Generalisation Error v/s Regularisation parameter\")\n",
        "plt.xlabel(\"Regularisation Parameter\")\n",
        "plt.ylabel(\"Generalisation Error\")\n",
        "plt.show()\n",
        "\n",
        "plt.plot(x_log, y)\n",
        "plt.title(\"Generalisation Error v/s Logarithm of Regularisation parameter\")\n",
        "plt.xlabel(\"log(Regularisation Parameter)\")\n",
        "plt.ylabel(\"Generalisation Error\")\n",
        "plt.show()"
      ],
      "metadata": {
        "colab": {
          "base_uri": "https://localhost:8080/",
          "height": 573
        },
        "id": "iFQbGeL-Yw40",
        "outputId": "1da82d46-1780-4af3-d3b2-75697c0bb2f9"
      },
      "execution_count": null,
      "outputs": [
        {
          "output_type": "display_data",
          "data": {
            "text/plain": [
              "<Figure size 432x288 with 1 Axes>"
            ],
            "image/png": "[encoded data removed]"
          },
          "metadata": {
            "needs_background": "light"
          }
        },
        {
          "output_type": "display_data",
          "data": {
            "text/plain": [
              "<Figure size 432x288 with 1 Axes>"
            ],
            "image/png": "[encoded data removed]"
          },
          "metadata": {
            "needs_background": "light"
          }
        }
      ]
    },
    {
      "cell_type": "markdown",
      "source": [
        "Ridge Regression(L2 Regularisation)"
      ],
      "metadata": {
        "id": "B5u9IPT4EzmJ"
      }
    },
    {
      "cell_type": "code",
      "execution_count": null,
      "metadata": {
        "id": "s-lH3D79_fGC",
        "colab": {
          "base_uri": "https://localhost:8080/"
        },
        "outputId": "91c0811c-6491-4a1b-bec0-7fb8574869c9"
      },
      "outputs": [
        {
          "output_type": "stream",
          "name": "stdout",
          "text": [
            "Coefficients : \n",
            " [ 3.76760328e-01  1.33376587e-02  3.60605818e-03  3.25448371e-02\n",
            "  2.19542323e-05 -2.38957591e-01 -1.96088622e-01 -1.65868238e-01] \n",
            "\n",
            "Training Error of Ridge Regression Model : 0.5263808713584214 \n",
            "\n",
            "Generalisation Error of Ridge Regression Model : 8.033483614037692\n"
          ]
        }
      ],
      "source": [
        "ridge_regression = Ridge(alpha = 0.1, normalize = True)\n",
        "\n",
        "ridge_regression.fit(X_train, y_train)\n",
        "\n",
        "print(\"Coefficients : \\n\", ridge_regression.coef_, \"\\n\")\n",
        "\n",
        "train_pred_ridge = ridge_regression.predict(X_train)\n",
        "test_pred_ridge = ridge_regression.predict(X_test)\n",
        "\n",
        "print(\"Training Error of Ridge Regression Model :\", metrics.mean_squared_error(y_train, train_pred_ridge), \"\\n\")\n",
        "print(\"Generalisation Error of Ridge Regression Model :\", metrics.mean_squared_error(y_test, test_pred_ridge))"
      ]
    },
    {
      "cell_type": "code",
      "source": [
        "alphas = [1e-5, 1e-4, 1e-3, 1e-2, 1e-1, 1, 2, 5, 10, 50, 100, 200, 500, 1000]\n",
        "\n",
        "ridge_regression_cv = RidgeCV(alphas = alphas, normalize = True, scoring = 'neg_mean_squared_error')\n",
        "\n",
        "ridge_regression_cv.fit(X_train, y_train)\n",
        "\n",
        "#RidgeCV automatically chooses the best regularisation parameter possible\n",
        "print(\"Chosen regularisation parameter :\", ridge_regression_cv.alpha_, \"\\n\")\n",
        "\n",
        "print(\"Coefficients : \\n\", ridge_regression_cv.coef_, \"\\n\")\n",
        "\n",
        "train_pred_ridgecv = ridge_regression_cv.predict(X_train)\n",
        "test_pred_ridgecv = ridge_regression_cv.predict(X_test)\n",
        "\n",
        "print(\"Training Error of Ridge Regression Model :\", metrics.mean_squared_error(y_train, train_pred_ridgecv))\n",
        "print(\"Generalisation Error of Ridge Regression Model :\", metrics.mean_squared_error(y_test, test_pred_ridgecv))"
      ],
      "metadata": {
        "colab": {
          "base_uri": "https://localhost:8080/"
        },
        "id": "DwNs1pSdhmxR",
        "outputId": "55e42830-7c79-49b3-eb79-706340947429"
      },
      "execution_count": null,
      "outputs": [
        {
          "output_type": "stream",
          "name": "stdout",
          "text": [
            "Chosen regularisation parameter : 0.01 \n",
            "\n",
            "Coefficients : \n",
            " [ 3.97481045e-01  1.17773842e-02 -1.28759883e-02  1.45496184e-01\n",
            "  1.70477924e-05 -2.51612770e-01 -3.80353957e-01 -3.60663140e-01] \n",
            "\n",
            "Training Error of Ridge Regression Model : 0.4881552574913633\n",
            "Generalisation Error of Ridge Regression Model : 8.822950246148862\n"
          ]
        }
      ]
    },
    {
      "cell_type": "code",
      "source": [
        "def ridge(X_train, y_train, X_test, y_test, alpha):\n",
        "    ridge = Ridge(alpha = alpha, normalize = True)\n",
        "    ridge.fit(X_train, y_train)\n",
        "    return ridge.predict(X_test)\n",
        "\n",
        "x_log = np.array([math.log(alpha, 10) for alpha in alphas])\n",
        "x = np.array(alphas)\n",
        "y = np.array([metrics.mean_squared_error(y_test, ridge(X_train, y_train, X_test, y_test, alpha)) for alpha in alphas])\n",
        "\n",
        "plt.plot(x, y)\n",
        "plt.title(\"Generalisation Error v/s Regularisation parameter\")\n",
        "plt.xlabel(\"Regularisation Parameter\")\n",
        "plt.ylabel(\"Generalisation Error\")\n",
        "plt.show()\n",
        "\n",
        "plt.plot(x_log, y)\n",
        "plt.title(\"Generalisation Error v/s Logarithm of Regularisation parameter\")\n",
        "plt.xlabel(\"log(Regularisation Parameter)\")\n",
        "plt.ylabel(\"Generalisation Error\")\n",
        "plt.show()"
      ],
      "metadata": {
        "colab": {
          "base_uri": "https://localhost:8080/",
          "height": 573
        },
        "id": "rckNbUiqYg5Z",
        "outputId": "47d50e50-76dc-4c84-d400-117257a8a849"
      },
      "execution_count": null,
      "outputs": [
        {
          "output_type": "display_data",
          "data": {
            "text/plain": [
              "<Figure size 432x288 with 1 Axes>"
            ],
            "image/png": "[encoded data removed]"
          },
          "metadata": {
            "needs_background": "light"
          }
        },
        {
          "output_type": "display_data",
          "data": {
            "text/plain": [
              "<Figure size 432x288 with 1 Axes>"
            ],
            "image/png": "[encoded data removed]"
          },
          "metadata": {
            "needs_background": "light"
          }
        }
      ]
    },
    {
      "cell_type": "code",
      "source": [
        "elastic_regression = ElasticNet(alpha = 0.001, l1_ratio = 0.3, normalize = True)\n",
        "\n",
        "elastic_regression.fit(X_train, y_train)\n",
        "\n",
        "print(\"Coefficients : \\n\", elastic_regression.coef_, \"\\n\")\n",
        "\n",
        "train_pred_elastic = elastic_regression.predict(X_train)\n",
        "test_pred_elastic = elastic_regression.predict(X_test)\n",
        "\n",
        "print(\"Training Error of Elastic Regression Model :\", metrics.mean_squared_error(y_train, train_pred_elastic), \"\\n\")\n",
        "print(\"Generalisation Error of Elastic Regression Model :\", metrics.mean_squared_error(y_test, test_pred_elastic))"
      ],
      "metadata": {
        "colab": {
          "base_uri": "https://localhost:8080/"
        },
        "id": "gOPB5aue3WsY",
        "outputId": "8e66bfd3-48e3-4edd-f607-29763913f43d"
      },
      "execution_count": null,
      "outputs": [
        {
          "output_type": "stream",
          "name": "stdout",
          "text": [
            "Coefficients : \n",
            " [ 1.06566609e-01  2.38680373e-03  6.84439500e-03 -3.94822199e-03\n",
            " -2.51569274e-06 -6.49296803e-02 -2.04625089e-02 -4.28981486e-03] \n",
            "\n",
            "Training Error of Elastic Regression Model : 0.9948646996252336 \n",
            "\n",
            "Generalisation Error of Elastic Regression Model : 1.5502852179057978\n"
          ]
        }
      ]
    },
    {
      "cell_type": "code",
      "source": [
        "elastic_regression_cv = ElasticNetCV(l1_ratio = 0.7, n_alphas = 100, normalize = True)\n",
        "\n",
        "elastic_regression_cv.fit(X_train, y_train)\n",
        "\n",
        "print(\"Chosen regularisation parameter :\", ridge_regression_cv.alpha_, \"\\n\")\n",
        "\n",
        "print(\"Coefficients : \\n\", elastic_regression.coef_, \"\\n\")\n",
        "\n",
        "train_pred_elasticcv = elastic_regression.predict(X_train)\n",
        "test_pred_elasticcv = elastic_regression.predict(X_test)\n",
        "\n",
        "print(\"Alphas :\\n\", elastic_regression_cv.alphas_, \"\\n\")\n",
        "\n",
        "print(\"Training Error of Elastic Regression Model :\", metrics.mean_squared_error(y_train, train_pred_elasticcv), \"\\n\")\n",
        "print(\"Generalisation Error of Elastic Regression Model :\", metrics.mean_squared_error(y_test, test_pred_elasticcv))"
      ],
      "metadata": {
        "colab": {
          "base_uri": "https://localhost:8080/"
        },
        "id": "st7ffJpK3XRH",
        "outputId": "93f3e6e7-7bd0-4c0a-9be2-1d785b290ff7"
      },
      "execution_count": null,
      "outputs": [
        {
          "output_type": "stream",
          "name": "stdout",
          "text": [
            "Chosen regularisation parameter : 0.01 \n",
            "\n",
            "Coefficients : \n",
            " [ 1.06566609e-01  2.38680373e-03  6.84439500e-03 -3.94822199e-03\n",
            " -2.51569274e-06 -6.49296803e-02 -2.04625089e-02 -4.28981486e-03] \n",
            "\n",
            "Alphas :\n",
            " [1.76100359e-02 1.64231784e-02 1.53163112e-02 1.42840430e-02\n",
            " 1.33213463e-02 1.24235322e-02 1.15862277e-02 1.08053547e-02\n",
            " 1.00771100e-02 9.39794650e-03 8.76455636e-03 8.17385460e-03\n",
            " 7.62296415e-03 7.10920188e-03 6.63006547e-03 6.18322125e-03\n",
            " 5.76649283e-03 5.37785051e-03 5.01540139e-03 4.67738012e-03\n",
            " 4.36214035e-03 4.06814669e-03 3.79396722e-03 3.53826653e-03\n",
            " 3.29979921e-03 3.07740378e-03 2.86999707e-03 2.67656887e-03\n",
            " 2.49617709e-03 2.32794311e-03 2.17104753e-03 2.02472620e-03\n",
            " 1.88826643e-03 1.76100359e-03 1.64231784e-03 1.53163112e-03\n",
            " 1.42840430e-03 1.33213463e-03 1.24235322e-03 1.15862277e-03\n",
            " 1.08053547e-03 1.00771100e-03 9.39794650e-04 8.76455636e-04\n",
            " 8.17385460e-04 7.62296415e-04 7.10920188e-04 6.63006547e-04\n",
            " 6.18322125e-04 5.76649283e-04 5.37785051e-04 5.01540139e-04\n",
            " 4.67738012e-04 4.36214035e-04 4.06814669e-04 3.79396722e-04\n",
            " 3.53826653e-04 3.29979921e-04 3.07740378e-04 2.86999707e-04\n",
            " 2.67656887e-04 2.49617709e-04 2.32794311e-04 2.17104753e-04\n",
            " 2.02472620e-04 1.88826643e-04 1.76100359e-04 1.64231784e-04\n",
            " 1.53163112e-04 1.42840430e-04 1.33213463e-04 1.24235322e-04\n",
            " 1.15862277e-04 1.08053547e-04 1.00771100e-04 9.39794650e-05\n",
            " 8.76455636e-05 8.17385460e-05 7.62296415e-05 7.10920188e-05\n",
            " 6.63006547e-05 6.18322125e-05 5.76649283e-05 5.37785051e-05\n",
            " 5.01540139e-05 4.67738012e-05 4.36214035e-05 4.06814669e-05\n",
            " 3.79396722e-05 3.53826653e-05 3.29979921e-05 3.07740378e-05\n",
            " 2.86999707e-05 2.67656887e-05 2.49617709e-05 2.32794311e-05\n",
            " 2.17104753e-05 2.02472620e-05 1.88826643e-05 1.76100359e-05] \n",
            "\n",
            "Training Error of Elastic Regression Model : 0.9948646996252336 \n",
            "\n",
            "Generalisation Error of Elastic Regression Model : 1.5502852179057978\n"
          ]
        }
      ]
    },
    {
      "cell_type": "code",
      "source": [
        "def elastic(X_train, y_train, X_test, y_test, alpha):\n",
        "    elastic = ElasticNet(alpha = alpha, l1_ratio = 0.5, normalize = True)\n",
        "    elastic.fit(X_train, y_train)\n",
        "    return elastic.predict(X_test)\n",
        "\n",
        "alphas = np.array(elastic_regression_cv.alphas_)\n",
        "\n",
        "x = np.array(alphas)\n",
        "x_log = np.array([math.log(alpha, 10) for alpha in alphas])\n",
        "y = np.array([metrics.mean_squared_error(y_test, elastic(X_train, y_train, X_test, y_test, alpha)) for alpha in alphas])\n",
        "\n",
        "plt.plot(x, y)\n",
        "plt.title(\"Generalisation Error v/s Regularisation parameter\")\n",
        "plt.xlabel(\"Regularisation Parameter\")\n",
        "plt.ylabel(\"Generalisation Error\")\n",
        "plt.show()\n",
        "\n",
        "plt.plot(x_log, y)\n",
        "plt.title(\"Generalisation Error v/s Logarithm of Regularisation parameter\")\n",
        "plt.xlabel(\"log(Regularisation Parameter)\")\n",
        "plt.ylabel(\"Generalisation Error\")\n",
        "plt.show()"
      ],
      "metadata": {
        "colab": {
          "base_uri": "https://localhost:8080/",
          "height": 573
        },
        "id": "_bPahcWLCb9Q",
        "outputId": "b94222a5-43d5-445e-c8af-6406e997d49f"
      },
      "execution_count": null,
      "outputs": [
        {
          "output_type": "display_data",
          "data": {
            "text/plain": [
              "<Figure size 432x288 with 1 Axes>"
            ],
            "image/png": "[encoded data removed]"
          },
          "metadata": {
            "needs_background": "light"
          }
        },
        {
          "output_type": "display_data",
          "data": {
            "text/plain": [
              "<Figure size 432x288 with 1 Axes>"
            ],
            "image/png": "[encoded data removed]"
          },
          "metadata": {
            "needs_background": "light"
          }
        }
      ]
    }
  ]
}