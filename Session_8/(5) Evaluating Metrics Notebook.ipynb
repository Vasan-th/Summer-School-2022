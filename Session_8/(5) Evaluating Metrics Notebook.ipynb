{
  "nbformat": 4,
  "nbformat_minor": 0,
  "metadata": {
    "colab": {
      "name": "Evaluating Metrics",
      "provenance": [],
      "collapsed_sections": [],
      "toc_visible": true
    },
    "kernelspec": {
      "name": "python3",
      "display_name": "Python 3"
    },
    "accelerator": "GPU"
  },
  "cells": [
    {
      "cell_type": "markdown",
      "source": [
        "**Evaluating a model is a core part of building an effective machine learning model**\n",
        "\n",
        "Simply building a predictive model is not your motive. It’s about creating and selecting a model which gives high accuracy on out of sample data. Hence, it is crucial to check the accuracy of your model prior to computing predicted values."
      ],
      "metadata": {
        "id": "7FU_C7jaCsV0"
      }
    },
    {
      "metadata": {
        "id": "YjJmGxnbY9m9"
      },
      "cell_type": "markdown",
      "source": [
        "Lets start with importing libraries we will need in this notebook."
      ]
    },
    {
      "metadata": {
        "id": "eXSU_fk7RlEM"
      },
      "cell_type": "markdown",
      "source": [
        "### Importing libraries"
      ]
    },
    {
      "cell_type": "markdown",
      "source": [
        "`sklearn` Simple and effective tools for predictive data analysis.\n",
        "\n",
        "`seaborn` Python data visualization library based on matplotlib.\n",
        "\n",
        "`itertool` It is a module in Python, to interate over data structures."
      ],
      "metadata": {
        "id": "AtlUiusVCcNM"
      }
    },
    {
      "metadata": {
        "id": "Sx4KZX7cF8Yd"
      },
      "cell_type": "code",
      "source": [
        "import numpy as np\n",
        "import pandas as pd\n",
        "from sklearn.datasets import load_breast_cancer\n",
        "from sklearn.model_selection import train_test_split\n",
        "from sklearn import svm\n",
        "from sklearn import metrics\n",
        "import matplotlib.pyplot as plt\n",
        "import seaborn as sns\n",
        "import itertools\n",
        "\n",
        "np.random.seed(42)  # for reproducibility of code\n",
        "sns.set(rc={\"figure.figsize\": (8, 8)})\n",
        "sns.set_style(\"ticks\")"
      ],
      "execution_count": null,
      "outputs": []
    },
    {
      "metadata": {
        "id": "0pddJrEbRtbr"
      },
      "cell_type": "markdown",
      "source": [
        "### Dataset\n",
        "For comparing different metrics, we will use the [Breast Cancer Dataset](https://goo.gl/U2Uwz2). This dataset is used for binary classification between two types of cancer."
      ]
    },
    {
      "metadata": {
        "id": "glPEglrYGV6f",
        "colab": {
          "base_uri": "https://localhost:8080/"
        },
        "outputId": "84e17fb1-7b4a-4eba-ab47-e05017c487a8"
      },
      "cell_type": "code",
      "source": [
        "data = load_breast_cancer()\n",
        "print(data.DESCR[:760])  # gives a short description of dataset"
      ],
      "execution_count": null,
      "outputs": [
        {
          "output_type": "stream",
          "name": "stdout",
          "text": [
            ".. _breast_cancer_dataset:\n",
            "\n",
            "Breast cancer wisconsin (diagnostic) dataset\n",
            "--------------------------------------------\n",
            "\n",
            "**Data Set Characteristics:**\n",
            "\n",
            "    :Number of Instances: 569\n",
            "\n",
            "    :Number of Attributes: 30 numeric, predictive attributes and the class\n",
            "\n",
            "    :Attribute Information:\n",
            "        - radius (mean of distances from center to points on the perimeter)\n",
            "        - texture (standard deviation of gray-scale values)\n",
            "        - perimeter\n",
            "        - area\n",
            "        - smoothness (local variation in radius lengths)\n",
            "        - compactness (perimeter^2 / area - 1.0)\n",
            "        - concavity (severity of concave portions of the contour)\n",
            "        - concave points (number of concave portions of the contour)\n",
            "        - symmetry\n",
            "        - fractal dimension (\"coastline appr\n"
          ]
        }
      ]
    },
    {
      "metadata": {
        "id": "XQyaWAlhSTLL"
      },
      "cell_type": "markdown",
      "source": [
        "Let's see what are the targets classes i.e. types of cancer."
      ]
    },
    {
      "metadata": {
        "id": "bStQWeSOSSp2",
        "colab": {
          "base_uri": "https://localhost:8080/"
        },
        "outputId": "cc661365-db7b-4b5a-b261-6044a9709d3d"
      },
      "cell_type": "code",
      "source": [
        "print(f\"Types of cancer (targets) are {data.target_names}\")"
      ],
      "execution_count": null,
      "outputs": [
        {
          "output_type": "stream",
          "name": "stdout",
          "text": [
            "Types of cancer (targets) are ['malignant' 'benign']\n"
          ]
        }
      ]
    },
    {
      "metadata": {
        "id": "JizLx4ZfSZ-y"
      },
      "cell_type": "markdown",
      "source": [
        "What is the dimension of data? \n",
        "\n",
        " We see there are **569 examples** and each example has **30 features**.  \n",
        "The **target** variable is binary (**0** and **1** for `malignant` and `benign`).   "
      ]
    },
    {
      "metadata": {
        "id": "xG-br8XcHXHC",
        "colab": {
          "base_uri": "https://localhost:8080/"
        },
        "outputId": "0114d726-34a5-4a03-c29d-271d92b4c81e"
      },
      "cell_type": "code",
      "source": [
        "X = data.data  # features\n",
        "y = data.target  # labels of the target\n",
        "print(f\"Shape of features is {X.shape}, and shape of target is {y.shape}\")"
      ],
      "execution_count": null,
      "outputs": [
        {
          "output_type": "stream",
          "name": "stdout",
          "text": [
            "Shape of features is (569, 30), and shape of target is (569,)\n"
          ]
        }
      ]
    },
    {
      "metadata": {
        "id": "zpdfCVt8TW5K"
      },
      "cell_type": "markdown",
      "source": [
        "### Split the data\n",
        "Since we shouldn't train and test our model with the same dataset, we split the dataset into training and testing data, with 369 examples for training, and 200 examples for testing."
      ]
    },
    {
      "cell_type": "markdown",
      "source": [
        "`stratify` ensures that the dataset is split in such a way that the same proportions of examples is preserved in each class."
      ],
      "metadata": {
        "id": "6oUrsP2Tf81G"
      }
    },
    {
      "metadata": {
        "id": "QsgrNr2RINsN"
      },
      "cell_type": "code",
      "source": [
        "X_train, X_test, y_train, y_test = train_test_split(X, y, test_size=200, random_state=42, stratify=y)"
      ],
      "execution_count": null,
      "outputs": []
    },
    {
      "metadata": {
        "id": "YAU7JsyNJhc-",
        "colab": {
          "base_uri": "https://localhost:8080/"
        },
        "outputId": "a003eaf3-414e-4b4f-fd9a-34c5428c6b91"
      },
      "cell_type": "code",
      "source": [
        "y_train[:10]"
      ],
      "execution_count": null,
      "outputs": [
        {
          "output_type": "execute_result",
          "data": {
            "text/plain": [
              "array([1, 1, 1, 1, 0, 1, 1, 1, 0, 1])"
            ]
          },
          "metadata": {},
          "execution_count": 7
        }
      ]
    },
    {
      "metadata": {
        "id": "DVCi5RMsJE-O"
      },
      "cell_type": "markdown",
      "source": [
        "### Training and predicting data"
      ]
    },
    {
      "metadata": {
        "id": "4iRqwJU-TmIt"
      },
      "cell_type": "markdown",
      "source": [
        "In this example, we will use scikit's Support Vector Machines classifier to predict whether its a benign cancer.  \n",
        "`SVC` classifier is used from `sklearn.svm`. \n",
        "So basically we are using the SVM Linear classfier to predict whether it is benign or malignant cancer.\n",
        "`Suggestion` Try using other classifiers and compare the accuracies."
      ]
    },
    {
      "metadata": {
        "id": "4pKL5VoJKh8A"
      },
      "cell_type": "code",
      "source": [
        "classifier = svm.SVC(kernel='linear', probability=True, verbose=True)"
      ],
      "execution_count": null,
      "outputs": []
    },
    {
      "metadata": {
        "id": "6DwkhGMyT2BJ"
      },
      "cell_type": "markdown",
      "source": [
        "Next we fit/train the model on our _training dataset_. It trains quite fast since we are working with relatively small dataset."
      ]
    },
    {
      "metadata": {
        "id": "1rj0E-XnLWaH",
        "colab": {
          "base_uri": "https://localhost:8080/"
        },
        "outputId": "6bb66453-df2b-4fa6-d798-da997bb65cd1"
      },
      "cell_type": "code",
      "source": [
        "classifier.fit(X_train, y_train)"
      ],
      "execution_count": null,
      "outputs": [
        {
          "output_type": "stream",
          "name": "stdout",
          "text": [
            "[LibSVM]"
          ]
        },
        {
          "output_type": "execute_result",
          "data": {
            "text/plain": [
              "SVC(kernel='linear', probability=True, verbose=True)"
            ]
          },
          "metadata": {},
          "execution_count": 9
        }
      ]
    },
    {
      "cell_type": "markdown",
      "source": [
        "Once we have chosen and fit a Machine Learning Model, we can use it to make predictions on new data instances."
      ],
      "metadata": {
        "id": "omdMm3nvY1Fd"
      }
    },
    {
      "metadata": {
        "id": "hZvqwrrAT6UV"
      },
      "cell_type": "markdown",
      "source": [
        "Now save the prediction results both as probability and as classes.  \n",
        "**`y_preds`** is a **1D vector** of one of `{0, 1}` values, denoting predictions as malignant and benign, respectively.  \n",
        "**`y_proba`** is a **2D vector**, where for each example, it contains a vector of length 2,  \n",
        "`[prob. of malignant, prob. of benign]`"
      ]
    },
    {
      "cell_type": "markdown",
      "source": [
        "We can predict the class for new data instances using our finalized classification model using the predict() function. This gives us the class prediction.\n",
        "\n",
        "You can make these types of probability predictions by calling the predict_proba() function"
      ],
      "metadata": {
        "id": "wWBD3DdYZXkQ"
      }
    },
    {
      "metadata": {
        "id": "1PdjKHbfT6AX"
      },
      "cell_type": "code",
      "source": [
        "y_preds = classifier.predict(X_test)\n",
        "y_proba = classifier.predict_proba(X_test)"
      ],
      "execution_count": null,
      "outputs": []
    },
    {
      "metadata": {
        "id": "b-9Dsn3yGXx7"
      },
      "cell_type": "markdown",
      "source": [
        "We need to reshape `y_proba` to a 1D vector denoting the probability of having  `benign` cancer."
      ]
    },
    {
      "metadata": {
        "id": "To9oQknC19dh"
      },
      "cell_type": "code",
      "source": [
        "y_proba = y_proba[:,1].reshape((y_proba.shape[0],))"
      ],
      "execution_count": null,
      "outputs": []
    },
    {
      "metadata": {
        "id": "J_VDguyUL7fu",
        "colab": {
          "base_uri": "https://localhost:8080/"
        },
        "outputId": "b63cc69d-4608-4562-ca47-8a1aaaf915fd"
      },
      "cell_type": "code",
      "source": [
        "y_proba[:5], y_preds[:5], y_test[:5]"
      ],
      "execution_count": null,
      "outputs": [
        {
          "output_type": "execute_result",
          "data": {
            "text/plain": [
              "(array([0.99697263, 0.081367  , 0.99999168, 0.96809411, 0.99999907]),\n",
              " array([1, 0, 1, 1, 1]),\n",
              " array([1, 0, 1, 1, 1]))"
            ]
          },
          "metadata": {},
          "execution_count": 12
        }
      ]
    },
    {
      "metadata": {
        "id": "QM2WA4_FJfgT"
      },
      "cell_type": "markdown",
      "source": [
        "### Confusion Matrix"
      ]
    },
    {
      "metadata": {
        "id": "HEtVeYiBUDvH"
      },
      "cell_type": "markdown",
      "source": [
        "Let us calculate confusion matrix of the predictions. It is implemented in Scikit-learn's [`sklearn.metrics.confusion_matrix`](http://scikit-learn.org/stable/modules/generated/sklearn.metrics.confusion_matrix.html)."
      ]
    },
    {
      "metadata": {
        "id": "gXSq_kfcN8U8",
        "colab": {
          "base_uri": "https://localhost:8080/"
        },
        "outputId": "01b8cf42-b54b-4227-9cdf-111d5c79c5cd"
      },
      "cell_type": "code",
      "source": [
        "conf = metrics.confusion_matrix(y_test, y_preds)\n",
        "conf"
      ],
      "execution_count": null,
      "outputs": [
        {
          "output_type": "execute_result",
          "data": {
            "text/plain": [
              "array([[ 68,   7],\n",
              "       [  2, 123]])"
            ]
          },
          "metadata": {},
          "execution_count": 13
        }
      ]
    },
    {
      "metadata": {
        "id": "FISHOdmxqPXl"
      },
      "cell_type": "markdown",
      "source": [
        "We can also implement our own confusion matrix.  "
      ]
    },
    {
      "metadata": {
        "id": "e1yDrh9AqZjB"
      },
      "cell_type": "code",
      "source": [
        "def get_confusion_matrix(y_true, y_pred):\n",
        "    n_classes = len(np.unique(y_true))\n",
        "    conf = np.zeros((n_classes, n_classes))\n",
        "    for actual, pred in zip(y_true, y_pred):\n",
        "        conf[int(actual)][int(pred)] += 1\n",
        "    return conf.astype('int')"
      ],
      "execution_count": null,
      "outputs": []
    },
    {
      "metadata": {
        "id": "txQRtyAZrnbG",
        "colab": {
          "base_uri": "https://localhost:8080/"
        },
        "outputId": "80fe7c35-8cf0-4577-ff11-7d55c58ce9f2"
      },
      "cell_type": "code",
      "source": [
        "conf = get_confusion_matrix(y_test, y_preds)\n",
        "conf"
      ],
      "execution_count": null,
      "outputs": [
        {
          "output_type": "execute_result",
          "data": {
            "text/plain": [
              "array([[ 68,   7],\n",
              "       [  2, 123]])"
            ]
          },
          "metadata": {},
          "execution_count": 16
        }
      ]
    },
    {
      "metadata": {
        "id": "PiSZNOpnOeYu",
        "colab": {
          "base_uri": "https://localhost:8080/",
          "height": 332
        },
        "outputId": "7f9d6d59-74b7-48e5-d6d0-19477727d83a"
      },
      "cell_type": "code",
      "source": [
        "classes = [0, 1]\n",
        "# plot confusion matrix\n",
        "plt.imshow(conf, interpolation='nearest', cmap=plt.cm.Greens)\n",
        "plt.title(\"Confusion Matrix\")\n",
        "plt.colorbar()\n",
        "tick_marks = np.arange(len(classes))\n",
        "plt.xticks(tick_marks, classes)\n",
        "plt.yticks(tick_marks, classes)\n",
        "\n",
        "fmt = 'd'\n",
        "thresh = conf.max() / 2.\n",
        "for i, j in itertools.product(range(conf.shape[0]), range(conf.shape[1])):\n",
        "    plt.text(j, i, format(conf[i, j], fmt),\n",
        "             horizontalalignment=\"center\",\n",
        "             color=\"white\" if conf[i, j] > thresh else \"black\")\n",
        "\n",
        "plt.tight_layout()\n",
        "plt.ylabel('True label')\n",
        "plt.xlabel('Predicted label')"
      ],
      "execution_count": null,
      "outputs": [
        {
          "output_type": "execute_result",
          "data": {
            "text/plain": [
              "Text(0.5, 12.5, 'Predicted label')"
            ]
          },
          "metadata": {},
          "execution_count": 17
        },
        {
          "output_type": "display_data",
          "data": {
            "text/plain": [
              "<Figure size 432x288 with 2 Axes>"
            ],
            "image/png": "[encoded data removed]"
          },
          "metadata": {
            "needs_background": "light"
          }
        }
      ]
    },
    {
      "metadata": {
        "id": "v81eYMJ0UM29"
      },
      "cell_type": "markdown",
      "source": [
        "From the confusion matrix, we can see the number of examples predicted correct by our classifier, for both classes seperately.  \n",
        "We can get the numbers of `True Positives, True Negatives, False Positives, and False Negatives` from this confusion matrix.   \n",
        "Lets store these terms in some variables."
      ]
    },
    {
      "metadata": {
        "id": "gjTIQRccOr-A"
      },
      "cell_type": "code",
      "source": [
        "# from the confusion matrix\n",
        "TP = true_pos = 123\n",
        "TN = true_neg = 68\n",
        "FP = false_pos = 7\n",
        "FN = false_neg = 2"
      ],
      "execution_count": null,
      "outputs": []
    },
    {
      "metadata": {
        "id": "USDonfT5Jpr2"
      },
      "cell_type": "markdown",
      "source": [
        "### Some basic metrics"
      ]
    },
    {
      "metadata": {
        "id": "X5dcb4jEPpDR"
      },
      "cell_type": "markdown",
      "source": [
        "Now, we will calculate some basic metrics from these four values.  \n",
        "We will need a dictionary to store these metrics. Lets create a dictionary `results`."
      ]
    },
    {
      "metadata": {
        "id": "wFE2EKmxV_Xx"
      },
      "cell_type": "code",
      "source": [
        "results = {}"
      ],
      "execution_count": null,
      "outputs": []
    },
    {
      "metadata": {
        "id": "U6O_iUIHZqgj"
      },
      "cell_type": "markdown",
      "source": [
        "#### Accuracy \n",
        "number of examples correctly predicted / total number of examples  \n",
        "![alt text](https://wikimedia.org/api/rest_v1/media/math/render/svg/c72ec21ef2505c2d376e96197637fc64f75e5891)"
      ]
    },
    {
      "metadata": {
        "id": "4y3hcfI0WFfv",
        "colab": {
          "base_uri": "https://localhost:8080/"
        },
        "outputId": "ef84aaf1-9593-4fc4-ee64-befa8402d69c"
      },
      "cell_type": "code",
      "source": [
        "metric = \"ACC\"\n",
        "results[metric] = (TP + TN) / (TP + TN + FP + FN)\n",
        "print(f\"{metric} is {results[metric]: .3f}\")"
      ],
      "execution_count": null,
      "outputs": [
        {
          "output_type": "stream",
          "name": "stdout",
          "text": [
            "ACC is  0.955\n"
          ]
        }
      ]
    },
    {
      "metadata": {
        "id": "vjmFM1v_Z_a8"
      },
      "cell_type": "markdown",
      "source": [
        "#### True Positive Rate\n",
        "number of samples actually and predicted as  `Positive` / total number of samples actually `Positive`  \n",
        "Also called **Sensitivity or Recall**.  \n",
        "![alt text](https://wikimedia.org/api/rest_v1/media/math/render/svg/64d5540cbadeb83f864d7a731b7ab43cccd0f353)\n"
      ]
    },
    {
      "metadata": {
        "id": "q8JoI-S6WKMS",
        "colab": {
          "base_uri": "https://localhost:8080/"
        },
        "outputId": "50bfbdb4-d393-4144-f32a-aba69654eaf0"
      },
      "cell_type": "code",
      "source": [
        "# Sensitivity or Recall\n",
        "metric = \"TPR\"\n",
        "results[metric] = TP / (TP + FN)\n",
        "print(f\"{metric} is {results[metric]: .3f}\")"
      ],
      "execution_count": null,
      "outputs": [
        {
          "output_type": "stream",
          "name": "stdout",
          "text": [
            "TPR is  0.984\n"
          ]
        }
      ]
    },
    {
      "metadata": {
        "id": "f6y1c1SDa0Lg"
      },
      "cell_type": "markdown",
      "source": [
        "#### True Negative Rate\n",
        "number of samples actually and predicted as  `Negative` / total number of samples actually  `Negative`  \n",
        "Also called **Specificity**.  \n",
        "![alt text](https://wikimedia.org/api/rest_v1/media/math/render/svg/aac65b6586cb61c1268403895012c2a8f19b0c5e)\n"
      ]
    },
    {
      "metadata": {
        "id": "rkRmDKjSYLYE",
        "colab": {
          "base_uri": "https://localhost:8080/"
        },
        "outputId": "5788aab1-8c35-49c4-8ac0-a646844587de"
      },
      "cell_type": "code",
      "source": [
        "# Specificity\n",
        "metric = \"TNR\"\n",
        "results[metric] = TN / (TN + FP)\n",
        "print(f\"{metric} is {results[metric]: .3f}\")"
      ],
      "execution_count": null,
      "outputs": [
        {
          "output_type": "stream",
          "name": "stdout",
          "text": [
            "TNR is  0.907\n"
          ]
        }
      ]
    },
    {
      "metadata": {
        "id": "qK7WCIlpbDis"
      },
      "cell_type": "markdown",
      "source": [
        "#### Positive Predictive Value\n",
        "number of samples actually and predicted as  `Positive` / total number of samples predicted as `Positive`  \n",
        "Also called **Precision**.  \n",
        "![alt text](https://wikimedia.org/api/rest_v1/media/math/render/svg/699fcdb880b7f6a92742bc0845b8b60b59806a98)\n"
      ]
    },
    {
      "metadata": {
        "id": "lNgS7UwfYce9",
        "colab": {
          "base_uri": "https://localhost:8080/"
        },
        "outputId": "bf983800-c761-439e-cdfe-bdcbd3a96971"
      },
      "cell_type": "code",
      "source": [
        "# Precision\n",
        "metric = \"PPV\"\n",
        "results[metric] = TP / (TP + FP)\n",
        "print(f\"{metric} is {results[metric]: .3f}\")"
      ],
      "execution_count": null,
      "outputs": [
        {
          "output_type": "stream",
          "name": "stdout",
          "text": [
            "PPV is  0.946\n"
          ]
        }
      ]
    },
    {
      "metadata": {
        "id": "VBPShM1JdQpO"
      },
      "cell_type": "markdown",
      "source": [
        "#### Negative Predictive Value\n",
        "number of samples actually and predicted as  `Negative` / total number of samples predicted as `Negative`    \n",
        "![alt text](https://wikimedia.org/api/rest_v1/media/math/render/svg/b6da0f59faffbc1704974e97847ab4fa599f5521)\n"
      ]
    },
    {
      "metadata": {
        "id": "qAAhCMaOdsSn",
        "colab": {
          "base_uri": "https://localhost:8080/"
        },
        "outputId": "081151d5-e62b-42fa-ca96-58af0e9d5471"
      },
      "cell_type": "code",
      "source": [
        "metric = \"NPV\"\n",
        "results[metric] = TN / (TN + FN)\n",
        "print(f\"{metric} is {results[metric]: .3f}\")"
      ],
      "execution_count": null,
      "outputs": [
        {
          "output_type": "stream",
          "name": "stdout",
          "text": [
            "NPV is  0.971\n"
          ]
        }
      ]
    },
    {
      "metadata": {
        "id": "D6mxQtZyfIte"
      },
      "cell_type": "markdown",
      "source": [
        "#### F1 score\n",
        "Harmonic Mean of Precision and Recall.  \n",
        "![alt text](https://wikimedia.org/api/rest_v1/media/math/render/svg/5663ca95d471868169c4e4ea57c936f1b6f4a588)"
      ]
    },
    {
      "metadata": {
        "id": "8pNnIhEbdzFc",
        "colab": {
          "base_uri": "https://localhost:8080/"
        },
        "outputId": "df9935be-a545-4a1e-c0c4-658295e8df48"
      },
      "cell_type": "code",
      "source": [
        "metric = \"F1\"\n",
        "results[metric] = 2 / (1 / results[\"PPV\"] + 1 / results[\"TPR\"])\n",
        "print(f\"{metric} is {results[metric]: .3f}\")"
      ],
      "execution_count": null,
      "outputs": [
        {
          "output_type": "stream",
          "name": "stdout",
          "text": [
            "F1 is  0.965\n"
          ]
        }
      ]
    },
    {
      "metadata": {
        "id": "ZF98MS34edwA"
      },
      "cell_type": "markdown",
      "source": [
        "#### Matthew's correlation coefficient\n",
        "Matthew's coefficient range between `[-1, 1]`. `0` usually means totally random predictions. `1` means a perfect classifier, while a negative value (`[-1, 0)`) suggests a negative correlation between predictions and actual values. A negative value basically indicates that there exists a disagreement between the prediction and observation.  \n",
        "Here' the formual for MCC  \n",
        "![alt text](https://wikimedia.org/api/rest_v1/media/math/render/svg/5caa90fc15105b74b59a30bbc9cc2e5bd43a13b7)"
      ]
    },
    {
      "metadata": {
        "id": "IxtxoxxmgZxI",
        "colab": {
          "base_uri": "https://localhost:8080/"
        },
        "outputId": "a30bbb41-ab0e-43e2-f08b-91ec963590c2"
      },
      "cell_type": "code",
      "source": [
        "metric = \"MCC\"\n",
        "num = TP * TN - FP * FN\n",
        "den = ((TP + FP) * (TP + FN) * (TN + FP) * (TN + FN)) ** 0.5\n",
        "results[metric] = num / den\n",
        "print(f\"{metric} is {results[metric]: .3f}\")"
      ],
      "execution_count": null,
      "outputs": [
        {
          "output_type": "stream",
          "name": "stdout",
          "text": [
            "MCC is  0.904\n"
          ]
        }
      ]
    },
    {
      "metadata": {
        "id": "7UI7NWzcpu8p"
      },
      "cell_type": "markdown",
      "source": [
        "### ROC curve (Receiver Operating Characteristic curve)\n",
        " A receiver operating characteristic curve, i.e. **ROC curve**, is a graphical plot that illustrates the diagnostic ability of a binary classifier system as its discrimination threshold is varied.  \n",
        " The ROC curve is created by plotting the **True Positive Rate (TPR)** against the **False Positive Rate (FPR)** at various threshold settings.  \n",
        " Let's plot the ROC curve for the Breast Cancer Dataset.  \n",
        " "
      ]
    },
    {
      "metadata": {
        "id": "1-gXSQ_HrdnI"
      },
      "cell_type": "code",
      "source": [
        "def get_roc_curve(y_test, y_proba, delta=0.1):\n",
        "    \"\"\"\n",
        "    Return the True Positive Rates (TPRs), False Positive Rates (FPRs), \n",
        "    and the threshold values, seperated by delta.\n",
        "    \"\"\"\n",
        "    thresh = list(np.arange(0, 1, delta)) + [1]\n",
        "    TPRs = []\n",
        "    FPRs = []\n",
        "    y_pred = np.empty(y_proba.shape)\n",
        "    for th in thresh:\n",
        "        y_pred[y_proba < th] = 0\n",
        "        y_pred[y_proba >= th] = 1\n",
        "        \n",
        "        # confusion matrix from the function we defined\n",
        "        (TN, FP), (FN, TP) = get_confusion_matrix(y_test, y_pred)\n",
        "        \n",
        "        TPR = TP / (TP + FN)  # sensitivity\n",
        "        FPR = FP / (FP + TN)  # 1 - specificity\n",
        "        TPRs.append(TPR)\n",
        "        FPRs.append(FPR)\n",
        "    return FPRs, TPRs, thresh"
      ],
      "execution_count": null,
      "outputs": []
    },
    {
      "metadata": {
        "id": "W3iQtSMKJ63N"
      },
      "cell_type": "markdown",
      "source": [
        "Here, `delta` is the difference between each of the thresholds at which ROC curve is calculated."
      ]
    },
    {
      "metadata": {
        "id": "2zkIsIz31HGY"
      },
      "cell_type": "code",
      "source": [
        "delta = 0.001\n",
        "FPRs, TPRs, _ = get_roc_curve(y_test, y_proba, delta)"
      ],
      "execution_count": null,
      "outputs": []
    },
    {
      "metadata": {
        "id": "Igzm5LZDzsNZ",
        "colab": {
          "base_uri": "https://localhost:8080/",
          "height": 301
        },
        "outputId": "49d0fd27-0489-4d90-f8cf-72e3e0b0a935"
      },
      "cell_type": "code",
      "source": [
        "# Plot the ROC curve\n",
        "plt.plot(FPRs, TPRs, color='red',\n",
        "         lw=2, label='ROC curve')\n",
        "plt.plot([0, 1], [0, 1], color='navy', lw=2, linestyle='--', label=\"Mean\")\n",
        "plt.xlim([-0.05, 1.0])\n",
        "plt.ylim([0.0, 1.05])\n",
        "plt.xlabel('False Positive Rate')\n",
        "plt.ylabel('True Positive Rate')\n",
        "plt.title(f'ROC curve (threshold delta = {delta})')\n",
        "plt.legend(loc=\"lower right\")\n",
        "plt.show()"
      ],
      "execution_count": null,
      "outputs": [
        {
          "output_type": "display_data",
          "data": {
            "text/plain": [
              "<Figure size 432x288 with 1 Axes>"
            ],
            "image/png": "[encoded data removed]"
          },
          "metadata": {
            "needs_background": "light"
          }
        }
      ]
    },
    {
      "metadata": {
        "id": "q6B3omej42Rk"
      },
      "cell_type": "markdown",
      "source": [
        "The peak towards left-most corner means near perfect classifier, while random prediction will have the curve as the blue dotted straight line.  \n",
        "This ROC curve tells us that our model is nearly perfect classifier, with high accuracy :)"
      ]
    },
    {
      "metadata": {
        "id": "SW550-BH5nRb"
      },
      "cell_type": "markdown",
      "source": [
        "Let's calculate an ROC curve with random predictions, and plot it to see the difference."
      ]
    },
    {
      "metadata": {
        "id": "o6EvFVw655bo",
        "colab": {
          "base_uri": "https://localhost:8080/"
        },
        "outputId": "b6dc4292-3ae5-4b28-a777-a6a1a0754d1c"
      },
      "cell_type": "code",
      "source": [
        "# create random predictions\n",
        "rand_proba = np.random.random(size=(y_proba.shape))\n",
        "rand_proba[:5]  # 0.5 probability of being 0 or 1"
      ],
      "execution_count": null,
      "outputs": [
        {
          "output_type": "execute_result",
          "data": {
            "text/plain": [
              "array([0.79654299, 0.18343479, 0.779691  , 0.59685016, 0.44583275])"
            ]
          },
          "metadata": {},
          "execution_count": 31
        }
      ]
    },
    {
      "metadata": {
        "id": "ZNA8dltO6itt"
      },
      "cell_type": "code",
      "source": [
        "FPRs, TPRs, _ = get_roc_curve(y_test, rand_proba, delta)  # passing random preds"
      ],
      "execution_count": null,
      "outputs": []
    },
    {
      "metadata": {
        "id": "a-MFHXue2g4C",
        "colab": {
          "base_uri": "https://localhost:8080/",
          "height": 301
        },
        "outputId": "3f27f327-9385-4b16-b1ef-5e9c968398a3"
      },
      "cell_type": "code",
      "source": [
        "# Plot the ROC curve\n",
        "plt.plot(FPRs, TPRs, color='red',\n",
        "         lw=2, label='ROC curve')\n",
        "plt.plot([0, 1], [0, 1], color='navy', lw=2, linestyle='--', label=\"Mean\")\n",
        "plt.xlim([-0.05, 1.0])\n",
        "plt.ylim([0.0, 1.05])\n",
        "plt.xlabel('False Positive Rate')\n",
        "plt.ylabel('True Positive Rate')\n",
        "plt.title(f'Random Predictions ROC curve (threshold delta = {delta})')\n",
        "plt.legend(loc=\"lower right\")\n",
        "plt.show()\n"
      ],
      "execution_count": null,
      "outputs": [
        {
          "output_type": "display_data",
          "data": {
            "text/plain": [
              "<Figure size 432x288 with 1 Axes>"
            ],
            "image/png": "[encoded data removed]"
          },
          "metadata": {
            "needs_background": "light"
          }
        }
      ]
    },
    {
      "metadata": {
        "id": "JKHS-Skq-IPp"
      },
      "cell_type": "markdown",
      "source": [
        "As we can see from the above plot, random predictions give the ROC curve nearly at the mean.  \n",
        "Contrast it with the previous curve, how our model has top left peak, due to its superior performance."
      ]
    },
    {
      "metadata": {
        "id": "wcQXLrk68FC1"
      },
      "cell_type": "markdown",
      "source": [
        "### ROC-AUC score\n",
        "Now, that we know about ROC curve, what it represents, **AUC score** is very easy to understand.  \n",
        "AUC stands for **Area under the Curve**, which is nothing but the area under the ROC curve formed by the predictions.  \n",
        "As we saw, a totally random prediction will have AUC score `0.5`, while a perfect classifier will have AUC score of `1`. "
      ]
    },
    {
      "metadata": {
        "id": "JETH5mgtIs9Y"
      },
      "cell_type": "markdown",
      "source": [
        "Lets check the AUC score of our model."
      ]
    },
    {
      "metadata": {
        "id": "IJFx9ubwddpn"
      },
      "cell_type": "markdown",
      "source": [
        "We can calculate the **ROC-AUC score** by summing up the areas under each observation of FPRs and TPRs."
      ]
    },
    {
      "metadata": {
        "id": "cyx-Y4nPd6oL"
      },
      "cell_type": "code",
      "source": [
        "def get_roc_auc_score(y_test, y_proba):\n",
        "    \n",
        "    # use the function get_roc_curve that we created.\n",
        "    FPRs, TPRs, _ = get_roc_curve(y_test, y_proba)\n",
        "    FPRs.reverse()\n",
        "    TPRs.reverse()\n",
        "    x1, y1 = FPRs[0], TPRs[0]\n",
        "    auc = 0.0\n",
        "    prev = 0.0\n",
        "    # cumulative differences in x-axis\n",
        "    diffs = [FPRs[i] - FPRs[i-1] for i in range(1, len(FPRs))]\n",
        "    for x, y in zip(diffs, TPRs[1:]):\n",
        "        auc += (x * y1)  # area of rectangle\n",
        "        auc += (x * (y - y1)/2)  # area of triangle formed (if any)\n",
        "        y1 = y\n",
        "    return auc"
      ],
      "execution_count": null,
      "outputs": []
    },
    {
      "metadata": {
        "id": "pqucApZPjn9H",
        "colab": {
          "base_uri": "https://localhost:8080/"
        },
        "outputId": "8269b343-466f-45b6-c91c-086a62d271d5"
      },
      "cell_type": "code",
      "source": [
        "auc_score = get_roc_auc_score(y_test, y_proba)\n",
        "print(f\"Our ROC-AUC score of SVC model is {auc_score: .4f}\")"
      ],
      "execution_count": null,
      "outputs": [
        {
          "output_type": "stream",
          "name": "stdout",
          "text": [
            "Our ROC-AUC score of SVC model is  0.9874\n"
          ]
        }
      ]
    },
    {
      "metadata": {
        "id": "54g1PC2jK0MS"
      },
      "cell_type": "markdown",
      "source": [
        "This is a good ROC-AUC score as we expected. (Also pretty close to Scikit's implementation).  \n",
        "Lets try the ROC-AUC score of random predictions."
      ]
    },
    {
      "metadata": {
        "id": "p0970PIaLBYj",
        "colab": {
          "base_uri": "https://localhost:8080/"
        },
        "outputId": "80a6c520-7ee8-4bdf-c2d6-0e049de3691f"
      },
      "cell_type": "code",
      "source": [
        "auc_score = get_roc_auc_score(y_test, rand_proba)\n",
        "print(f\"Our ROC-AUC score of random predictions is:      {auc_score: .4f}\")"
      ],
      "execution_count": null,
      "outputs": [
        {
          "output_type": "stream",
          "name": "stdout",
          "text": [
            "Our ROC-AUC score of random predictions is:       0.5080\n"
          ]
        }
      ]
    },
    {
      "metadata": {
        "id": "Ara7jLPbLPXQ"
      },
      "cell_type": "markdown",
      "source": [
        "As expected, it is close to `0.5`.  \n",
        "(The minor differences are due to different granularity of thresholds chosen by us, and in Scikit's implementation. )"
      ]
    }
  ]
}