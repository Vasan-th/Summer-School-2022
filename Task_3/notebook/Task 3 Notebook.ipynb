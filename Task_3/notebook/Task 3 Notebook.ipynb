{
  "nbformat": 4,
  "nbformat_minor": 0,
  "metadata": {
    "colab": {
      "name": "Summer_School_Task_3_<name>.ipynb",
      "provenance": []
    },
    "kernelspec": {
      "name": "python3",
      "display_name": "Python 3"
    },
    "language_info": {
      "name": "python"
    }
  },
  "cells": [
    {
      "cell_type": "markdown",
      "source": [
        "# Imports & Setup"
      ],
      "metadata": {
        "id": "L-mNOzBUm1BY"
      }
    },
    {
      "cell_type": "code",
      "source": [
        "from IPython.display import clear_output\n",
        "\n",
        "!wget https://storage.googleapis.com/wandb_datasets/nature_12K.zip\n",
        "!unzip /content/nature_12K.zip\n",
        "\n",
        "clear_output()"
      ],
      "metadata": {
        "id": "vZpBxSYMmzrG"
      },
      "execution_count": null,
      "outputs": []
    },
    {
      "cell_type": "code",
      "source": [
        "from PIL import Image\n",
        "\n",
        "import os\n",
        "from glob import glob\n",
        "import time\n",
        "\n",
        "\n",
        "import torch\n",
        "import torch.nn as nn\n",
        "import torch.nn.functional as F\n",
        "import torch.optim as optim\n",
        "from torch.utils.data import Dataset\n",
        "from torch.utils.data import DataLoader\n",
        "import torchvision.transforms as transforms\n",
        "from torchsummary import summary"
      ],
      "metadata": {
        "id": "DvB6NNxsnJyi"
      },
      "execution_count": 3,
      "outputs": []
    },
    {
      "cell_type": "markdown",
      "source": [
        "# Dataloader\n",
        "\n",
        "- Dataset Class for Setting up the data loading process\n",
        "- Sections to fill in this script: `_init_transform()`"
      ],
      "metadata": {
        "id": "9oQ_qcF9nxWy"
      }
    },
    {
      "cell_type": "code",
      "source": [
        "class inaturalist(Dataset):\n",
        "    def __init__(self, root_dir, mode = 'train', transform = True):\n",
        "        self.data_dir = root_dir\n",
        "        self.mode = mode\n",
        "        self.transforms = transform      \n",
        "        self._init_dataset()\n",
        "        if transform:\n",
        "            self._init_transform()\n",
        "\n",
        "    def _init_dataset(self):\n",
        "        self.files = []\n",
        "        self.labels = []\n",
        "        dirs = sorted(os.listdir(os.path.join(self.data_dir, 'train')))\n",
        "        if self.mode == 'train': \n",
        "            for dir in range(len(dirs)):\n",
        "                files = sorted(glob(os.path.join(self.data_dir, 'train', dirs[dir], '*.jpg')))\n",
        "                self.labels += [dir]*len(files)            \n",
        "                self.files += files\n",
        "        elif self.mode == 'val':\n",
        "            for dir in range(len(dirs)):\n",
        "                files = sorted(glob(os.path.join(self.data_dir, 'val', dirs[dir], '*.jpg')))\n",
        "                self.labels += [dir]*len(files)            \n",
        "                self.files += files\n",
        "        else:\n",
        "            print(\"No Such Dataset Mode\")\n",
        "            return None\n",
        "    \n",
        "    def _init_transform(self):\n",
        "        self.transform = transforms.Compose([\n",
        "            # Useful link for this part: https://pytorch.org/vision/stable/transforms.html\n",
        "            #----------------YOUR CODE HERE---------------------#\n",
        "        ])\n",
        "    \n",
        "    def __getitem__(self, index):\n",
        "        img = Image.open(self.files[index]).convert('RGB')\n",
        "        label = self.labels[index]\n",
        "\n",
        "        if self.transforms:\n",
        "            img = self.transform(img)\n",
        "\n",
        "        label = torch.tensor(label, dtype = torch.long)\n",
        "\n",
        "        return img, label\n",
        "\n",
        "    def __len__(self):\n",
        "        return len(self.files)"
      ],
      "metadata": {
        "id": "0xJnjBM-ntqN"
      },
      "execution_count": 4,
      "outputs": []
    },
    {
      "cell_type": "markdown",
      "source": [
        "# Model\n",
        "\n",
        "- Class to define the model which we will use for training\n",
        "- Stuff to fill in: The Architecture of your model, the `forward` function to define the forward pass\n",
        "\n",
        "NOTE!: You are NOT allowed to use pretrained models for this task"
      ],
      "metadata": {
        "id": "HJccgV5Knzi6"
      }
    },
    {
      "cell_type": "code",
      "source": [
        "class Classifier(nn.Module):\n",
        "    def __init__(self, n_classes):\n",
        "        super(Classifier, self).__init__()\n",
        "        # Useful Link: https://pytorch.org/docs/stable/nn.html\n",
        "        #------------ENTER YOUR MODEL HERE----------------#        \n",
        "\n",
        "    def forward(self, x):\n",
        "        #---------Assuming x to be the input to the model, define the forward pass-----------#\n",
        "        return F.softmax(x)"
      ],
      "metadata": {
        "id": "XBCH7l47nyo6"
      },
      "execution_count": 5,
      "outputs": []
    },
    {
      "cell_type": "markdown",
      "source": [
        "# Training\n",
        "\n",
        "- Sections to Fill: Define `loss` function, `optimizer` and model, `train` and `eval` functions and the training loop\n"
      ],
      "metadata": {
        "id": "4i3bFLsdoF1_"
      }
    },
    {
      "cell_type": "markdown",
      "source": [
        "## Hyperparameters\n",
        "\n",
        "Feel free to change these hyperparams based on your machine's capactiy"
      ],
      "metadata": {
        "id": "CSnVvW2XoUtS"
      }
    },
    {
      "cell_type": "code",
      "source": [
        "batch_size = 32\n",
        "epochs = 10\n",
        "learning_rate = 0.001\n",
        "device = torch.device('cuda' if torch.cuda.is_available() else 'cpu')"
      ],
      "metadata": {
        "id": "VOZBwxHUn1jl"
      },
      "execution_count": 6,
      "outputs": []
    },
    {
      "cell_type": "markdown",
      "source": [
        "## Dataloader"
      ],
      "metadata": {
        "id": "gZqeVDE4oZ0H"
      }
    },
    {
      "cell_type": "code",
      "source": [
        "trainset = inaturalist(root_dir='Data/inaturalist_12K', mode='train')\n",
        "valset = inaturalist(root_dir='Data/inaturalist_12K', mode = 'val')\n",
        "\n",
        "trainloader = DataLoader(trainset, batch_size=batch_size, shuffle=True, num_workers=4)\n",
        "valloader = DataLoader(valset, batch_size=1, shuffle=False, num_workers=4)"
      ],
      "metadata": {
        "id": "Dmsg0xP8oYTR"
      },
      "execution_count": null,
      "outputs": []
    },
    {
      "cell_type": "markdown",
      "source": [
        "## Loss Function and Optimizer"
      ],
      "metadata": {
        "id": "QBhjYABpobqY"
      }
    },
    {
      "cell_type": "code",
      "source": [
        "# USEFUL LINK: https://pytorch.org/docs/stable/nn.html#loss-functions\n",
        "#---Define the loss function to use, model object and the optimizer for training---#"
      ],
      "metadata": {
        "id": "c8LY3Yiloe4M"
      },
      "execution_count": 7,
      "outputs": []
    },
    {
      "cell_type": "markdown",
      "source": [
        "## Checkpoints\n",
        "\n",
        "To save your model weights"
      ],
      "metadata": {
        "id": "M9bEWwU-ohzG"
      }
    },
    {
      "cell_type": "code",
      "source": [
        "checkpoint_dir = 'checkpoints'\n",
        "if not os.path.isdir(checkpoint_dir):\n",
        "    os.makedirs(checkpoint_dir)"
      ],
      "metadata": {
        "id": "6t5vtHaLofac"
      },
      "execution_count": 8,
      "outputs": []
    },
    {
      "cell_type": "markdown",
      "source": [
        "## Utility Functions"
      ],
      "metadata": {
        "id": "VTLTwpfmopqu"
      }
    },
    {
      "cell_type": "code",
      "source": [
        "def get_model_summary(model, input_tensor_shape):\n",
        "    summary(model, input_tensor_shape)\n",
        "\n",
        "def accuracy(y_pred, y):\n",
        "    _, predicted = torch.max(y_pred.data, 1)\n",
        "    total = y.size(0)\n",
        "    correct = (predicted == y).sum().item()\n",
        "    return correct/total\n",
        "\n",
        "def epoch_time(start_time, end_time):\n",
        "    elapsed_time = end_time - start_time\n",
        "    elapsed_mins = int(elapsed_time / 60)\n",
        "    elapsed_secs = int(elapsed_time - (elapsed_mins * 60))\n",
        "    return elapsed_mins, elapsed_secs"
      ],
      "metadata": {
        "id": "cM9OFbjjojax"
      },
      "execution_count": 12,
      "outputs": []
    },
    {
      "cell_type": "markdown",
      "source": [
        "## Train"
      ],
      "metadata": {
        "id": "SCr-_BHxosFO"
      }
    },
    {
      "cell_type": "code",
      "source": [
        "def train(model, dataset, optimizer, criterion, device):\n",
        "    '''\n",
        "    Write the function to train the model for one epoch\n",
        "    Feel free to use the accuracy function defined above as an extra metric to track\n",
        "    '''\n",
        "    #------YOUR CODE HERE-----#"
      ],
      "metadata": {
        "id": "MaSzNltYorsv"
      },
      "execution_count": 10,
      "outputs": []
    },
    {
      "cell_type": "markdown",
      "source": [
        "## Eval"
      ],
      "metadata": {
        "id": "OadZ2Iwmouui"
      }
    },
    {
      "cell_type": "code",
      "source": [
        "def eval(model, dataset, criterion, device):\n",
        "    '''\n",
        "    Write the function to validate the model after each epoch\n",
        "    Feel free to use the accuracy function defined above as an extra metric to track\n",
        "    '''\n",
        "    #------YOUR CODE HERE-----#"
      ],
      "metadata": {
        "id": "8NKlJQpIouM5"
      },
      "execution_count": 11,
      "outputs": []
    },
    {
      "cell_type": "markdown",
      "source": [
        "## Training"
      ],
      "metadata": {
        "id": "i1AIrmEeozK4"
      }
    },
    {
      "cell_type": "code",
      "source": [
        "best_valid_loss = float('inf')\n",
        "\n",
        "for epoch in range(epochs):\n",
        "    \n",
        "    start_time = time.monotonic()\n",
        "    \n",
        "    '''\n",
        "    Insert code to train and evaluate the model (Hint: use the functions you previously made :P)\n",
        "    Also save the weights of the model in the checkpoint directory\n",
        "    '''\n",
        "    #------YOUR CODE HERE-----#\n",
        "\n",
        "    end_time = time.monotonic()\n",
        "    epoch_mins, epoch_secs = epoch_time(start_time, end_time)\n",
        "\n",
        "    print(\"\\n\\n\\n TIME TAKEN FOR THE EPOCH: {} mins and {} seconds\".format(epoch_mins, epoch_secs))\n",
        "\n",
        "\n",
        "print(\"OVERALL TRAINING COMPLETE\")"
      ],
      "metadata": {
        "colab": {
          "base_uri": "https://localhost:8080/"
        },
        "id": "GfFkPREqov9j",
        "outputId": "7fd0180e-d3fe-4120-fa2a-83ea68fa3046"
      },
      "execution_count": 13,
      "outputs": [
        {
          "output_type": "stream",
          "name": "stdout",
          "text": [
            "\n",
            "\n",
            "\n",
            " TIME TAKEN FOR THE EPOCH: 0 mins and 0 seconds\n",
            "\n",
            "\n",
            "\n",
            " TIME TAKEN FOR THE EPOCH: 0 mins and 0 seconds\n",
            "\n",
            "\n",
            "\n",
            " TIME TAKEN FOR THE EPOCH: 0 mins and 0 seconds\n",
            "\n",
            "\n",
            "\n",
            " TIME TAKEN FOR THE EPOCH: 0 mins and 0 seconds\n",
            "\n",
            "\n",
            "\n",
            " TIME TAKEN FOR THE EPOCH: 0 mins and 0 seconds\n",
            "\n",
            "\n",
            "\n",
            " TIME TAKEN FOR THE EPOCH: 0 mins and 0 seconds\n",
            "\n",
            "\n",
            "\n",
            " TIME TAKEN FOR THE EPOCH: 0 mins and 0 seconds\n",
            "\n",
            "\n",
            "\n",
            " TIME TAKEN FOR THE EPOCH: 0 mins and 0 seconds\n",
            "\n",
            "\n",
            "\n",
            " TIME TAKEN FOR THE EPOCH: 0 mins and 0 seconds\n",
            "\n",
            "\n",
            "\n",
            " TIME TAKEN FOR THE EPOCH: 0 mins and 0 seconds\n",
            "OVERALL TRAINING COMPLETE\n"
          ]
        }
      ]
    },
    {
      "cell_type": "code",
      "source": [
        ""
      ],
      "metadata": {
        "id": "xJEmmbNqo13e"
      },
      "execution_count": null,
      "outputs": []
    }
  ]
}